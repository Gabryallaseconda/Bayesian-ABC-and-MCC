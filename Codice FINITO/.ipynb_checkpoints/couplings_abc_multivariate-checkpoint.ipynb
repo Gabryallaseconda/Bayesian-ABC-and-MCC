{
 "cells": [
  {
   "cell_type": "markdown",
   "id": "5224199b-6994-43c5-a296-f35e25679978",
   "metadata": {},
   "source": [
    "# Markov Chain Monte Carlo with Couplings and Approximate Bayesian Computation, parallelized, multivariate mean Gaussian "
   ]
  },
  {
   "cell_type": "markdown",
   "id": "8c0606a6-8bb5-4536-a398-b9c8213f61a8",
   "metadata": {},
   "source": [
    "## Modules importing"
   ]
  },
  {
   "cell_type": "code",
   "execution_count": 1,
   "id": "7dc0c76c-1f63-458d-89cd-c0ecd1a7b2f1",
   "metadata": {},
   "outputs": [
    {
     "name": "stderr",
     "output_type": "stream",
     "text": [
      "2022-01-09 10:51:39.189335: W tensorflow/stream_executor/platform/default/dso_loader.cc:64] Could not load dynamic library 'libcudart.so.11.0'; dlerror: libcudart.so.11.0: cannot open shared object file: No such file or directory\n",
      "2022-01-09 10:51:39.189362: I tensorflow/stream_executor/cuda/cudart_stub.cc:29] Ignore above cudart dlerror if you do not have a GPU set up on your machine.\n"
     ]
    }
   ],
   "source": [
    "# system modules\n",
    "import os\n",
    "import time\n",
    "\n",
    "# mathematical and statistical modules\n",
    "import math\n",
    "import numpy as np\n",
    "import pandas as pd\n",
    "import scipy.stats as sstat\n",
    "#from mpmath import mp\n",
    "\n",
    "# tensorflow modules\n",
    "import tensorflow_probability.substrates.numpy as tfp\n",
    "import tensorflow_probability.substrates.numpy.distributions as tfd\n",
    "import tensorflow.random as tfr\n",
    "\n",
    "# visualization and plotting modules\n",
    "import matplotlib.pyplot as plt\n",
    "import seaborn as sns\n",
    "\n",
    "# parallelization modules \n",
    "from multiprocessing import Process, Queue, SimpleQueue"
   ]
  },
  {
   "cell_type": "markdown",
   "id": "1e1fd425-d2c3-4bd7-9b4e-667eacda8395",
   "metadata": {},
   "source": [
    "## Settings and data"
   ]
  },
  {
   "cell_type": "markdown",
   "id": "53aa99e7-4cb4-4221-8fb7-84ef84fabebc",
   "metadata": {},
   "source": [
    "### Parameters"
   ]
  },
  {
   "cell_type": "code",
   "execution_count": 2,
   "id": "404b012a-ac1e-4a57-85c2-8e7f03bbf1af",
   "metadata": {},
   "outputs": [],
   "source": [
    "#data\n",
    "number_of_data     = 100\n",
    "observations_mean  = np.array([10. , 20.])\n",
    "observations_sd    = np.sqrt(5.) \n",
    "\n",
    "#prior\n",
    "prior_mean = np.array([12., 18.])\n",
    "prior_sd = 3\n",
    "\n",
    "#mcmc setting\n",
    "#x_start = np.array([14., 23.])\n",
    "#y_start = np.array([ 8., 16.])\n",
    "iterations = 600\n",
    "burnout = 100\n",
    "\n",
    "# coupling tolerance\n",
    "chains_matching_tolerance = 1e-3\n",
    "\n",
    "# time averaged estimator parameter\n",
    "test_function_h = lambda x: x"
   ]
  },
  {
   "cell_type": "markdown",
   "id": "297a389d-8ab0-4074-965c-8c934298828a",
   "metadata": {},
   "source": [
    "### Funcion creations"
   ]
  },
  {
   "cell_type": "markdown",
   "id": "49cffef4-3cf7-4ebc-bcf2-f1a4dc74be05",
   "metadata": {},
   "source": [
    "#### Generation of data\n",
    "Data are generated and placed in the variable \"observations_y\"; those data will be used in the likelihood function."
   ]
  },
  {
   "cell_type": "code",
   "execution_count": 3,
   "id": "2b19420d-b3ba-4ae5-818b-3a1e3eb026de",
   "metadata": {},
   "outputs": [
    {
     "data": {
      "text/plain": [
       "(2, 100)"
      ]
     },
     "execution_count": 3,
     "metadata": {},
     "output_type": "execute_result"
    }
   ],
   "source": [
    "observations_y = np.array(\n",
    "    np.random.multivariate_normal(\n",
    "        mean=observations_mean, \n",
    "        cov=(observations_sd**2)*np.eye(2), \n",
    "        size=number_of_data\n",
    "    )\n",
    ")\n",
    "observations_y = np.transpose(observations_y)\n",
    "observations_y.shape"
   ]
  },
  {
   "cell_type": "code",
   "execution_count": 4,
   "id": "5296c879-712d-403f-9cc8-ad7e5c577d9f",
   "metadata": {},
   "outputs": [],
   "source": [
    "def single_likelihood_prob(mean, value):\n",
    "    return sstat.multivariate_normal(mean, (observations_sd**2)*np.eye(2)).pdf(value)\n",
    "\n",
    "\n",
    "def single_likelihood_sample(mean, value):\n",
    "    array = sstat.multivariate_normal(mean, (observations_sd**2)*np.eye(2)).rvs(value)\n",
    "    return np.transpose(array)\n",
    "\n",
    "\n",
    "def likelihood(mu):\n",
    "    tau = 1/(observations_sd**2)\n",
    "    return np.exp(  \n",
    "        -(tau/2)*( \n",
    "            number_of_data * (mu - observations_mean)**2 \n",
    "            + np.sum( (np.transpose(observations_y) - observations_mean)**2, axis = 0) \n",
    "            )  \n",
    "        ) * 10.**10 #this coefficient is to avoid annihilation - it's a rescale\n",
    "\n",
    "def prior(value):\n",
    "    dimensionality =  prior_mean.shape[0]\n",
    "    return tfd.MultivariateNormalTriL(\n",
    "        loc = prior_mean, \n",
    "        scale_tril = prior_sd*np.eye(dimensionality)\n",
    "        ).prob(value)\n",
    "\n",
    "#def prior_sampling(value):\n",
    "#    dimensionality =  prior_mean.shape[0]\n",
    "#    return tfd.MultivariateNormalTriL(\n",
    "#        loc = prior_mean, \n",
    "#        scale_tril = prior_sd*np.eye(dimensionality)\n",
    "#        ).sample(value)\n",
    "\n",
    "def prior_sampling():\n",
    "    dimensionality =  prior_mean.shape[0]\n",
    "    return sstat.multivariate_normal(\n",
    "        prior_mean, \n",
    "        (prior_sd**2)*np.eye(dimensionality)\n",
    "        ).rvs(1)\n",
    "\n",
    "def proposal_prob(mean, value):\n",
    "    return sstat.multivariate_normal(mean, (observations_sd**2)*np.eye(2)).pdf(value)\n",
    "\n",
    "\n",
    "def proposal_sample(mean):\n",
    "    return sstat.multivariate_normal(mean, (observations_sd**2)*np.eye(2)).rvs(1)\n",
    "\n",
    "def kernel(u):\n",
    "    return 1/(np.sqrt(2*math.pi))*np.exp(-1/2*u**2)\n",
    "\n",
    "def K_h(u,h):\n",
    "    return kernel(u/h)/h\n",
    "\n",
    "def S1(y):\n",
    "    quantiles=np.empty(9)\n",
    "    for i in range(9):\n",
    "        quantiles[i] = np.quantile(\n",
    "            y,\n",
    "            0.1*(i+1)\n",
    "        ) \n",
    "    return quantiles\n",
    "\n",
    "def S2(y):\n",
    "      return np.mean(y, axis=1)"
   ]
  },
  {
   "cell_type": "markdown",
   "id": "3cfe4508-7392-4142-a180-cfa7ac2eaa70",
   "metadata": {},
   "source": [
    "### Target distribution: posterior function\n",
    "posterior proportional to likelihood times prior distribution"
   ]
  },
  {
   "cell_type": "code",
   "execution_count": 5,
   "id": "8aea1bf8-3abb-4739-8b0c-562e0c4da7ca",
   "metadata": {
    "tags": []
   },
   "outputs": [],
   "source": [
    "def target(value):\n",
    "    return likelihood(value)*prior(value)"
   ]
  },
  {
   "cell_type": "code",
   "execution_count": 6,
   "id": "600fca3f-9c69-4df2-99ed-72ce1dce68b9",
   "metadata": {},
   "outputs": [
    {
     "data": {
      "text/plain": [
       "array([1.01049017e-13, 1.05014033e-15])"
      ]
     },
     "execution_count": 6,
     "metadata": {},
     "output_type": "execute_result"
    }
   ],
   "source": [
    "target([10., 20.])"
   ]
  },
  {
   "cell_type": "markdown",
   "id": "067ff4c5-d9f3-45e8-a4e2-021ce616f3aa",
   "metadata": {},
   "source": [
    "## Functions"
   ]
  },
  {
   "cell_type": "markdown",
   "id": "9120084e-e867-4de4-a48f-6128814a89f8",
   "metadata": {},
   "source": [
    "### Maximal coupling of Q\n",
    "The algorithm:\n",
    "1)  \n",
    "    1) sample $X \\sim p$\n",
    "    2) sample $W|X \\sim \\mathcal{U}\\{[0,p(X)]\\}$ \\\n",
    "    if $W\\leq q(X)$ then output $(X,X)$\n",
    "2)  otherwise\n",
    "    1) sample $Y^\\star \\sim q$\n",
    "    2) sample $W^\\star | Y^\\star \\sim \\mathcal{U}\\{[0, q(Y^\\star)]\\}$ \\\n",
    "    until $W^\\star > p(Y^\\star)$ and output $(X,Y^\\star)$\n",
    "   "
   ]
  },
  {
   "cell_type": "code",
   "execution_count": 7,
   "id": "ac35a816-97e2-4935-bfde-0a9fd313ec36",
   "metadata": {},
   "outputs": [],
   "source": [
    "def maximal_coupling(x,y):     \n",
    "    #check dimensionality consistency\n",
    "    if len(x) != len(y):\n",
    "        raise NameError('Dimensionality mismatch!') \n",
    "    \n",
    "    dimensionality = len(x)\n",
    "\n",
    "    #sampling of X - point 1.A\n",
    "    #the new candidate is sampled from a normal centered in the given value\n",
    "    #x_candidate = np.random.multivariate_normal(mean=x, cov=np.eye(dimensionality), size=1)\n",
    "    x_candidate = sstat.multivariate_normal(x,np.eye(dimensionality)).rvs(1)\n",
    "    \n",
    "    #sampling of W|X - point 1.B\n",
    "    #evaluate pdf centered in x with scale 1 in x_cadidate\n",
    "    pX = sstat.multivariate_normal(x,np.eye(dimensionality)).pdf(x_candidate)\n",
    "    W = tfd.Uniform(0,pX).sample()\n",
    "    #sampling from uniform is inside the cycle on parameters \n",
    "    \n",
    "    # evaluation of qx - point 1 IF\n",
    "    qX = sstat.multivariate_normal(y, np.eye(dimensionality)).pdf(x_candidate)\n",
    "    \n",
    "    if W < qX:\n",
    "        x = x_candidate\n",
    "        y = x_candidate\n",
    "    else:\n",
    "        while True:\n",
    "            #sampling of Y* - point 2.A\n",
    "            y_candidate = sstat.multivariate_normal(y,np.eye(dimensionality)).rvs(1)\n",
    "\n",
    "            #sampling of W* - point 2.B\n",
    "            qY = sstat.multivariate_normal(y, np.eye(dimensionality)).pdf(y_candidate)\n",
    "            W =  tfd.Uniform(0,qY).sample()\n",
    "\n",
    "            # evaluation of py - point 2\n",
    "            pY = sstat.multivariate_normal(x,np.eye(dimensionality)).pdf(y_candidate)\n",
    "            if W > pY :\n",
    "                break\n",
    "\n",
    "        x = x_candidate\n",
    "        y = y_candidate\n",
    "\n",
    "    return (x, y)"
   ]
  },
  {
   "cell_type": "code",
   "execution_count": 8,
   "id": "88ec44e6-039e-4c0f-ba92-351931c50de5",
   "metadata": {},
   "outputs": [],
   "source": [
    "def maximal_coupling_abc(x,y):     \n",
    "    #check dimensionality consistency\n",
    "    if len(x) != len(y):\n",
    "        raise NameError('Dimensionality mismatch!') \n",
    "    \n",
    "    dimensionality = len(x)\n",
    "\n",
    "    #sampling of X - point 1.A\n",
    "    #the new candidate is sampled from a normal centered in the given value\n",
    "    #x_candidate = np.random.multivariate_normal(mean=x, cov=np.eye(dimensionality), size=1)\n",
    "    x_candidate = single_likelihood_sample(x, 1)\n",
    "    \n",
    "    #sampling of W|X - point 1.B\n",
    "    #evaluate pdf centered in x with scale 1 in x_cadidate\n",
    "    pX = single_likelihood_prob(x, x_candidate)\n",
    "    W = tfd.Uniform(0,pX).sample()\n",
    "    #sampling from uniform is inside the cycle on parameters \n",
    "    \n",
    "    # evaluation of qx - point 1 IF\n",
    "    qX = single_likelihood_prob(y, x_candidate)\n",
    "    if W < qX:\n",
    "        x = x_candidate\n",
    "        y = x_candidate\n",
    "    else:\n",
    "        while True:\n",
    "            #sampling of Y* - point 2.A\n",
    "            y_candidate = single_likelihood_sample(y, 1)\n",
    "\n",
    "            #sampling of W* - point 2.B\n",
    "            qY = single_likelihood_prob(y, y_candidate)\n",
    "            W =  tfd.Uniform(0,qY).sample()\n",
    "\n",
    "            # evaluation of py - point 2\n",
    "            pY = single_likelihood_prob(x, y_candidate)\n",
    "            if W > pY :\n",
    "                break\n",
    "\n",
    "        x = x_candidate\n",
    "        y = y_candidate\n",
    "\n",
    "    return (x, y)"
   ]
  },
  {
   "cell_type": "markdown",
   "id": "3031eaff-cea9-4b42-8116-5b02d3881222",
   "metadata": {},
   "source": [
    "### Metropolis Hastings\n",
    "The algorithm:\n",
    "1) sample $(X^\\star, Y^\\star) | (X_t, Y_{t-1})$ from a maximal coupling of $q(X_t, \\cdot)$ and $q(Y_{t-1}, \\cdot)$\n",
    "2) sample $U \\sim \\mathcal{U}([0,1])$,\n",
    "3) if $$ U\n",
    " \t\t\t\t\\leq \\min\\bigg \\{\n",
    " \t\t\t\t1,\n",
    " \t\t\t\t\\frac{ \\pi(X^\\star)q(X^\\star,X_t)}{\n",
    " \t\t\t\t\t\\pi(X_t)q(X_t, X^\\star)}\n",
    " \t\t\t\t\\bigg \\} $$ then $X_{t+1} = X^\\star$; otherwise $X_t = X_{t-1}$;\n",
    "4) if $$ U\t\\leq \\min\\bigg \\{ \n",
    " \t\t\t\t1,\n",
    " \t\t\t\t\\frac{ \\pi(Y^\\star)q(Y^\\star,Y_t)}{\n",
    " \t\t\t\t\t\\pi(Y_t)q(Y_t, Y^\\star)}\n",
    " \t\t\t\t\\bigg \\} $$\n",
    "    then $Y_{t+1} = Y^\\star$; otherwise $Y_t = Y_{t-1}$.\n",
    "   "
   ]
  },
  {
   "cell_type": "code",
   "execution_count": 9,
   "id": "b7204cb2-cba3-40fa-8faa-33d5d62c0202",
   "metadata": {},
   "outputs": [],
   "source": [
    "def metropolis_hastings(iterations, observations_y, S, h):\n",
    "    \n",
    "    x = prior_sampling()\n",
    "    y = prior_sampling()\n",
    "    # check dimensionality consistency\n",
    "    if len(x) != len(y):\n",
    "        raise NameError('Dimensionality mismatch!') \n",
    "    \n",
    "    dimensionality = len(x)\n",
    "    \n",
    "    x = np.array(x)  # problema di compatibilità\n",
    "    y = np.array(y)\n",
    "    \n",
    "    # initializing empty np arrays\n",
    "    X = np.empty([dimensionality, iterations])\n",
    "    Y = np.empty([dimensionality, iterations])\n",
    "    \n",
    "    #ABC\n",
    "    size_abc = 100\n",
    "    \n",
    "    X_abc = np.empty([dimensionality, size_abc])\n",
    "    Y_abc = np.empty([dimensionality, size_abc])\n",
    "    \n",
    "    observations_s = S(observations_y)\n",
    "\n",
    "    for j in range (size_abc):\n",
    "        (X_abc[:,j], Y_abc[:,j]) = maximal_coupling_abc(x,y)\n",
    "    \n",
    "    sx = S(X_abc)\n",
    "    sy = S(Y_abc)\n",
    "    \n",
    "        \n",
    "    while K_h(np.linalg.norm(sx - observations_s, ord = 2),h) <= 0:\n",
    "        x = prior_sampling()\n",
    "        sx = S( single_likelihood_sample(x, size_abc) )\n",
    "\n",
    "    while K_h(np.linalg.norm(sy - observations_s, ord = 2),h) <= 0:\n",
    "        y = prior_sampling()\n",
    "        sy = S(single_likelihood_sample(y, size_abc))\n",
    "        \n",
    "    x = np.array(x)  # problema di compatibilità\n",
    "    y = np.array(y)\n",
    "\n",
    "    for i in range(iterations):\n",
    "        # sample from maximal coupling - point 1\n",
    "        (x_candidate, y_candidate) = maximal_coupling(x, y) #da qui deve uscire già multivariato\n",
    "        x_candidate = np.array(x_candidate)\n",
    "        y_candidate = np.array(y_candidate)\n",
    "        \n",
    "        #ABC start\n",
    "        #X_abc = np.empty([dimensionality, size_abc])\n",
    "        #Y_abc = np.empty([dimensionality, size_abc])\n",
    "        \n",
    "        for j in range(size_abc):\n",
    "            (X_abc[:,j], Y_abc[:,j]) = maximal_coupling_abc(x_candidate, y_candidate)\n",
    "        \n",
    "        sx_candidate = S(X_abc) \n",
    "        sy_candidate = S(Y_abc)\n",
    "        \n",
    "           \n",
    "        #print('lmao')\n",
    "        #print(X_prob_abc)\n",
    "        #print(Y_prob_abc)\n",
    "        # sample from a uniform - point 2\n",
    "        u = tfd.Uniform(0,1).sample()\n",
    "        \n",
    "        X_prob_abc = min(\n",
    "                [1.,(\n",
    "                     K_h(np.linalg.norm(sx_candidate - observations_s),h)*\n",
    "                     prior(x_candidate)\n",
    "                 )/(\n",
    "                     K_h(np.linalg.norm(sx - observations_s),h)*\n",
    "                     prior(x)\n",
    "                )]\n",
    "            )\n",
    "\n",
    "        Y_prob_abc = min(\n",
    "                [1.,(\n",
    "                    K_h(np.linalg.norm(sy_candidate - observations_s),h)*\n",
    "                    prior(y_candidate)\n",
    "                )/(\n",
    "                    K_h(np.linalg.norm(sy - observations_s),h)*\n",
    "                    prior(y)\n",
    "                )]\n",
    "            )\n",
    "\n",
    "        # points 3 and 4 are to be executed on all the parameters which determine the dimensionality\n",
    "        #for param in range(dimensionality):\n",
    "        # check if the sampling of X is accepted or to consider the previous - point 3\n",
    "        \n",
    "\n",
    "        if u < X_prob_abc :\n",
    "            x = x_candidate\n",
    "            sx = sx_candidate\n",
    "\n",
    "        X[:,i]=x\n",
    "\n",
    "        if u < Y_prob_abc :\n",
    "            y = y_candidate\n",
    "            sy = sy_candidate\n",
    "\n",
    "        Y[:, i] = y\n",
    "          \n",
    "    return X, Y"
   ]
  },
  {
   "cell_type": "markdown",
   "id": "d6e0b530-77f3-4551-affa-79f2a7aba316",
   "metadata": {
    "tags": []
   },
   "source": [
    "### Time Averaged estimator\n",
    "The algorithm:\n",
    "1) draw $X_0$ and $Y_0$ from an initial distribution $\\pi_0$ and draw $X_1 \\sim P(X_0, \\cdot)$;\n",
    "2) set $t=1$: while $t<\\max\\{m,\\tau\\}$ and:\n",
    "    1) draw $(X_{t+1}, Y_t)\\sim \\bar P \\{(X_t, Y_{t-1}), \\cdot \\}$; \n",
    "    2) set $t \\leftarrow t+1$;\n",
    "3) compute the time-averaged estimator:\n",
    "\t$$ H_{k:m}(X,Y)\n",
    "\t \t\t= \\frac{1}{m-k+1}\\sum_{l=k}^{m}h(X_l) \n",
    "\t \t\t+ \\sum_{l=k+1}^{\\tau -1}\\min(1, \\frac{l-k}{m-k+1})\\{h(X_l)-h(Y_{l-1})\\} .\n",
    "\t \t\t$$"
   ]
  },
  {
   "cell_type": "code",
   "execution_count": 10,
   "id": "f8396cbe-5186-4872-8b50-82b8afaf8488",
   "metadata": {},
   "outputs": [],
   "source": [
    "def time_averaged_estimator(red_chain, blue_chain, iterations, burnout, meeting_time):\n",
    "    #this function calculates only the formula at point 3\n",
    "    \n",
    "    #first addend\n",
    "    first_sum = 0\n",
    "    for i in range(burnout, iterations):\n",
    "        first_sum += test_function_h(red_chain[i])\n",
    "    \n",
    "    #second addend\n",
    "    second_sum = 0\n",
    "    if meeting_time-1 > burnout + 1:\n",
    "        for i in range(burnout + 1, meeting_time):\n",
    "            # calculing the coefficient, and the min\n",
    "            coef = (1-burnout)(iterations - burnout + 1)\n",
    "            if coef > 1:\n",
    "                coef = 1\n",
    "            second_sum += coef * (test_function_h(red_chain[i])- test_function_h(blue_chain[i]))\n",
    "            \n",
    "    return (1/(iterations - burnout + 1))*first_sum + second_sum\n",
    "    "
   ]
  },
  {
   "cell_type": "markdown",
   "id": "733d43b3-f427-4683-a6f1-35a1a8646791",
   "metadata": {},
   "source": [
    "### Parallelized operations\n",
    "This function is given to each available processor"
   ]
  },
  {
   "cell_type": "code",
   "execution_count": 11,
   "id": "608973e4-9983-4894-a375-a7409cfb01f6",
   "metadata": {},
   "outputs": [],
   "source": [
    "def parallelized_operations(iterations, observations_y, S, h, burnout, chains_matching_tolerance, q_chain, q_meeting_time, q_time_averaged_estimator):\n",
    "    # setting a random seed - otherwise multiprocessing has the same seed and so they end up in the same chains!\n",
    "    np.random.seed(int(os.getpid() * time.time()) % 123456789 )\n",
    "    tfr.set_seed(int(os.getpid() * time.time()) % 123456789 )\n",
    "    \n",
    "    #running metropolis hastings and obtaining two chains\n",
    "    (red_chain, blue_chain) = metropolis_hastings(iterations, observations_y, S, h)\n",
    "    \n",
    "    #get the dimensionality from one of the chains\n",
    "    dimensionality = red_chain.shape[0]\n",
    "\n",
    "    #finding the meeting time\n",
    "    meeting_time = iterations + 2\n",
    "    for i in range(0, iterations):\n",
    "        if (abs(red_chain[:,i]-blue_chain[:,i]).all() < chains_matching_tolerance) & \\\n",
    "            (abs(red_chain[:,i]-blue_chain[:,i]).all() < chains_matching_tolerance) & \\\n",
    "            (abs(red_chain[:,i]-blue_chain[:,i]).all() < chains_matching_tolerance):\n",
    "            meeting_time = i\n",
    "            break\n",
    "    \n",
    "    #checking if the chains met\n",
    "    if meeting_time == iterations+2:\n",
    "        print('Matching did not occurred!')\n",
    "        print(meeting_time)\n",
    "        return\n",
    "    \n",
    "    #checking if the chains met before burnout\n",
    "    if meeting_time >= burnout:\n",
    "        print('Meeting time occurs after burnout iterations!')\n",
    "        print(meeting_time)\n",
    "        return\n",
    "    \n",
    "    time_averaged_estimation = np.empty(dimensionality)\n",
    "    \n",
    "    for param in range(dimensionality):\n",
    "        time_averaged_estimation[param] = time_averaged_estimator(\n",
    "            red_chain[param,], \n",
    "            blue_chain[param,], \n",
    "            iterations, burnout, meeting_time\n",
    "        )\n",
    "    #print(red_chain)\n",
    "    q_chain.put( red_chain )\n",
    "    q_meeting_time.put( meeting_time )\n",
    "    q_time_averaged_estimator.put( time_averaged_estimation )\n",
    "    \n",
    "    return\n",
    "\n",
    "    "
   ]
  },
  {
   "cell_type": "markdown",
   "id": "5ab2fa33-4b3d-4673-80ee-7c7a697a3315",
   "metadata": {},
   "source": [
    "## Execution"
   ]
  },
  {
   "cell_type": "markdown",
   "id": "9cde0351-dc7f-44e7-87fc-71718cf2062e",
   "metadata": {},
   "source": [
    "### Multiprocessing settings"
   ]
  },
  {
   "cell_type": "code",
   "execution_count": 12,
   "id": "ca5d7d45-3181-42f8-8bfd-a7d3974db2a7",
   "metadata": {},
   "outputs": [
    {
     "data": {
      "text/plain": [
       "4"
      ]
     },
     "execution_count": 12,
     "metadata": {},
     "output_type": "execute_result"
    }
   ],
   "source": [
    "# this returns the number of available processors\n",
    "num_processes = os.cpu_count()-4\n",
    "num_processes"
   ]
  },
  {
   "cell_type": "code",
   "execution_count": 13,
   "id": "bca66c26-aced-49ee-b31c-7fc80de4daf5",
   "metadata": {},
   "outputs": [],
   "source": [
    "# this set the number of iteration, it should be a multiple of the number of available processors\n",
    "num_batches_set = 40 #16*1 #set this\n",
    "num_batches = num_batches_set"
   ]
  },
  {
   "cell_type": "code",
   "execution_count": 14,
   "id": "3f86a375-80cc-4cf4-a85d-5b8d1e2d1995",
   "metadata": {},
   "outputs": [],
   "source": [
    "# this initialize a shared memory between processors\n",
    "# note of Queue(maxsize = 0)\n",
    "q_chain = SimpleQueue()\n",
    "q_meeting_time = SimpleQueue()\n",
    "q_time_averaged_estimator = SimpleQueue()"
   ]
  },
  {
   "cell_type": "markdown",
   "id": "1bef141c-6e1e-469a-b762-aae40d030673",
   "metadata": {},
   "source": [
    "### Multiprocessing execution"
   ]
  },
  {
   "cell_type": "code",
   "execution_count": 15,
   "id": "33a4a10f-1c87-44f3-88a2-20ab3147cdde",
   "metadata": {},
   "outputs": [
    {
     "name": "stdout",
     "output_type": "stream",
     "text": [
      "There are 40 left\n",
      "There are 36 left\n",
      "There are 32 left\n",
      "There are 28 left\n",
      "There are 24 left\n",
      "There are 20 left\n",
      "There are 16 left\n",
      "There are 12 left\n",
      "There are 8 left\n",
      "There are 4 left\n",
      "All processes are complete!\n"
     ]
    }
   ],
   "source": [
    "dimensionality = observations_y.shape[0] #observations has inverted shape! NO, in this code is correect!\n",
    "\n",
    "samplings = np.empty([dimensionality, 0])#np.empty([dimensionality, 0])\n",
    "time_averaged_estimation_sum = 0\n",
    "meeting_times = np.empty(0)\n",
    "correct_chains = 0\n",
    "\n",
    "while num_batches > 0:\n",
    "    \n",
    "    print(\"There are \" + str(num_batches) + \" left\")\n",
    "    \n",
    "    if num_batches >= num_processes:\n",
    "        current_number_processes = num_processes\n",
    "    else:\n",
    "        current_number_processes = num_batches\n",
    "    \n",
    "    processes = []\n",
    "    for batch in range(current_number_processes):\n",
    "        p = Process(\n",
    "            target = parallelized_operations, \n",
    "            args = (iterations,  \n",
    "                    observations_y, S2, 0.2,\n",
    "                    burnout, \n",
    "                    chains_matching_tolerance, \n",
    "                    q_chain, q_meeting_time, q_time_averaged_estimator)\n",
    "        )\n",
    "        processes.append(p)\n",
    "\n",
    "    num_batches -= current_number_processes\n",
    "    \n",
    "    # Starting the processes in a batch\n",
    "    for p in processes:\n",
    "        p.start()\n",
    "        time.sleep(0.1)\n",
    "\n",
    "    # This assures that each process in the batch is complete\n",
    "    for p in processes:\n",
    "        p.join()\n",
    "\n",
    "    #unfolding queues\n",
    "    while not q_chain.empty():\n",
    "        red_chain = q_chain.get()\n",
    "        #print('lmao')\n",
    "        #print(red_chain)\n",
    "        samplings = np.append(\n",
    "            samplings,\n",
    "            red_chain[:,burnout :],\n",
    "            axis = 1\n",
    "        )\n",
    "\n",
    "        meeting_time = q_meeting_time.get()\n",
    "        time_averaged_estimation = q_time_averaged_estimator.get()\n",
    "        \n",
    "        if meeting_time <= burnout: #this to avoid a biased time averaged estimator\n",
    "            time_averaged_estimation_sum += time_averaged_estimation\n",
    "            correct_chains += 1\n",
    "        \n",
    "        meeting_times = np.append(\n",
    "            meeting_times,\n",
    "            meeting_time\n",
    "        )\n",
    "    \n",
    "del q_chain, q_meeting_time, q_time_averaged_estimator\n",
    "print('All processes are complete!')"
   ]
  },
  {
   "cell_type": "markdown",
   "id": "4f637d1f-9d0f-43ad-9074-f49f894035b1",
   "metadata": {
    "tags": []
   },
   "source": [
    "### Output and plotting"
   ]
  },
  {
   "cell_type": "code",
   "execution_count": 16,
   "id": "622e9eba-af9e-4179-b0ef-8a581b23ed24",
   "metadata": {},
   "outputs": [
    {
     "data": {
      "text/plain": [
       "array([18., 24., 17., 29.,  8., 16., 19., 36.,  1.,  3., 20., 18., 10.,\n",
       "       18., 21., 13.,  1., 23., 12.,  6.,  9.,  2.,  4., 21.,  5., 17.,\n",
       "       28., 36.,  8., 14., 13.,  5.,  9.,  5., 13., 18.,  4., 12.,  2.,\n",
       "       24.])"
      ]
     },
     "execution_count": 16,
     "metadata": {},
     "output_type": "execute_result"
    }
   ],
   "source": [
    "meeting_times"
   ]
  },
  {
   "cell_type": "code",
   "execution_count": 17,
   "id": "ddd9f633-f6c8-42c5-8157-8f505d7ebafd",
   "metadata": {},
   "outputs": [
    {
     "data": {
      "text/plain": [
       "40"
      ]
     },
     "execution_count": 17,
     "metadata": {},
     "output_type": "execute_result"
    }
   ],
   "source": [
    "len(meeting_times)"
   ]
  },
  {
   "cell_type": "code",
   "execution_count": 18,
   "id": "c2b10958-e5c8-4cc6-b4b9-114337f52443",
   "metadata": {},
   "outputs": [
    {
     "data": {
      "text/plain": [
       "0"
      ]
     },
     "execution_count": 18,
     "metadata": {},
     "output_type": "execute_result"
    }
   ],
   "source": [
    "num_batches_set-len(meeting_times)"
   ]
  },
  {
   "cell_type": "code",
   "execution_count": 19,
   "id": "03e050d8-49f0-4c07-a0a2-28f408932437",
   "metadata": {},
   "outputs": [
    {
     "data": {
      "text/plain": [
       "array([ 9.71338826, 19.5243195 ])"
      ]
     },
     "execution_count": 19,
     "metadata": {},
     "output_type": "execute_result"
    }
   ],
   "source": [
    "time_averaged_estimation_mean = time_averaged_estimation_sum/correct_chains\n",
    "time_averaged_estimation_mean"
   ]
  },
  {
   "cell_type": "code",
   "execution_count": 20,
   "id": "d1dade66-2d0d-4919-94f0-77a1aa946c6c",
   "metadata": {},
   "outputs": [
    {
     "data": {
      "text/plain": [
       "40000"
      ]
     },
     "execution_count": 20,
     "metadata": {},
     "output_type": "execute_result"
    }
   ],
   "source": [
    "samplings.size"
   ]
  },
  {
   "cell_type": "code",
   "execution_count": 21,
   "id": "0972b174-c9db-402b-affd-a96c9bdab751",
   "metadata": {},
   "outputs": [
    {
     "data": {
      "image/png": "[encoded data removed]",
      "text/plain": [
       "<Figure size 432x288 with 1 Axes>"
      ]
     },
     "metadata": {
      "needs_background": "light"
     },
     "output_type": "display_data"
    }
   ],
   "source": [
    "for param in range(samplings.shape[0]):\n",
    "    plt.plot(samplings[param,:])"
   ]
  },
  {
   "cell_type": "code",
   "execution_count": 22,
   "id": "c35c9807-9717-440e-94f8-d68517828a97",
   "metadata": {},
   "outputs": [
    {
     "data": {
      "image/png": "[encoded data removed]",
      "text/plain": [
       "<Figure size 432x288 with 1 Axes>"
      ]
     },
     "metadata": {
      "needs_background": "light"
     },
     "output_type": "display_data"
    }
   ],
   "source": [
    "for param in range(samplings.shape[0]):\n",
    "    plt.hist(samplings[param,:], bins = 10)"
   ]
  },
  {
   "cell_type": "code",
   "execution_count": 23,
   "id": "248fbd38-4fbf-463f-891b-70900f681114",
   "metadata": {},
   "outputs": [
    {
     "data": {
      "text/plain": [
       "(2, 20000)"
      ]
     },
     "execution_count": 23,
     "metadata": {},
     "output_type": "execute_result"
    }
   ],
   "source": [
    "samplings.shape"
   ]
  },
  {
   "cell_type": "code",
   "execution_count": 24,
   "id": "7f6c1bb7-794e-4bb1-9f18-c53066d1d3dc",
   "metadata": {},
   "outputs": [
    {
     "data": {
      "text/plain": [
       "[<matplotlib.lines.Line2D at 0x7feffb720c40>]"
      ]
     },
     "execution_count": 24,
     "metadata": {},
     "output_type": "execute_result"
    },
    {
     "data": {
      "image/png": "[encoded data removed]",
      "text/plain": [
       "<Figure size 432x288 with 1 Axes>"
      ]
     },
     "metadata": {
      "needs_background": "light"
     },
     "output_type": "display_data"
    }
   ],
   "source": [
    "plt.plot(samplings[0,:])"
   ]
  },
  {
   "cell_type": "code",
   "execution_count": 25,
   "id": "7db22f8d-a7a3-4db3-a14b-587d59f40d62",
   "metadata": {},
   "outputs": [
    {
     "data": {
      "text/plain": [
       "[<matplotlib.lines.Line2D at 0x7feffb692910>]"
      ]
     },
     "execution_count": 25,
     "metadata": {},
     "output_type": "execute_result"
    },
    {
     "data": {
      "image/png": "[encoded data removed]",
      "text/plain": [
       "<Figure size 432x288 with 1 Axes>"
      ]
     },
     "metadata": {
      "needs_background": "light"
     },
     "output_type": "display_data"
    }
   ],
   "source": [
    "plt.plot(samplings[1,:])"
   ]
  },
  {
   "cell_type": "code",
   "execution_count": 26,
   "id": "2674b442-f722-43da-814a-4b708b89c657",
   "metadata": {},
   "outputs": [
    {
     "data": {
      "text/plain": [
       "array([9.55441809, 9.55441809, 9.55441809, ..., 9.8142339 , 9.8142339 ,\n",
       "       9.8142339 ])"
      ]
     },
     "execution_count": 26,
     "metadata": {},
     "output_type": "execute_result"
    }
   ],
   "source": [
    "samplings[0,:]"
   ]
  },
  {
   "cell_type": "code",
   "execution_count": null,
   "id": "abb2ef85-6784-4bd0-9a3f-ea35589ff8c1",
   "metadata": {},
   "outputs": [],
   "source": []
  },
  {
   "cell_type": "markdown",
   "id": "7d105963-20ff-4c59-8f74-32d77c57588f",
   "metadata": {
    "id": "eE_C-AyEdYpj"
   },
   "source": [
    "## plot first feature:\n"
   ]
  },
  {
   "cell_type": "code",
   "execution_count": 56,
   "id": "afd5c8c3-d0d1-4c8d-90ad-3b603fc66543",
   "metadata": {
    "id": "hYIUQfdOdmwL"
   },
   "outputs": [],
   "source": [
    "sns.set_theme(style=\"darkgrid\")\n",
    "plt.rcParams[\"figure.figsize\"] = (12,4)"
   ]
  },
  {
   "cell_type": "code",
   "execution_count": 57,
   "id": "5f9b0a34-04df-47c6-88e8-69ae5bd68465",
   "metadata": {
    "colab": {
     "base_uri": "https://localhost:8080/"
    },
    "id": "SR7jHqC3drFR",
    "outputId": "0dc6d019-c141-41b5-d8c3-6ce9c537fff0"
   },
   "outputs": [
    {
     "data": {
      "text/plain": [
       "(2, 20000)"
      ]
     },
     "execution_count": 57,
     "metadata": {},
     "output_type": "execute_result"
    }
   ],
   "source": [
    "samplings.shape"
   ]
  },
  {
   "cell_type": "code",
   "execution_count": 58,
   "id": "c4b69a85-aba5-46a0-bab8-80247421fe8c",
   "metadata": {
    "colab": {
     "base_uri": "https://localhost:8080/"
    },
    "id": "abb2ef85-6784-4bd0-9a3f-ea35589ff8c1",
    "outputId": "f55a4540-723a-4c48-9ca6-33979a4e0935"
   },
   "outputs": [
    {
     "data": {
      "text/plain": [
       "array([9.55441809, 9.55441809, 9.55441809, ..., 9.8142339 , 9.8142339 ,\n",
       "       9.8142339 ])"
      ]
     },
     "execution_count": 58,
     "metadata": {},
     "output_type": "execute_result"
    }
   ],
   "source": [
    "samplings[0,:]"
   ]
  },
  {
   "cell_type": "code",
   "execution_count": 59,
   "id": "6791b4b0-a569-4158-b113-707cac2679f7",
   "metadata": {
    "colab": {
     "base_uri": "https://localhost:8080/",
     "height": 268
    },
    "id": "8c124200-5209-47be-8025-6b24b094043a",
    "outputId": "52aa45e8-a2fc-4e06-b260-7af31bbbba01"
   },
   "outputs": [
    {
     "data": {
      "image/png": "[encoded data removed]",
      "text/plain": [
       "<Figure size 864x288 with 1 Axes>"
      ]
     },
     "metadata": {},
     "output_type": "display_data"
    }
   ],
   "source": [
    "plt.plot(samplings[0,:])\n",
    "plt.savefig('mcmc_coupling_abc_sampling_first.png')"
   ]
  },
  {
   "cell_type": "code",
   "execution_count": 60,
   "id": "8c266c39-a2f9-4ccf-94cd-8d36c7ae9a83",
   "metadata": {
    "colab": {
     "base_uri": "https://localhost:8080/",
     "height": 269
    },
    "id": "4aeb12d8-3d34-4968-b98e-389559c96775",
    "outputId": "cda0f96d-88b6-4480-ec20-7cbd2e015b92"
   },
   "outputs": [
    {
     "data": {
      "image/png": "[encoded data removed]",
      "text/plain": [
       "<Figure size 864x288 with 1 Axes>"
      ]
     },
     "metadata": {},
     "output_type": "display_data"
    }
   ],
   "source": [
    "sns.histplot(samplings[0,:])\n",
    "plt.savefig('mcmc_coupling_abc_sampling_histogram_first.png')"
   ]
  },
  {
   "cell_type": "code",
   "execution_count": 61,
   "id": "caabcf96-783d-4463-8b45-6a42d4dcf23a",
   "metadata": {
    "id": "2e565470-57fe-4db0-aee1-c11b8941b230"
   },
   "outputs": [],
   "source": [
    "(red_chain, blue_chain) = metropolis_hastings(iterations, observations_y, S2, 0.2)"
   ]
  },
  {
   "cell_type": "code",
   "execution_count": 62,
   "id": "03252815-2d7d-49a4-9219-f97c56c89c1b",
   "metadata": {
    "colab": {
     "base_uri": "https://localhost:8080/"
    },
    "id": "M9lM4qmneHJn",
    "outputId": "ea7830df-74cd-4de6-fe6d-94160227de2e"
   },
   "outputs": [
    {
     "data": {
      "text/plain": [
       "(2, 800)"
      ]
     },
     "execution_count": 62,
     "metadata": {},
     "output_type": "execute_result"
    }
   ],
   "source": [
    "red_chain.shape"
   ]
  },
  {
   "cell_type": "code",
   "execution_count": 63,
   "id": "d6961786-f1be-434b-960f-f3f447f392bf",
   "metadata": {
    "colab": {
     "base_uri": "https://localhost:8080/",
     "height": 268
    },
    "id": "a06ca1d0-4f97-4bcc-91d9-8ac646e45168",
    "outputId": "c3ded6e0-296d-4a3e-bb85-708c17c1400e"
   },
   "outputs": [
    {
     "data": {
      "image/png": "[encoded data removed]",
      "text/plain": [
       "<Figure size 864x288 with 1 Axes>"
      ]
     },
     "metadata": {},
     "output_type": "display_data"
    }
   ],
   "source": [
    "plt.plot(red_chain[0,:])\n",
    "plt.plot(blue_chain[0,:])\n",
    "plt.savefig('mcmc_coupling_abc_chain_meeting_first.png')"
   ]
  },
  {
   "cell_type": "code",
   "execution_count": 64,
   "id": "0addc63e-5939-4d75-960e-7d16df0493f0",
   "metadata": {
    "id": "233c9216-4673-4be2-9cd7-f850c025ebdd",
    "tags": []
   },
   "outputs": [],
   "source": [
    "#data\n",
    "number_of_data     = 100\n",
    "observations_mean  = np.array([10. , 20.])\n",
    "observations_sd    = np.sqrt(5.) \n",
    "\n",
    "#prior\n",
    "prior_mean = np.array([12., 18.])\n",
    "prior_sd = 3\n",
    "\n",
    "#mcmc setting\n",
    "#x_start = np.array([14., 23.])\n",
    "#y_start = np.array([ 8., 16.])\n",
    "iterations = 800\n",
    "burnout = 100\n",
    "\n",
    "# coupling tolerance\n",
    "chains_matching_tolerance = 1e-3\n",
    "\n",
    "# time averaged estimator parameter\n",
    "test_function_h = lambda x: x\n"
   ]
  },
  {
   "cell_type": "code",
   "execution_count": 65,
   "id": "94880f6e-5fe7-4fa0-8672-4be7da22cd3b",
   "metadata": {
    "id": "a3195aea-9f5d-4169-85fc-310000a84737"
   },
   "outputs": [],
   "source": [
    "y = observations_y \n",
    "sigma0 = prior_sd\n",
    "sigma_obs = observations_sd\n",
    "mu0 = prior_mean"
   ]
  },
  {
   "cell_type": "code",
   "execution_count": 66,
   "id": "f1407882-6d97-4fce-978d-614d5ba82b22",
   "metadata": {
    "colab": {
     "base_uri": "https://localhost:8080/"
    },
    "id": "2b96e8de-39c0-4e41-b28c-4ff09a0de69a",
    "outputId": "fcc3d002-7d39-47b2-bf30-a843633d21c0"
   },
   "outputs": [
    {
     "data": {
      "text/plain": [
       "9.704402011307245"
      ]
     },
     "execution_count": 66,
     "metadata": {},
     "output_type": "execute_result"
    }
   ],
   "source": [
    "n = number_of_data\n",
    "real_mu_1 = 1/(1/sigma0**2 + n/sigma_obs**2)*(mu0[0]/sigma0**2 + (np.sum(y[0,:])/sigma_obs**2))\n",
    "real_mu_1"
   ]
  },
  {
   "cell_type": "code",
   "execution_count": 67,
   "id": "651ddbb8-e2dc-4ca2-acdd-8a241028c1ed",
   "metadata": {
    "colab": {
     "base_uri": "https://localhost:8080/"
    },
    "id": "bhZWMzKtMFQk",
    "outputId": "9e6d7e52-655b-47ed-fddd-bb8545fc2a62"
   },
   "outputs": [
    {
     "data": {
      "text/plain": [
       "9.732815041132085"
      ]
     },
     "execution_count": 67,
     "metadata": {},
     "output_type": "execute_result"
    }
   ],
   "source": [
    "np.mean(samplings[0])"
   ]
  },
  {
   "cell_type": "code",
   "execution_count": 68,
   "id": "955469a9-9d79-4a49-81dd-b0f2af9f1ae4",
   "metadata": {
    "colab": {
     "base_uri": "https://localhost:8080/"
    },
    "id": "baBm6lo3fU8S",
    "outputId": "ed2b8d45-f067-4242-e749-3ee7f4a425e1"
   },
   "outputs": [
    {
     "data": {
      "text/plain": [
       "19.57417932024196"
      ]
     },
     "execution_count": 68,
     "metadata": {},
     "output_type": "execute_result"
    }
   ],
   "source": [
    "real_mu_2 = 1/(1/sigma0**2 + n/sigma_obs**2)*(mu0[1]/sigma0**2 + (np.sum(y[1,:])/sigma_obs**2))\n",
    "real_mu_2"
   ]
  },
  {
   "cell_type": "code",
   "execution_count": 69,
   "id": "b1cd63b1-7c83-4b58-8fb8-e7e7cff0396e",
   "metadata": {
    "colab": {
     "base_uri": "https://localhost:8080/"
    },
    "id": "WwLS5MHEetvI",
    "outputId": "58da249c-5fda-413e-ff0c-ef76a586c8c0"
   },
   "outputs": [
    {
     "data": {
      "text/plain": [
       "19.56336814314832"
      ]
     },
     "execution_count": 69,
     "metadata": {},
     "output_type": "execute_result"
    }
   ],
   "source": [
    "np.mean(samplings[1,:])"
   ]
  },
  {
   "cell_type": "code",
   "execution_count": 70,
   "id": "d57d608c-1336-4554-bd1e-7a7325abf23d",
   "metadata": {
    "colab": {
     "base_uri": "https://localhost:8080/"
    },
    "id": "c2a812c8-36b9-4ed9-918c-6631b2daf1fc",
    "outputId": "63d3155a-eb32-4a5b-bef8-4355c45d4d97"
   },
   "outputs": [
    {
     "data": {
      "text/plain": [
       "0.04972375690607736"
      ]
     },
     "execution_count": 70,
     "metadata": {},
     "output_type": "execute_result"
    }
   ],
   "source": [
    "real_sd = np.sqrt(1/(1/sigma0**2 + n/sigma_obs**2))\n",
    "real_sd**2"
   ]
  },
  {
   "cell_type": "code",
   "execution_count": 71,
   "id": "f77226a6-4594-4794-8727-92f6e2964ed2",
   "metadata": {
    "colab": {
     "base_uri": "https://localhost:8080/"
    },
    "id": "16TBhC4zI2ad",
    "outputId": "14ab0ad1-4c72-4ce1-8b14-403390ae9139"
   },
   "outputs": [
    {
     "data": {
      "text/plain": [
       "array([[0.08721224, 0.00337347],\n",
       "       [0.00337347, 0.08322681]])"
      ]
     },
     "execution_count": 71,
     "metadata": {},
     "output_type": "execute_result"
    }
   ],
   "source": [
    "np.cov(samplings)"
   ]
  },
  {
   "cell_type": "code",
   "execution_count": 72,
   "id": "fed8396e-da00-4172-b91a-e96675d195e7",
   "metadata": {
    "colab": {
     "base_uri": "https://localhost:8080/",
     "height": 268
    },
    "id": "5cf82fb3-c4e0-4f22-b5a2-6b147625fefc",
    "outputId": "dcee4c12-d51d-4cac-b998-0ce042dcdfae"
   },
   "outputs": [
    {
     "data": {
      "image/png": "[encoded data removed]",
      "text/plain": [
       "<Figure size 864x288 with 1 Axes>"
      ]
     },
     "metadata": {},
     "output_type": "display_data"
    }
   ],
   "source": [
    "x = np.linspace(8.7, 11,100)\n",
    "weights = (np.ones_like(samplings[0,:]) / len(samplings[0,:]))*35\n",
    "\n",
    "plt.hist(samplings[0,:],bins = 30, density=True, label='samples')\n",
    "plt.plot(x, sstat.norm.pdf(x, real_mu_1, real_sd ) , label= 'posterior distribution' )\n",
    "plt.legend()\n",
    "plt.savefig('mcmc_coupling_abc_histogram_first.png')"
   ]
  },
  {
   "cell_type": "markdown",
   "id": "61a55c5e-0019-425b-a73e-ed78bc381350",
   "metadata": {
    "id": "OUqkGvC5f81B"
   },
   "source": [
    "# PLOT SECOND FEATURE:"
   ]
  },
  {
   "cell_type": "code",
   "execution_count": 73,
   "id": "6a157c51-4112-4fab-9d5f-aa7e18a118c8",
   "metadata": {
    "id": "R0HIsM2Kf_-t"
   },
   "outputs": [],
   "source": [
    "sns.set_theme(style=\"darkgrid\")\n",
    "plt.rcParams[\"figure.figsize\"] = (12,4)"
   ]
  },
  {
   "cell_type": "code",
   "execution_count": 74,
   "id": "13b8458c-3a18-4ef8-9d9d-9c25bea96443",
   "metadata": {
    "colab": {
     "base_uri": "https://localhost:8080/",
     "height": 268
    },
    "id": "7DpH6BC5f_-v",
    "outputId": "d65e93b0-775b-4817-e44e-be7534cf2594"
   },
   "outputs": [
    {
     "data": {
      "image/png": "[encoded data removed]",
      "text/plain": [
       "<Figure size 864x288 with 1 Axes>"
      ]
     },
     "metadata": {},
     "output_type": "display_data"
    }
   ],
   "source": [
    "plt.plot(samplings[1,:])\n",
    "plt.savefig('mcmc_coupling_abc_sampling_second.png')"
   ]
  },
  {
   "cell_type": "code",
   "execution_count": 75,
   "id": "2ee03422-6908-425b-a7a4-e9bfdf67ab4a",
   "metadata": {
    "colab": {
     "base_uri": "https://localhost:8080/",
     "height": 268
    },
    "id": "0oGTI0-Bf_-v",
    "outputId": "e7b6e87e-d172-4af2-eb47-1d4ba62a6d58"
   },
   "outputs": [
    {
     "data": {
      "image/png": "[encoded data removed]",
      "text/plain": [
       "<Figure size 864x288 with 1 Axes>"
      ]
     },
     "metadata": {},
     "output_type": "display_data"
    }
   ],
   "source": [
    "sns.histplot(samplings[1,:])\n",
    "plt.savefig('mcmc_coupling_abc_histogram_second.png')"
   ]
  },
  {
   "cell_type": "code",
   "execution_count": 76,
   "id": "4bc275b9-64e6-49cf-86df-d058c201db70",
   "metadata": {
    "colab": {
     "base_uri": "https://localhost:8080/",
     "height": 268
    },
    "id": "xRwP2BUXf_-w",
    "outputId": "991ddc11-8847-41af-d27d-e44c5b2db6f6"
   },
   "outputs": [
    {
     "data": {
      "image/png": "[encoded data removed]",
      "text/plain": [
       "<Figure size 864x288 with 1 Axes>"
      ]
     },
     "metadata": {},
     "output_type": "display_data"
    }
   ],
   "source": [
    "plt.plot(red_chain[1,:])\n",
    "plt.plot(blue_chain[1,:])\n",
    "plt.savefig('mcmc_coupling_abc_chain_meeting_second.png')"
   ]
  },
  {
   "cell_type": "code",
   "execution_count": 77,
   "id": "5316749b-8206-4fef-935f-04da680302de",
   "metadata": {
    "colab": {
     "base_uri": "https://localhost:8080/"
    },
    "id": "mo4_7gqif_-x",
    "outputId": "48ca4d4c-6d1c-488d-98e2-42285480b378"
   },
   "outputs": [
    {
     "data": {
      "text/plain": [
       "9.704402011307245"
      ]
     },
     "execution_count": 77,
     "metadata": {},
     "output_type": "execute_result"
    }
   ],
   "source": [
    "real_mu_1 = 1/(1/sigma0**2 + n/sigma_obs**2)*(mu0[0]/sigma0**2 + (np.sum(y[0,:])/sigma_obs**2))\n",
    "real_mu_1"
   ]
  },
  {
   "cell_type": "code",
   "execution_count": 78,
   "id": "7514ee6f-0dd8-433e-828d-42967a707973",
   "metadata": {
    "colab": {
     "base_uri": "https://localhost:8080/"
    },
    "id": "KB1bhpZ4f_-x",
    "outputId": "f88da53c-73d5-4ea4-f8cb-0a688a96ede2"
   },
   "outputs": [
    {
     "data": {
      "text/plain": [
       "19.56336814314832"
      ]
     },
     "execution_count": 78,
     "metadata": {},
     "output_type": "execute_result"
    }
   ],
   "source": [
    "np.mean(samplings[1])"
   ]
  },
  {
   "cell_type": "code",
   "execution_count": 79,
   "id": "37443ad5-e97a-4c8e-8bb6-67000e4eb8f2",
   "metadata": {
    "colab": {
     "base_uri": "https://localhost:8080/"
    },
    "id": "ppBdn6E1f_-y",
    "outputId": "ed2b8d45-f067-4242-e749-3ee7f4a425e1"
   },
   "outputs": [
    {
     "data": {
      "text/plain": [
       "19.57417932024196"
      ]
     },
     "execution_count": 79,
     "metadata": {},
     "output_type": "execute_result"
    }
   ],
   "source": [
    "real_mu_2 = 1/(1/sigma0**2 + n/sigma_obs**2)*(mu0[1]/sigma0**2 + (np.sum(y[1,:])/sigma_obs**2))\n",
    "real_mu_2"
   ]
  },
  {
   "cell_type": "code",
   "execution_count": 80,
   "id": "8f9a2e05-4f72-4c9b-a889-02f2c86aab37",
   "metadata": {
    "colab": {
     "base_uri": "https://localhost:8080/"
    },
    "id": "n179VmI-f_-y",
    "outputId": "58da249c-5fda-413e-ff0c-ef76a586c8c0"
   },
   "outputs": [
    {
     "data": {
      "text/plain": [
       "19.56336814314832"
      ]
     },
     "execution_count": 80,
     "metadata": {},
     "output_type": "execute_result"
    }
   ],
   "source": [
    "np.mean(samplings[1,:])"
   ]
  },
  {
   "cell_type": "code",
   "execution_count": 81,
   "id": "13373b2e-effe-4436-ac80-cf151032e14a",
   "metadata": {
    "colab": {
     "base_uri": "https://localhost:8080/"
    },
    "id": "d4FtqeCif_-y",
    "outputId": "63d3155a-eb32-4a5b-bef8-4355c45d4d97"
   },
   "outputs": [
    {
     "data": {
      "text/plain": [
       "0.04972375690607736"
      ]
     },
     "execution_count": 81,
     "metadata": {},
     "output_type": "execute_result"
    }
   ],
   "source": [
    "real_sd = np.sqrt(1/(1/sigma0**2 + n/sigma_obs**2))\n",
    "real_sd**2"
   ]
  },
  {
   "cell_type": "code",
   "execution_count": 82,
   "id": "4d1710dc-b9ef-47e1-b172-950fc310c23f",
   "metadata": {
    "colab": {
     "base_uri": "https://localhost:8080/"
    },
    "id": "yeSpHn-if_-z",
    "outputId": "14ab0ad1-4c72-4ce1-8b14-403390ae9139"
   },
   "outputs": [
    {
     "data": {
      "text/plain": [
       "array([[0.08721224, 0.00337347],\n",
       "       [0.00337347, 0.08322681]])"
      ]
     },
     "execution_count": 82,
     "metadata": {},
     "output_type": "execute_result"
    }
   ],
   "source": [
    "np.cov(samplings)"
   ]
  },
  {
   "cell_type": "code",
   "execution_count": null,
   "id": "abc6e8e7-bce8-46f4-878a-b823b6d1ed27",
   "metadata": {
    "colab": {
     "base_uri": "https://localhost:8080/",
     "height": 268
    },
    "id": "ey8sLkDtf_-z",
    "outputId": "5a458069-7aed-4ece-e5b3-453568fd4a33"
   },
   "outputs": [],
   "source": [
    "x = np.linspace(18.5,20.5,100)\n",
    "weights = (np.ones_like(samplings[1,:]) / len(samplings[1,:]))*35\n",
    "\n",
    "plt.hist(samplings[1,:],bins = 30, density=True, label='samples')\n",
    "plt.plot(x, sstat.norm.pdf(x, real_mu_2, real_sd ) , label= 'posterior distribution' )\n",
    "plt.legend()\n",
    "plt.savefig('mcmc_coupling_abc_histogram_second.png')"
   ]
  },
  {
   "cell_type": "code",
   "execution_count": null,
   "id": "c941368a-b7e9-491f-967a-882b6f771b7c",
   "metadata": {},
   "outputs": [],
   "source": []
  },
  {
   "cell_type": "code",
   "execution_count": null,
   "id": "cab8b987-5890-4317-90ca-a9d44bbcb129",
   "metadata": {},
   "outputs": [],
   "source": []
  },
  {
   "cell_type": "code",
   "execution_count": null,
   "id": "dcae53b8-fb41-491c-965b-83934b376250",
   "metadata": {},
   "outputs": [],
   "source": []
  },
  {
   "cell_type": "code",
   "execution_count": null,
   "id": "cd3512c7-0862-414f-a0e0-6a0ca47f5f1d",
   "metadata": {},
   "outputs": [],
   "source": []
  },
  {
   "cell_type": "code",
   "execution_count": null,
   "id": "a2de43af-0d2b-4090-b558-0b46e387e75a",
   "metadata": {},
   "outputs": [],
   "source": []
  },
  {
   "cell_type": "code",
   "execution_count": null,
   "id": "e55de270-bddb-44b8-baff-a35a35731533",
   "metadata": {},
   "outputs": [],
   "source": []
  },
  {
   "cell_type": "code",
   "execution_count": null,
   "id": "8af386d6-f17c-4557-b59a-368a9dc6cefb",
   "metadata": {},
   "outputs": [],
   "source": []
  },
  {
   "cell_type": "code",
   "execution_count": null,
   "id": "355f6800-afb7-4bdb-a4c7-d6a19b56df92",
   "metadata": {},
   "outputs": [],
   "source": []
  },
  {
   "cell_type": "code",
   "execution_count": null,
   "id": "3c3dd5e4-8e80-4a04-8ad9-7c7e011c9fee",
   "metadata": {},
   "outputs": [],
   "source": []
  },
  {
   "cell_type": "code",
   "execution_count": null,
   "id": "96ff51da-b883-4ac2-aa75-4e9f6ddaa2e3",
   "metadata": {},
   "outputs": [],
   "source": []
  },
  {
   "cell_type": "code",
   "execution_count": null,
   "id": "af73ba9d-f010-4d1b-b296-37fcede4a69c",
   "metadata": {},
   "outputs": [],
   "source": []
  },
  {
   "cell_type": "code",
   "execution_count": null,
   "id": "fc2e4206-f882-49c0-b273-c82b6be97d07",
   "metadata": {},
   "outputs": [],
   "source": []
  },
  {
   "cell_type": "code",
   "execution_count": null,
   "id": "c12b772f-5cfb-4744-9a42-ac709a33893e",
   "metadata": {},
   "outputs": [],
   "source": []
  },
  {
   "cell_type": "code",
   "execution_count": null,
   "id": "3e1a628e-9cc5-4b5d-b466-1fed1e428d01",
   "metadata": {},
   "outputs": [],
   "source": []
  },
  {
   "cell_type": "code",
   "execution_count": null,
   "id": "556331fa-5ad8-4001-88a7-fe8fcf442b4f",
   "metadata": {},
   "outputs": [],
   "source": []
  }
 ],
 "metadata": {
  "kernelspec": {
   "display_name": "Python 3 (ipykernel)",
   "language": "python",
   "name": "python3"
  },
  "language_info": {
   "codemirror_mode": {
    "name": "ipython",
    "version": 3
   },
   "file_extension": ".py",
   "mimetype": "text/x-python",
   "name": "python",
   "nbconvert_exporter": "python",
   "pygments_lexer": "ipython3",
   "version": "3.8.10"
  }
 },
 "nbformat": 4,
 "nbformat_minor": 5
}
