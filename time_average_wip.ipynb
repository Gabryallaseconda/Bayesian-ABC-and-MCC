{
  "nbformat": 4,
  "nbformat_minor": 0,
  "metadata": {
    "colab": {
      "name": "time_average_wip.ipynb",
      "provenance": [],
      "collapsed_sections": []
    },
    "kernelspec": {
      "name": "python3",
      "display_name": "Python 3"
    },
    "language_info": {
      "name": "python"
    }
  },
  "cells": [
    {
      "cell_type": "code",
      "execution_count": null,
      "metadata": {
        "id": "HyheaQ_-sSp_"
      },
      "outputs": [],
      "source": [
        "import numpy as np\n",
        "import matplotlib.pyplot as plt\n",
        "import seaborn as sns\n",
        "import pandas as pd\n",
        "import scipy.stats as sstat\n",
        "\n",
        "from tensorflow_probability.substrates import numpy as tfp\n",
        "tfd = tfp.distributions"
      ]
    },
    {
      "cell_type": "code",
      "source": [
        "##MAXIMAL COUPLING (univariate)\n",
        "def maximal_coupling(x,y):\n",
        "      current_x = x\n",
        "      current_y = y  \n",
        "      proposed_x = current_x + tfd.Normal(0, 1).sample()\n",
        "      pX = sstat.norm.pdf(proposed_x,current_x,1)\n",
        "      w = tfd.Uniform(0,1).sample()*pX\n",
        "      qX = sstat.norm.pdf(proposed_x,current_y,1)\n",
        "      if w < qX:\n",
        "          x_new = proposed_x\n",
        "          y_new = proposed_x\n",
        "      else:\n",
        "          t = True\n",
        "          while t == True:\n",
        "                proposed_y = current_y + tfd.Normal(0, 1).sample()\n",
        "                qY =  sstat.norm.pdf(proposed_y,current_y,1) #mi sa che vanno invertite le y anche se forse è uguale\n",
        "                w =  tfd.Uniform(0,1).sample()*qY\n",
        "                pY = sstat.norm.pdf(proposed_y,current_x,1)\n",
        "                if w > pY :\n",
        "                  t= False\n",
        "\n",
        "          x_new = proposed_x\n",
        "          y_new = proposed_y  \n",
        "      return [x_new, y_new]"
      ],
      "metadata": {
        "id": "vkli3snJsVHx"
      },
      "execution_count": null,
      "outputs": []
    },
    {
      "cell_type": "code",
      "source": [
        "def h(X):\n",
        "  return X\n",
        "  #funzione h di cui dobbiamo stimare la media"
      ],
      "metadata": {
        "id": "OWWLDhMYu5Ra"
      },
      "execution_count": null,
      "outputs": []
    },
    {
      "cell_type": "code",
      "source": [
        "#le x vanno da inizio a fine (compresi) e le y da inizio-1 a fine-1\n",
        "def differenza(x,y,inizio,fine): \n",
        "    w=[] \n",
        "    for i in range(fine+1-inizio): \n",
        "        w.append(h(x[inizio+i])-h(y[inizio+i-1])) #4-3 + 6-2 + 5-1\n",
        "    return w\n",
        "\n",
        "#restituisce il vettore di h(x[t])-h(y[t-1])"
      ],
      "metadata": {
        "id": "mcH5kOt0u4R-"
      },
      "execution_count": null,
      "outputs": []
    },
    {
      "cell_type": "code",
      "source": [
        "### TIME AVERAGED ESTIMATOR w_l=1/(m-k) l=k...m\n",
        "m = 1000      #max(m,tau) number of iterations\n",
        "k = 500        #burn-in\n",
        "\n",
        "def time_averaged_est (m,k):\n",
        "\n",
        "  x0 = tfd.Exponential(2).sample()\n",
        "  y0 = tfd.Exponential(2).sample()\n",
        "\n",
        "  x = []\n",
        "  y = []\n",
        "  H = []         #contiene gli m-k stimatori di cui faremo la media\n",
        "\n",
        "\n",
        "  t=0\n",
        "  tau = 1000000\n",
        "  x.append(x0)     #sample from prior distribution\n",
        "  y.append(y0)    #sample from prior distribution\n",
        "  x.append(tfd.Normal(x0,0.5).sample())   #P transition matrix della MC NB: dalla congiunta\n",
        "  t=t+1\n",
        "  while t<max(m,tau):\n",
        "     #[x[t+1],y[t]] = maximal_coupling(x[t],y[t-1])\n",
        "     new_st = maximal_coupling(x[t],y[t-1])\n",
        "     x.append(new_st[0])\n",
        "     y.append(new_st[1])\n",
        "     t=t+1\n",
        "     if x[t]==y[t-1]:\n",
        "         tau=t\n",
        "\n",
        "  for l in range(m-k):\n",
        "     inizio = k+l+1\n",
        "     fine = tau-1\n",
        "     vect = differenza(x,y,inizio,fine)\n",
        "     H.append(h(x[k+l])+np.sum(vect))\n",
        "     H_km = 1/(m-k+1)*np.sum(H)\n",
        "\n",
        "  return H_km"
      ],
      "metadata": {
        "id": "_PW-eVHrsY4y"
      },
      "execution_count": null,
      "outputs": []
    },
    {
      "cell_type": "code",
      "source": [
        "mmm = time_averaged_est(m,k)\n",
        "mmm"
      ],
      "metadata": {
        "colab": {
          "base_uri": "https://localhost:8080/"
        },
        "id": "nBt-wPfwvK5b",
        "outputId": "a2326c88-0571-4c8c-fde7-ef5135f991eb"
      },
      "execution_count": null,
      "outputs": [
        {
          "output_type": "execute_result",
          "data": {
            "text/plain": [
              "21.8271222276364"
            ]
          },
          "metadata": {},
          "execution_count": 9
        }
      ]
    }
  ]
}