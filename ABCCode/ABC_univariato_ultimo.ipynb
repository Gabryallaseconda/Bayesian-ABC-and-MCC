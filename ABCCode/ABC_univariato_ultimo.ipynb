{
  "nbformat": 4,
  "nbformat_minor": 5,
  "metadata": {
    "kernelspec": {
      "display_name": "Python 3 (ipykernel)",
      "language": "python",
      "name": "python3"
    },
    "language_info": {
      "codemirror_mode": {
        "name": "ipython",
        "version": 3
      },
      "file_extension": ".py",
      "mimetype": "text/x-python",
      "name": "python",
      "nbconvert_exporter": "python",
      "pygments_lexer": "ipython3",
      "version": "3.9.7"
    },
    "colab": {
      "name": "ABC_fra.ipynb",
      "provenance": [],
      "collapsed_sections": []
    }
  },
  "cells": [
    {
      "cell_type": "code",
      "metadata": {
        "id": "ea31ed18-18f6-41bf-820c-8b9ab3a6eb7b"
      },
      "source": [
        "import numpy as np\n",
        "import matplotlib.pyplot as plt\n",
        "import seaborn as sns\n",
        "import pandas as pd\n",
        "import scipy.stats as sstat\n",
        "from mpmath import mp\n",
        "import math\n",
        "import random\n",
        "\n",
        "from tensorflow_probability.substrates import numpy as tfp\n",
        "tfd = tfp.distributions"
      ],
      "id": "ea31ed18-18f6-41bf-820c-8b9ab3a6eb7b",
      "execution_count": 39,
      "outputs": []
    },
    {
      "cell_type": "markdown",
      "metadata": {
        "id": "6ntkB4tXTOhq"
      },
      "source": [
        "questa likelihhod non ho capito cos'è, mi sa che avete messo la posterior"
      ],
      "id": "6ntkB4tXTOhq"
    },
    {
      "cell_type": "code",
      "metadata": {
        "tags": [],
        "id": "74095443-763a-4c43-99f7-fb70db2f36c5"
      },
      "source": [
        "def target_no(mu,n,y):\n",
        "    med = 1/n*np.sum(y)\n",
        "    yyy = []\n",
        "   # ssum = np.sum(yyy)\n",
        "    for j in range(len(y)):\n",
        "        yyy.append((y[j]-med)**2)\n",
        "        ssum = np.sum(yyy)\n",
        "        res = math.e**(-1/50*(n*(mu-med)**2 + ssum))\n",
        "    return res"
      ],
      "id": "74095443-763a-4c43-99f7-fb70db2f36c5",
      "execution_count": 124,
      "outputs": []
    },
    {
      "cell_type": "code",
      "metadata": {
        "id": "TTSAOsuISlBL"
      },
      "source": [
        "sigma2=3\n",
        "def LIKELIHOOD(mu):\n",
        "    y= tfd.Normal(mu,sigma2)\n",
        "    return y"
      ],
      "id": "TTSAOsuISlBL",
      "execution_count": 3,
      "outputs": []
    },
    {
      "cell_type": "code",
      "metadata": {
        "tags": [],
        "id": "9e065282-a03b-446c-9439-925c9950bac7"
      },
      "source": [
        "mu0 = 33\n",
        "sigma0 = 2\n",
        "def prior(mu):\n",
        "    ris = tfd.Normal(mu0,sigma0).prob(mu)\n",
        "    return ris"
      ],
      "id": "9e065282-a03b-446c-9439-925c9950bac7",
      "execution_count": 122,
      "outputs": []
    },
    {
      "cell_type": "code",
      "metadata": {
        "id": "kbEWXmM3dwij"
      },
      "source": [
        "def target(mu,n,y):\n",
        "    y= tfd.Normal(1/(1/sigma0**2 + n/sigma2**2)*(mu0/sigma0**2 + (np.sum(y)/sigma2**2)),1/(1/sigma0**2 + n/sigma2**2))   #??? non sono molto sicura di averla scritta bene\n",
        "    return y"
      ],
      "id": "kbEWXmM3dwij",
      "execution_count": 125,
      "outputs": []
    },
    {
      "cell_type": "code",
      "metadata": {
        "id": "JRpqTBiqYTOl"
      },
      "source": [
        "def proposal_distr (teta1):\n",
        "  #return tfd.uniform(0,1).sample()\n",
        "  return tfp.distributions.Normal(teta1, 1)"
      ],
      "id": "JRpqTBiqYTOl",
      "execution_count": 72,
      "outputs": []
    },
    {
      "cell_type": "code",
      "metadata": {
        "id": "q7BAYb1rZ24M"
      },
      "source": [
        "def my_kernel(x, mu):\n",
        "  return np.exp((-(x-mu)**2)/(2*sigma2**2))"
      ],
      "id": "q7BAYb1rZ24M",
      "execution_count": 78,
      "outputs": []
    },
    {
      "cell_type": "code",
      "metadata": {
        "id": "wFEIc1dEa6Al"
      },
      "source": [
        "def my_kernel_h (x, h):\n",
        "  return my_kernel(x/h)/h"
      ],
      "id": "wFEIc1dEa6Al",
      "execution_count": 7,
      "outputs": []
    },
    {
      "cell_type": "code",
      "metadata": {
        "id": "2NUHjqBFfA8J"
      },
      "source": [
        "def my_summary (y):\n",
        "  return np.mean(y)"
      ],
      "id": "2NUHjqBFfA8J",
      "execution_count": 79,
      "outputs": []
    },
    {
      "cell_type": "markdown",
      "metadata": {
        "id": "pjFy716PTf9o"
      },
      "source": [
        "in teoria non serve la target perché creiamo la distribuzione con la simulazione"
      ],
      "id": "pjFy716PTf9o"
    },
    {
      "cell_type": "code",
      "metadata": {
        "id": "y46HvB5yaRia"
      },
      "source": [
        "N = 1000\n",
        "mu = prior(mu0)\n",
        "y_obs = tfp.distributions.Normal(mu,5).sample(1000)\n",
        "#y_obs = tfp.distributions.Normal(34,5).sample(1000)\n",
        "s_obs = my_summary(y_obs)"
      ],
      "id": "y46HvB5yaRia",
      "execution_count": 112,
      "outputs": []
    },
    {
      "cell_type": "code",
      "metadata": {
        "colab": {
          "base_uri": "https://localhost:8080/"
        },
        "id": "eGXyiDkxBRDv",
        "outputId": "585ac7b2-e11f-461e-c4ae-6b83ae869726"
      },
      "source": [
        "prior(mu0)\n",
        "pro"
      ],
      "id": "eGXyiDkxBRDv",
      "execution_count": 32,
      "outputs": [
        {
          "output_type": "execute_result",
          "data": {
            "text/plain": [
              "0.19947114293935994"
            ]
          },
          "metadata": {},
          "execution_count": 32
        }
      ]
    },
    {
      "cell_type": "code",
      "metadata": {
        "colab": {
          "base_uri": "https://localhost:8080/"
        },
        "id": "ycIja1ETQaDf",
        "outputId": "367925c8-1f81-4bc9-fb29-6719d10b9b50"
      },
      "source": [
        "def f(x):\n",
        "  return x**2\n",
        "def function(f,x):\n",
        "  return f(x)+10\n",
        "\n",
        "function(f,2)"
      ],
      "id": "ycIja1ETQaDf",
      "execution_count": 63,
      "outputs": [
        {
          "output_type": "execute_result",
          "data": {
            "text/plain": [
              "14"
            ]
          },
          "metadata": {},
          "execution_count": 63
        }
      ]
    },
    {
      "cell_type": "code",
      "metadata": {
        "id": "08d5186c-a5b1-454f-a356-aeef3b2b17ef"
      },
      "source": [
        "def abc_algo (proposal, N, K_h, S, s_obs):\n",
        "    y_0 = LIKELIHOOD(mu0).sample() \n",
        "    s_0 = S(y_0)\n",
        "    teta_0 = prior(mu0)#.sample()\n",
        "    teta_old = teta_0\n",
        "    s_old = s_0\n",
        "    teta = []\n",
        "    s = []\n",
        "    y = []\n",
        "    teta.append(teta_0)\n",
        "    s.append(s_0)\n",
        "    y.append(y_0)\n",
        "    while K_h(np.linalg.norm(s_0 - s_obs), teta_0)<=0:\n",
        "        teta_0 = prior(mu0)#.sample()\n",
        "          #y_0 = target(mu0).sample()\n",
        "        y_0 = LIKELIHOOD(mu0).sample() \n",
        "        s_0 = S(y_0)\n",
        "        teta_old = teta_0\n",
        "        s_old = s_0\n",
        "        teta.append(teta_0)\n",
        "        s.append(s_0)\n",
        "        y.append(y_0)\n",
        "\n",
        "    for i in range(N):\n",
        "        teta_current = proposal_distr(teta_old).sample()\n",
        "        y_current = LIKELIHOOD(mu0).sample()\n",
        "        y.append(y_current)\n",
        "        s_current = S(y)\n",
        "\n",
        "        prob = min([1.,(K_h(np.linalg.norm(s_current - s_obs), teta_current)* prior(teta_current) * proposal(teta_old).prob(teta_current))/(\n",
        "             K_h(np.linalg.norm(s_old - s_obs), teta_old)* prior(teta_old) * proposal(teta_current).prob(teta_old))])\n",
        "\n",
        "        decision = np.random.choice(['a','b'], 1, p=(prob, 1-prob))\n",
        "\n",
        "        if decision=='a':\n",
        "              teta_i = teta_current\n",
        "              s_i = s_current\n",
        "        else: \n",
        "              teta_i = teta_old\n",
        "              s_i = s_old\n",
        "\n",
        "        teta_old = teta_i\n",
        "        s_old = s_i\n",
        "\n",
        "        teta.append(teta_i)\n",
        "        s.append(s_i)\n",
        "    return  teta"
      ],
      "id": "08d5186c-a5b1-454f-a356-aeef3b2b17ef",
      "execution_count": 126,
      "outputs": []
    },
    {
      "cell_type": "code",
      "metadata": {
        "id": "QZZ_t7u5D0n4"
      },
      "source": [
        "prova = abc_algo(proposal_distr, N, my_kernel, my_summary, s_obs)\n"
      ],
      "id": "QZZ_t7u5D0n4",
      "execution_count": 133,
      "outputs": []
    },
    {
      "cell_type": "code",
      "metadata": {
        "colab": {
          "base_uri": "https://localhost:8080/",
          "height": 304
        },
        "id": "UwGDqhDTdYUx",
        "outputId": "177ca8a8-63ad-45b2-b749-bbac819c70f7"
      },
      "source": [
        "plt.hist(prova)\n",
        "x_grid= np.linspace(1.,20.,1000)\n",
        "mu = prior(mu0)\n",
        "y_obs = tfp.distributions.Normal(mu,5).sample(1000)\n",
        "n = len(y_obs)\n",
        "y = target(mu, n, y_obs).sample(1000)  # sample?\n",
        "#print(y)\n",
        "plt.plot(x_grid , y)\n",
        "print(prova)"
      ],
      "id": "UwGDqhDTdYUx",
      "execution_count": 134,
      "outputs": [
        {
          "output_type": "stream",
          "name": "stdout",
          "text": [
            "[0.19947114293935994, 0.19947114293935994, 0.19947114293935994, 0.19947114293935994, 0.19947114293935994, 0.19947114293935994, array(1.23971819), array(3.28329922), array(3.28329922), array(3.24087684), array(3.28440301), array(4.31290527), array(4.80297603), array(4.80297603), array(4.80297603), array(5.27338318), array(5.49520501), array(5.40511696), array(5.40511696), array(5.54742147), array(5.98102854), array(6.25595913), array(7.60386148), array(8.29665236), array(8.29665236), array(8.29665236), array(8.29665236), array(8.29665236), array(8.6886424), array(9.09184875), array(9.09184875), array(9.04146898), array(9.04146898), array(9.04146898), array(10.12962655), array(11.70282384), array(11.70282384), array(12.06487684), array(12.3763002), array(12.41493719), array(14.00916105), array(13.96824071), array(15.49846475), array(15.49846475), array(16.02623983), array(16.02623983), array(16.02623983), array(15.88134467), array(15.97808746), array(15.97808746), array(17.31968967), array(17.51121489), array(17.51121489), array(17.91265717), array(18.25167154), array(18.25167154), array(18.93280872), array(18.93280872), array(19.75162218), array(19.75162218), array(20.25765224), array(20.25765224), array(20.25765224), array(20.28449055), array(20.5099908), array(20.80746537), array(21.3034875), array(21.3034875), array(21.22778464), array(22.0738123), array(21.9213783), array(22.67420821), array(23.36166388), array(22.93014623), array(24.09153428), array(24.09153428), array(24.00390786), array(24.75449802), array(23.96437774), array(23.96437774), array(23.50330443), array(23.43071319), array(23.43071319), array(23.34472255), array(23.34472255), array(23.15859695), array(22.99448199), array(22.99448199), array(22.99448199), array(24.08250921), array(24.08250921), array(25.3862358), array(25.74614657), array(26.21019392), array(26.83211574), array(27.32027593), array(27.77275035), array(27.77275035), array(27.77275035), array(28.32949589), array(28.32949589), array(28.91468417), array(29.79739721), array(30.88277313), array(32.72701841), array(34.29380789), array(34.1242705), array(33.03904892), array(33.58380457), array(34.27275506), array(33.33465374), array(32.82501912), array(32.8040191), array(32.76746815), array(32.76746815), array(32.76746815), array(32.67786774), array(31.77030381), array(33.37628054), array(32.03943012), array(31.0494618), array(31.0494618), array(31.0494618), array(32.62962931), array(33.47466267), array(33.31091302), array(32.31851106), array(30.83209605), array(33.7975032), array(34.16995167), array(35.33932598), array(35.90471701), array(35.90471701), array(35.90471701), array(36.3585827), array(37.25668509), array(35.75967839), array(35.26979216), array(36.28793401), array(36.43992361), array(35.58101277), array(34.87937557), array(34.81477416), array(33.71147881), array(33.20077296), array(33.20077296), array(33.02833586), array(33.91976022), array(34.024279), array(33.03704364), array(33.20545952), array(32.22042782), array(30.42465313), array(31.71993676), array(30.61577999), array(30.61577999), array(30.56255907), array(28.87648859), array(28.87648859), array(30.23389807), array(30.63674209), array(31.63062381), array(31.35506637), array(31.34826001), array(31.34826001), array(33.49272481), array(33.08763129), array(35.36494756), array(35.60468401), array(35.24344039), array(35.51032185), array(35.66476635), array(35.66476635), array(35.66476635), array(36.38807169), array(34.80631646), array(36.04886907), array(35.84542345), array(35.86138076), array(35.86138076), array(34.67857902), array(34.64257951), array(33.82169484), array(33.82169484), array(32.92642657), array(34.39683156), array(33.56994924), array(33.13484087), array(32.29307605), array(32.29307605), array(30.27489888), array(31.19253658), array(29.71158342), array(29.94010083), array(31.07464167), array(31.07464167), array(31.07464167), array(31.47026921), array(32.4039018), array(30.90763747), array(32.06885811), array(31.79449863), array(31.58985653), array(31.87428805), array(31.5357149), array(32.69216288), array(34.01277621), array(34.89427402), array(35.31662434), array(35.31662434), array(35.96081128), array(34.8797232), array(34.83865127), array(34.43337202), array(33.43816627), array(34.08188683), array(33.49572083), array(34.15813177), array(34.15813177), array(33.25467637), array(33.3926769), array(33.51462487), array(33.05416023), array(31.93349907), array(32.56895833), array(33.89081021), array(33.89081021), array(33.89081021), array(33.62688884), array(32.65847954), array(32.57231347), array(32.45018711), array(31.98888008), array(32.50089058), array(32.50089058), array(31.04297888), array(30.61761867), array(30.91507791), array(31.57206334), array(31.57206334), array(31.57206334), array(31.58718443), array(31.48344647), array(31.48344647), array(31.26695468), array(31.68207799), array(31.68207799), array(31.85269596), array(32.97613122), array(33.72516552), array(33.72516552), array(33.35323577), array(33.35323577), array(32.87140483), array(31.73774424), array(31.92439221), array(32.01036821), array(31.64288374), array(30.97087023), array(30.97087023), array(30.34310681), array(31.28957799), array(33.10253207), array(32.6055899), array(32.30283377), array(32.45049583), array(33.47935489), array(34.75061605), array(33.66478879), array(33.45335273), array(33.45335273), array(32.01818185), array(32.12904551), array(33.20504772), array(34.27873136), array(35.94352724), array(36.38178417), array(35.96010957), array(35.43420083), array(35.43420083), array(36.76122094), array(36.77961443), array(36.77961443), array(36.77961443), array(36.77961443), array(37.28822208), array(37.28822208), array(37.66845784), array(36.51756279), array(34.37476602), array(35.18118343), array(35.18118343), array(34.92725268), array(32.99787418), array(33.2201034), array(32.9614493), array(32.9614493), array(32.9614493), array(32.9614493), array(32.72664853), array(34.06297159), array(34.06297159), array(33.04088215), array(32.6358016), array(32.2264834), array(32.2264834), array(32.18823391), array(34.35366239), array(34.35366239), array(33.87115873), array(33.16387769), array(33.32263452), array(32.54464357), array(31.13940048), array(32.12808436), array(32.12808436), array(31.54963163), array(32.32725228), array(32.70124471), array(31.67271454), array(32.31290517), array(31.06549023), array(30.24188484), array(31.49581723), array(31.49581723), array(32.10287566), array(33.01769068), array(33.30713696), array(33.42392237), array(33.44794885), array(33.74487563), array(33.82388606), array(32.00522139), array(31.04532014), array(31.6238867), array(31.15902716), array(31.29521971), array(31.29521971), array(30.98501642), array(31.55493034), array(31.70101794), array(32.15925087), array(32.35941684), array(32.35941684), array(31.70469402), array(30.6472263), array(30.22055497), array(30.87135804), array(31.5749518), array(31.5749518), array(30.78247414), array(31.41241545), array(32.87535713), array(33.65694889), array(34.36347708), array(34.40665946), array(35.02984748), array(33.66612754), array(34.2001768), array(34.50527099), array(34.12596669), array(34.12596669), array(33.29119396), array(34.1612681), array(35.95256158), array(36.02431558), array(36.07029727), array(36.07029727), array(36.58718026), array(36.99038781), array(36.44921031), array(36.28576782), array(35.80624099), array(35.60759178), array(36.47147416), array(37.27945413), array(36.49008734), array(37.58053628), array(37.22693593), array(37.31329634), array(37.31329634), array(37.96895474), array(37.06248652), array(37.06248652), array(37.06248652), array(37.13688371), array(37.94608207), array(37.94608207), array(37.36174463), array(36.3949882), array(35.57118075), array(34.46072706), array(34.46072706), array(33.55403482), array(32.95370544), array(33.20062154), array(33.20062154), array(33.20062154), array(32.09246074), array(33.37967237), array(33.37967237), array(33.37967237), array(33.26317504), array(33.58967584), array(32.55217247), array(32.27321868), array(32.27321868), array(31.1254616), array(30.94401278), array(31.46881473), array(31.50819119), array(31.75016338), array(31.63283486), array(30.67504293), array(31.81417096), array(31.81417096), array(30.64744955), array(31.52529338), array(31.8165273), array(33.1944324), array(33.46261155), array(33.18227843), array(33.86769804), array(31.45592288), array(31.98821304), array(30.83760662), array(31.38387672), array(31.38387672), array(31.42569486), array(31.27497181), array(33.03916488), array(33.15292922), array(33.44045345), array(32.92829112), array(33.63144471), array(32.92565473), array(32.18987034), array(31.44906078), array(31.51511231), array(32.75067516), array(32.72677274), array(33.00186941), array(33.36653592), array(34.07246456), array(34.07246456), array(35.68266643), array(35.72205665), array(36.02080443), array(36.1583741), array(36.93917111), array(36.4341205), array(34.27055009), array(34.27055009), array(34.65354598), array(35.4058963), array(35.50008531), array(36.15822942), array(36.57139199), array(36.69145114), array(35.27650833), array(34.30229051), array(33.2859033), array(33.01044485), array(32.42698491), array(32.7316044), array(34.76787526), array(35.23237222), array(35.23237222), array(35.42079123), array(35.42079123), array(35.9467267), array(36.57498798), array(36.57498798), array(35.28827266), array(35.28827266), array(34.11929135), array(31.6923232), array(31.6923232), array(31.72943111), array(33.48162808), array(32.74038225), array(32.99489979), array(32.05084923), array(32.29128291), array(30.92312744), array(30.32910384), array(29.33506897), array(29.39482422), array(29.39482422), array(29.45657922), array(30.23362927), array(30.23362927), array(30.16330848), array(30.16330848), array(31.2543125), array(31.96274312), array(31.47352957), array(32.73632911), array(33.68677209), array(33.68677209), array(33.68677209), array(33.68677209), array(33.02518946), array(33.9400624), array(33.9400624), array(34.95691363), array(35.17473337), array(36.65271926), array(36.65271926), array(36.65271926), array(37.49022568), array(37.49022568), array(37.29676235), array(36.75989166), array(36.75989166), array(36.75989166), array(35.6726143), array(35.6726143), array(35.5987197), array(36.48701772), array(35.75942686), array(36.31841321), array(36.31841321), array(36.31841321), array(36.30649049), array(35.13280933), array(35.13280933), array(35.22286472), array(35.46411179), array(35.46411179), array(34.97505577), array(35.23048824), array(35.57668737), array(35.11297244), array(34.11494614), array(34.01381545), array(34.11150242), array(35.19931948), array(33.18226507), array(34.70364463), array(34.43477078), array(33.05301344), array(34.13966749), array(34.71776842), array(35.41751257), array(35.41751257), array(34.36192466), array(35.04760445), array(35.70539871), array(35.70539871), array(35.70539871), array(34.83192341), array(34.01463445), array(33.41451465), array(33.41451465), array(33.41451465), array(32.98279415), array(32.3441908), array(32.3441908), array(31.29505127), array(32.05385257), array(31.21100203), array(31.21100203), array(30.39326495), array(30.99268747), array(30.7213317), array(31.17792188), array(32.6640005), array(32.84222486), array(31.86660874), array(31.66983335), array(31.99237609), array(31.99237609), array(32.68001924), array(32.68001924), array(33.12573086), array(33.12573086), array(33.77121578), array(32.30464849), array(30.0025109), array(30.0025109), array(30.0025109), array(29.91332336), array(29.91332336), array(29.91332336), array(29.73521483), array(29.09874138), array(30.06078281), array(30.62153938), array(32.55842591), array(32.71738079), array(33.61885749), array(33.64384729), array(33.57229015), array(32.92004568), array(32.42652453), array(31.31472219), array(30.64197409), array(31.00064063), array(31.83277049), array(31.02879897), array(30.87058497), array(32.24281303), array(32.37766018), array(32.75476481), array(33.46804861), array(33.52971606), array(33.34952697), array(32.74929686), array(32.53827252), array(33.1489267), array(33.1489267), array(32.31056304), array(31.99716931), array(31.64486515), array(33.02081253), array(33.51175229), array(34.91816876), array(34.91816876), array(34.91816876), array(35.24799908), array(34.71904094), array(34.06467305), array(34.78425939), array(33.38239091), array(35.13716874), array(35.09523873), array(34.78648143), array(34.16933223), array(33.58530034), array(34.17076499), array(33.92526833), array(35.54762194), array(35.60508291), array(35.85660658), array(35.58280819), array(35.58280819), array(35.94858234), array(35.66736079), array(35.66736079), array(34.40963977), array(34.6534696), array(34.6534696), array(34.6534696), array(34.64695955), array(34.13005535), array(34.13005535), array(33.7779226), array(33.06238221), array(32.54817085), array(32.78455096), array(31.91248279), array(31.52344849), array(32.58226183), array(33.73369566), array(35.00363608), array(34.78657487), array(34.78657487), array(35.00511248), array(34.80176137), array(33.90007805), array(32.8736207), array(33.03885242), array(33.41698177), array(33.83681665), array(32.88276632), array(33.56119325), array(32.58181941), array(32.73854943), array(32.27329281), array(32.27329281), array(31.21635287), array(32.33910778), array(32.33910778), array(32.70683472), array(32.70683472), array(32.96059694), array(31.43941765), array(31.43941765), array(31.43941765), array(31.50492771), array(32.77675049), array(32.43907921), array(33.72205693), array(35.37014115), array(35.37014115), array(35.37014115), array(35.37014115), array(35.37014115), array(35.35020743), array(34.96778736), array(34.96778736), array(34.96778736), array(34.46317567), array(34.46317567), array(34.03443642), array(33.19827099), array(33.19827099), array(32.22350012), array(32.29274053), array(33.91582325), array(34.17141523), array(34.30059909), array(32.79867223), array(33.96557567), array(32.85201652), array(31.6623861), array(31.86643912), array(31.84139893), array(32.24979729), array(32.547131), array(33.68726408), array(33.75018302), array(33.46700496), array(33.46700496), array(33.04117416), array(33.23956211), array(34.99539179), array(33.51792596), array(33.51792596), array(32.85282459), array(31.44549472), array(33.05493641), array(33.29842493), array(33.70878845), array(32.68279228), array(32.97868739), array(32.28764587), array(32.5918643), array(32.3535051), array(32.5550817), array(33.82275504), array(34.23767392), array(32.78049495), array(32.37753018), array(32.37753018), array(34.11452941), array(34.24273763), array(34.44606385), array(34.23592805), array(32.50289155), array(34.81638608), array(34.18332132), array(36.12605669), array(36.12605669), array(33.98169212), array(32.38141757), array(32.0635436), array(31.78597772), array(32.82390812), array(32.85161651), array(34.53504634), array(35.12943569), array(35.98103744), array(34.05766932), array(34.05766932), array(34.92654284), array(35.25784338), array(34.37605488), array(33.8739741), array(34.62223363), array(34.40261744), array(34.07557993), array(32.71494389), array(33.32227266), array(33.12586421), array(33.12586421), array(34.03942067), array(32.87191718), array(31.7620139), array(31.19923294), array(34.14574005), array(32.63716887), array(33.2219441), array(34.07189763), array(34.50925372), array(34.24175559), array(34.24175559), array(32.83292581), array(34.22589442), array(32.68296762), array(34.14715843), array(34.34296491), array(34.39913868), array(32.27186813), array(33.05664734), array(32.68804984), array(32.83589827), array(32.83589827), array(31.0628355), array(31.32886953), array(33.43131787), array(33.03282347), array(32.31836824), array(32.75125854), array(34.59625908), array(34.16974165), array(31.31279483), array(30.96167055), array(30.96167055), array(31.7605661), array(32.4184326), array(33.38318068), array(32.73257048), array(32.73257048), array(30.5762808), array(30.80197954), array(30.80197954), array(31.88720488), array(32.38349004), array(30.83006679), array(32.33008388), array(33.50553056), array(32.6016671), array(30.86280757), array(29.41841438), array(29.63526775), array(29.20957991), array(29.70887894), array(29.63145922), array(29.63145922), array(29.63145922), array(29.63145922), array(31.25720515), array(31.702684), array(31.702684), array(31.28612192), array(31.28612192), array(31.32508546), array(32.07525182), array(32.50009118), array(31.816888), array(31.816888), array(32.27434509), array(33.24572149), array(33.94707634), array(34.22156903), array(34.22156903), array(34.22156903), array(34.235885), array(34.235885), array(32.22105895), array(31.47165638), array(31.067874), array(30.14220347), array(29.94978381), array(30.96940482), array(31.82540132), array(33.05846579), array(33.05846579), array(33.40434122), array(34.35698575), array(33.02320571), array(32.60958684), array(32.60958684), array(32.63797567), array(32.86174111), array(33.96560708), array(35.02336343), array(34.93176541), array(35.79520156), array(35.85778682), array(35.85778682), array(34.64462443), array(34.74736843), array(33.09393146), array(33.09393146), array(33.09393146), array(32.71514097), array(32.71514097), array(32.87035081), array(31.54960429), array(31.97437498), array(33.23215641), array(33.15142087), array(33.78179794), array(33.9684945), array(33.5711866), array(34.79025101), array(34.79025101), array(34.76880149), array(33.00211151), array(32.49528273), array(32.07200291), array(32.43107068), array(33.58552643), array(34.37279318), array(34.37611389), array(33.13371404), array(32.72812209), array(33.44038483), array(33.57843862), array(32.31374395), array(33.20845499), array(32.81970647), array(33.7265817), array(32.32658542), array(33.6071057), array(34.15805474), array(33.54776905), array(33.02490124), array(33.54103356), array(35.37809019), array(35.56773504), array(34.9682), array(34.94552541), array(34.937311), array(35.21414303), array(35.87937448), array(35.87937448), array(35.78402449), array(36.64200861), array(38.08184287), array(36.87418388), array(36.53516945), array(36.53516945), array(36.76112944), array(36.44619297), array(36.44619297), array(36.07014476), array(34.42280612), array(34.42280612), array(34.0682332), array(34.67130262), array(33.78010925), array(33.78010925), array(33.78010925), array(33.1549666), array(32.96927663), array(32.63215922), array(32.89763527), array(33.86517813), array(33.86517813), array(32.1726642), array(34.43160098), array(35.06182955), array(35.97780227), array(35.97780227), array(34.7119376), array(33.20924928), array(33.57054872), array(33.62042461), array(34.54210355), array(34.89980366), array(34.72702245), array(35.6904217), array(35.6904217), array(35.72566134), array(35.72566134), array(34.4446438), array(33.5107463), array(34.74837439), array(34.65361257), array(34.29632533), array(34.58212356), array(36.1191477), array(36.1191477), array(35.91168297), array(35.03188607), array(35.03188607), array(34.08807341), array(33.96468973), array(33.46961118), array(34.32599837), array(35.1000356), array(35.01712187), array(34.18150516), array(33.10870798), array(33.10870798), array(33.38841564), array(34.54772933), array(33.89722204), array(33.32177099), array(32.248034), array(33.77753778), array(33.55535832), array(32.36817622), array(32.36817622), array(32.17169334), array(32.88546657), array(33.56538277), array(33.56538277), array(33.35000285), array(33.79517425), array(33.26948952), array(32.27395232), array(32.11605816), array(33.49607669), array(34.26160357), array(34.80184959), array(34.50044609), array(34.57855398), array(33.69065097), array(34.72818987), array(34.95149194), array(34.95149194), array(34.95149194), array(33.74474464), array(34.4700194), array(35.37452435), array(34.86726204)]\n"
          ]
        },
        {
          "output_type": "display_data",
          "data": {
            "image/png": "[encoded data removed]",
            "text/plain": [
              "<Figure size 432x288 with 1 Axes>"
            ]
          },
          "metadata": {
            "needs_background": "light"
          }
        }
      ]
    },
    {
      "cell_type": "code",
      "metadata": {
        "colab": {
          "base_uri": "https://localhost:8080/",
          "height": 284
        },
        "id": "HbwMJ1UXnAoq",
        "outputId": "e1a54a4f-bf97-4c4a-be39-fdbf439e59a3"
      },
      "source": [
        "f,axs = plt.subplots(1,2)\n",
        "axs[0].hist(prova)\n",
        "axs[1].plot(x_grid , y)\n",
        "\n",
        "# qualcosa non va in questa y..."
      ],
      "id": "HbwMJ1UXnAoq",
      "execution_count": 140,
      "outputs": [
        {
          "output_type": "execute_result",
          "data": {
            "text/plain": [
              "[<matplotlib.lines.Line2D at 0x7f8e9ebe5810>]"
            ]
          },
          "metadata": {},
          "execution_count": 140
        },
        {
          "output_type": "display_data",
          "data": {
            "image/png": "[encoded data removed]",
            "text/plain": [
              "<Figure size 432x288 with 2 Axes>"
            ]
          },
          "metadata": {
            "needs_background": "light"
          }
        }
      ]
    }
  ]
}