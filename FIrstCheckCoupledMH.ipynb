{
  "nbformat": 4,
  "nbformat_minor": 0,
  "metadata": {
    "colab": {
      "name": "Untitled4.ipynb",
      "provenance": []
    },
    "kernelspec": {
      "name": "python3",
      "display_name": "Python 3"
    },
    "language_info": {
      "name": "python"
    }
  },
  "cells": [
    {
      "cell_type": "code",
      "metadata": {
        "id": "Cg137LGW45iW"
      },
      "source": [
        "import numpy as np\n",
        "import matplotlib.pyplot as plt\n",
        "import seaborn as sns\n",
        "import pandas as pd\n",
        "import scipy.stats as sstat\n",
        "\n",
        "from tensorflow_probability.substrates import numpy as tfp\n",
        "tfd = tfp.distributions"
      ],
      "execution_count": 1,
      "outputs": []
    },
    {
      "cell_type": "code",
      "metadata": {
        "id": "GdFB91My48bG"
      },
      "source": [
        "##MAXIMAL COUPLING (univariate)\n",
        "def maximal_coupling(x,y):\n",
        "      current_x = x\n",
        "      current_y = y  \n",
        "      proposed_x = current_x + tfd.Normal(0, 1).sample()\n",
        "      pX = sstat.norm.pdf(proposed_x,current_x,1)\n",
        "      w = tfd.Uniform(0,1).sample()*pX\n",
        "      qX = sstat.norm.pdf(proposed_x,current_y,1)\n",
        "      if w < qX:\n",
        "          x_new = proposed_x\n",
        "          y_new = proposed_x\n",
        "      else:\n",
        "          t = True\n",
        "          while t == True:\n",
        "                proposed_y = current_y + tfd.Normal(0, 1).sample()\n",
        "                qY =  sstat.norm.pdf(proposed_y,current_y,1) #mi sa che vanno invertite le y anche se forse è uguale\n",
        "                w =  tfd.Uniform(0,1).sample()*qY\n",
        "                pY = sstat.norm.pdf(proposed_y,current_x,1)\n",
        "                if w > pY :\n",
        "                  t= False\n",
        "\n",
        "          x_new = proposed_x\n",
        "          y_new = proposed_y  \n",
        "\n",
        "\n",
        "      return [x_new, y_new]\n"
      ],
      "execution_count": 2,
      "outputs": []
    },
    {
      "cell_type": "code",
      "metadata": {
        "colab": {
          "base_uri": "https://localhost:8080/"
        },
        "id": "1kgP_Bh05EiL",
        "outputId": "f99b556e-35c7-4b74-9670-3d0d78c05880"
      },
      "source": [
        "check = maximal_coupling(4,5)\n",
        "check"
      ],
      "execution_count": 4,
      "outputs": [
        {
          "output_type": "execute_result",
          "data": {
            "text/plain": [
              "[4.834376811981201, 4.834376811981201]"
            ]
          },
          "metadata": {},
          "execution_count": 4
        }
      ]
    },
    {
      "cell_type": "code",
      "metadata": {
        "id": "AqcZgg035JTR"
      },
      "source": [
        "### METROPOLIS HASTINGS\n",
        "\n",
        "n=10000\n",
        "#pi=N(5,1) target distribution\n",
        "\n",
        "def metropolis_hastings(x_0,y_0):\n",
        "  XX = []\n",
        "  XX.append([x_0,y_0])\n",
        "  #XXX=[]\n",
        "  #YYY=[] \n",
        "  x_old = x_0\n",
        "  y_old = y_0\n",
        "  for i in range(n):     #5->x_old\n",
        "           new_states = maximal_coupling(x_old,y_old)\n",
        "           x_can = new_states[0]\n",
        "           u = tfd.Uniform(0,1).sample()\n",
        "           xprob =  min([1.,tfd.Normal(5,1).prob(x_can)/tfd.Normal(5,1).prob(x_old)]) \n",
        "           if u < xprob :\n",
        "               x_new = x_can\n",
        "           else: \n",
        "               x_new= x_old\n",
        "           y_can = new_states[1]\n",
        "           yprob =  min([1.,tfd.Normal(5,1).prob(y_can)/tfd.Normal(5,1).prob(y_old)]) \n",
        "           if u < yprob :\n",
        "                y_new =y_can\n",
        "           else: \n",
        "                y_new= y_old\n",
        "      \n",
        "           XX.append([x_new,y_new])\n",
        "           #XXX.append(x_new)\n",
        "           #YYY.append(y_new)\n",
        "           x_old=x_new\n",
        "           y_old=y_new\n",
        "           \n",
        "  return XX #XXX,YYY "
      ],
      "execution_count": 16,
      "outputs": []
    },
    {
      "cell_type": "code",
      "metadata": {
        "id": "5oqtVM575Pyr"
      },
      "source": [
        "###prova MH\n",
        "check2 = metropolis_hastings(10,-5)\n",
        "plt.plot(check2) #burn-in circa 10/15\n"
      ],
      "execution_count": 17,
      "outputs": []
    },
    {
      "cell_type": "code",
      "metadata": {
        "id": "Kg-0GgBu5s3K"
      },
      "source": [
        "plt.hist(check2[0][15:99], density=True) #funziona usando XXX e YYY nel MH, da sistemare"
      ],
      "execution_count": null,
      "outputs": []
    }
  ]
}