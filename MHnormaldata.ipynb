{
  "nbformat": 4,
  "nbformat_minor": 0,
  "metadata": {
    "colab": {
      "name": "Untitled5.ipynb",
      "provenance": []
    },
    "kernelspec": {
      "name": "python3",
      "display_name": "Python 3"
    },
    "language_info": {
      "name": "python"
    }
  },
  "cells": [
    {
      "cell_type": "code",
      "metadata": {
        "id": "pidDzXNbXngw"
      },
      "source": [
        "import numpy as np\n",
        "import matplotlib.pyplot as plt\n",
        "import seaborn as sns\n",
        "import pandas as pd\n",
        "import scipy.stats as sstat\n",
        "from mpmath import mp\n",
        "import math\n",
        "\n",
        "from tensorflow_probability.substrates import numpy as tfp\n",
        "tfd = tfp.distributions"
      ],
      "execution_count": 13,
      "outputs": []
    },
    {
      "cell_type": "code",
      "metadata": {
        "id": "U1we531-X1gQ"
      },
      "source": [
        "y_obs = tfp.distributions.Normal(34,5).sample(1000)\n",
        "n=1000"
      ],
      "execution_count": 74,
      "outputs": []
    },
    {
      "cell_type": "code",
      "metadata": {
        "id": "0tElNctHYg5J"
      },
      "source": [
        "def lik(mu,n,y):\n",
        "  med = 1/n*np.sum(y)\n",
        "  yyy = []\n",
        "  ssum = np.sum(yyy)\n",
        "  for j in range(len(y)):\n",
        "    yyy.append((y[j]-med)**2)\n",
        "  res = math.e**(-1/50*(n*(mu-med)**2 + ssum))\n",
        "  return res"
      ],
      "execution_count": 75,
      "outputs": []
    },
    {
      "cell_type": "code",
      "metadata": {
        "id": "bCCCd5XbZKEC"
      },
      "source": [
        "mu0 = 33\n",
        "def pi0(mu):\n",
        "  ris2 = tfd.Normal(mu0,2).prob(mu)\n",
        "  return ris2"
      ],
      "execution_count": 76,
      "outputs": []
    },
    {
      "cell_type": "code",
      "metadata": {
        "id": "oVu7S8nceBl6"
      },
      "source": [
        "#def proposal(x,x1):\n",
        " # return tfp.distributions.Exponential(-1/2*(abs(x-x1)**2)).sample()"
      ],
      "execution_count": 77,
      "outputs": []
    },
    {
      "cell_type": "code",
      "metadata": {
        "id": "lGIrmMuOYLwD"
      },
      "source": [
        "##MAXIMAL COUPLING OF Q\n",
        "def maximal_coupling(x,y):\n",
        "      current_x = x\n",
        "      current_y = y  \n",
        "      proposed_x = current_x + tfd.Normal(0, 1).sample()\n",
        "      pX = sstat.norm.pdf(proposed_x,current_x,1)\n",
        "      w = tfd.Uniform(0,1).sample()*pX\n",
        "      qX = sstat.norm.pdf(proposed_x,current_y,1)\n",
        "      if w < qX:\n",
        "          x_new = proposed_x\n",
        "          y_new = proposed_x\n",
        "      else:\n",
        "          t = True\n",
        "          while t == True:\n",
        "                proposed_y = current_y + tfd.Normal(0, 1).sample()\n",
        "                qY =  sstat.norm.pdf(proposed_y,current_y,1) \n",
        "                w =  tfd.Uniform(0,1).sample()*qY\n",
        "                pY = sstat.norm.pdf(proposed_y,current_x,1)\n",
        "                if w > pY :\n",
        "                  t= False\n",
        "\n",
        "          x_new = proposed_x\n",
        "          y_new = proposed_y  \n",
        "\n",
        "\n",
        "      return [x_new, y_new]\n"
      ],
      "execution_count": 78,
      "outputs": []
    },
    {
      "cell_type": "code",
      "metadata": {
        "id": "uww8ve-ZYTlb"
      },
      "source": [
        "### METROPOLIS HASTINGS\n",
        "\n",
        "it=1000\n",
        "##Target distribution: posterior proportional to lik*pi\n",
        "def target(mu):\n",
        "  return lik(mu,n,y_obs)*pi0(mu)\n",
        "\n",
        "\n",
        "\n",
        "def metropolis_hastings(x_0,y_0):   \n",
        "  #XX = []\n",
        "  #XX.append([x_0,y_0])\n",
        "  XXX=[]\n",
        "  YYY=[] \n",
        "  x_old = x_0\n",
        "  y_old = y_0\n",
        "  for i in range(it):     \n",
        "           new_states = maximal_coupling(x_old,y_old)\n",
        "           x_can = new_states[0]\n",
        "           u = tfd.Uniform(0,1).sample()\n",
        "           xprob =  min([1.,target(x_can)/(target(x_old))]) \n",
        "           if u < xprob :\n",
        "               x_new = x_can\n",
        "           else: \n",
        "               x_new= x_old\n",
        "           y_can = new_states[1]\n",
        "           yprob =  min([1.,target(y_can)/target(y_old)]) \n",
        "           if u < yprob :\n",
        "                y_new =y_can\n",
        "           else: \n",
        "                y_new= y_old\n",
        "      \n",
        "           #XX.append([x_new,y_new])\n",
        "           XXX.append(x_new)\n",
        "           YYY.append(y_new)\n",
        "           x_old=x_new\n",
        "           y_old=y_new\n",
        "           \n",
        "  return XXX,YYY #XX"
      ],
      "execution_count": 83,
      "outputs": []
    },
    {
      "cell_type": "code",
      "metadata": {
        "colab": {
          "base_uri": "https://localhost:8080/",
          "height": 456
        },
        "id": "DjmKpyAYcBOK",
        "outputId": "df28278d-a77e-417b-c741-ca53e464e7fd"
      },
      "source": [
        "prova = metropolis_hastings(36,33)\n",
        "plt.hist(prova[0], bins=30)"
      ],
      "execution_count": 84,
      "outputs": [
        {
          "output_type": "execute_result",
          "data": {
            "text/plain": [
              "(array([  2.,   0.,   9.,  47.,  85., 114., 175., 187., 144., 137.,  62.,\n",
              "         28.,   2.,   5.,   0.,   0.,   0.,   0.,   0.,   0.,   0.,   0.,\n",
              "          0.,   0.,   0.,   0.,   0.,   0.,   0.,   3.]),\n",
              " array([33.57186787, 33.64726808, 33.72266829, 33.7980685 , 33.87346871,\n",
              "        33.94886892, 34.02426912, 34.09966933, 34.17506954, 34.25046975,\n",
              "        34.32586996, 34.40127017, 34.47667038, 34.55207059, 34.6274708 ,\n",
              "        34.70287101, 34.77827122, 34.85367143, 34.92907164, 35.00447185,\n",
              "        35.07987206, 35.15527227, 35.23067248, 35.30607269, 35.38147289,\n",
              "        35.4568731 , 35.53227331, 35.60767352, 35.68307373, 35.75847394,\n",
              "        35.83387415]),\n",
              " <a list of 30 Patch objects>)"
            ]
          },
          "metadata": {},
          "execution_count": 84
        },
        {
          "output_type": "display_data",
          "data": {
            "image/png": "[encoded data removed]",
            "text/plain": [
              "<Figure size 432x288 with 1 Axes>"
            ]
          },
          "metadata": {
            "needs_background": "light"
          }
        }
      ]
    }
  ]
}