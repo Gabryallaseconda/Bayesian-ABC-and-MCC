{
  "nbformat": 4,
  "nbformat_minor": 5,
  "metadata": {
    "kernelspec": {
      "display_name": "Python 3 (ipykernel)",
      "language": "python",
      "name": "python3"
    },
    "language_info": {
      "codemirror_mode": {
        "name": "ipython",
        "version": 3
      },
      "file_extension": ".py",
      "mimetype": "text/x-python",
      "name": "python",
      "nbconvert_exporter": "python",
      "pygments_lexer": "ipython3",
      "version": "3.9.7"
    },
    "colab": {
      "name": "ABC_VarianzaIncognita_nonfunzionachestrano.ipynb",
      "provenance": [],
      "collapsed_sections": []
    }
  },
  "cells": [
    {
      "cell_type": "code",
      "metadata": {
        "id": "ea31ed18-18f6-41bf-820c-8b9ab3a6eb7b"
      },
      "source": [
        "import numpy as np\n",
        "import matplotlib.pyplot as plt\n",
        "import seaborn as sns\n",
        "import pandas as pd\n",
        "import scipy.stats as sstat\n",
        "from mpmath import mp\n",
        "import math\n",
        "import random\n",
        "from scipy.stats import multivariate_normal\n",
        "\n",
        "psd = pd.DataFrame\n",
        "from tensorflow_probability.substrates import numpy as tfp\n",
        "tfd = tfp.distributions"
      ],
      "id": "ea31ed18-18f6-41bf-820c-8b9ab3a6eb7b",
      "execution_count": 386,
      "outputs": []
    },
    {
      "cell_type": "markdown",
      "source": [
        "Generiamo 1000 sample da una normale:\n",
        "\n",
        "\\begin{equation*}\n",
        "\\begin{aligned}\n",
        "    y_{obs} &\\sim \\mathcal{N}(\\mu_{obs}, σ_{obs} ^2) \\\\\n",
        "\\end{aligned}\n",
        "\\end{equation*}\n",
        "\n",
        "e scegliamo come modello:\n",
        "\n",
        "\\begin{equation*}\n",
        "\\begin{aligned}\n",
        "    y_i | \\mu &\\sim ^{iid} \\mathcal{N}(\\mu, \\sigma_{obs} ^2)  \\\\\n",
        "    \\mu & \\sim \\mathcal{N}(\\mu_0, \\sigma_0^2)\n",
        "\\end{aligned}\n",
        "\\end{equation*}\n",
        "\n",
        "$\\sigma_{obs}$ noto\n",
        "\n",
        "$\\mu_0, \\sigma_0$ fissati"
      ],
      "metadata": {
        "id": "tkZvVSYObRBv"
      },
      "id": "tkZvVSYObRBv"
    },
    {
      "cell_type": "markdown",
      "source": [
        "$\\mathscr{L}(y_i|\\mu)$:"
      ],
      "metadata": {
        "id": "I8CxF5fEdrKe"
      },
      "id": "I8CxF5fEdrKe"
    },
    {
      "cell_type": "code",
      "metadata": {
        "id": "TTSAOsuISlBL"
      },
      "source": [
        "def single_lik(mu,tau):\n",
        "   return tfd.Normal(mu,np.sqrt(1/tau))"
      ],
      "id": "TTSAOsuISlBL",
      "execution_count": 387,
      "outputs": []
    },
    {
      "cell_type": "markdown",
      "source": [
        "# $\\pi(\\mu)$:"
      ],
      "metadata": {
        "id": "GPNG3rfGeI9H"
      },
      "id": "GPNG3rfGeI9H"
    },
    {
      "cell_type": "code",
      "source": [
        "#c =\n",
        "#d =\n",
        "#mu0 =\n",
        "#k ="
      ],
      "metadata": {
        "id": "VAXcwM36sD_4"
      },
      "id": "VAXcwM36sD_4",
      "execution_count": 388,
      "outputs": []
    },
    {
      "cell_type": "code",
      "source": [
        "def prior_mu(tau):\n",
        "    return tfd.Normal(mu0,1/(k*tau))"
      ],
      "metadata": {
        "id": "xkExXqz-rVjc"
      },
      "id": "xkExXqz-rVjc",
      "execution_count": 389,
      "outputs": []
    },
    {
      "cell_type": "code",
      "source": [
        "def prior_tau():\n",
        "    return tfd.Gamma(c,d)"
      ],
      "metadata": {
        "id": "9uVMhINVru2p"
      },
      "id": "9uVMhINVru2p",
      "execution_count": 390,
      "outputs": []
    },
    {
      "cell_type": "code",
      "source": [
        "def total_prior():\n",
        "    t = tfd.Gamma(c,d).sample()\n",
        "    return tfd.Normal(mu0,1/(k*t))"
      ],
      "metadata": {
        "id": "IVTtI4hrj9b_"
      },
      "id": "IVTtI4hrj9b_",
      "execution_count": 391,
      "outputs": []
    },
    {
      "cell_type": "markdown",
      "source": [
        "proposal distribution $g(\\theta'|\\theta)$= $N(\\theta, 1)$"
      ],
      "metadata": {
        "id": "7WJZCt2MeXaX"
      },
      "id": "7WJZCt2MeXaX"
    },
    {
      "cell_type": "code",
      "metadata": {
        "id": "JRpqTBiqYTOl"
      },
      "source": [
        "def proposal(theta1):\n",
        "  return tfd.Normal(theta1,1)"
      ],
      "id": "JRpqTBiqYTOl",
      "execution_count": 392,
      "outputs": []
    },
    {
      "cell_type": "code",
      "source": [
        "def total_proposal(mu,tau): \n",
        "  return sstat.multivariate_normal([mu,tau],[[1,0],[0,0.5]])"
      ],
      "metadata": {
        "id": "a4d4zZCe0K1E"
      },
      "id": "a4d4zZCe0K1E",
      "execution_count": 393,
      "outputs": []
    },
    {
      "cell_type": "code",
      "source": [
        "yy=total_proposal(0,0)\n",
        "yy.rvs()"
      ],
      "metadata": {
        "colab": {
          "base_uri": "https://localhost:8080/"
        },
        "id": "8YTNz0AMtppE",
        "outputId": "867dde78-6266-4609-c31f-b8f830a29d16"
      },
      "id": "8YTNz0AMtppE",
      "execution_count": 394,
      "outputs": [
        {
          "output_type": "execute_result",
          "data": {
            "text/plain": [
              "array([ 0.50923329, -0.49504823])"
            ]
          },
          "metadata": {},
          "execution_count": 394
        }
      ]
    },
    {
      "cell_type": "markdown",
      "source": [
        "definiamo la funzione Kernel Gaussiana"
      ],
      "metadata": {
        "id": "Qxg0rrR5fVse"
      },
      "id": "Qxg0rrR5fVse"
    },
    {
      "cell_type": "code",
      "metadata": {
        "id": "q7BAYb1rZ24M"
      },
      "source": [
        "def my_kernel(u):\n",
        "  return 1/(np.sqrt(2*math.pi))*np.exp(-1/2*u**2)"
      ],
      "id": "q7BAYb1rZ24M",
      "execution_count": 395,
      "outputs": []
    },
    {
      "cell_type": "code",
      "metadata": {
        "id": "wFEIc1dEa6Al"
      },
      "source": [
        "def K_h(u,h):\n",
        "  return my_kernel(u/h)/h"
      ],
      "id": "wFEIc1dEa6Al",
      "execution_count": 396,
      "outputs": []
    },
    {
      "cell_type": "markdown",
      "source": [
        "Come summary statistics utilizziamo:\n",
        "\n",
        "\n",
        "*   Quantili\n",
        "*   Media campionaria\n",
        "\n"
      ],
      "metadata": {
        "id": "HIXl408VfcgR"
      },
      "id": "HIXl408VfcgR"
    },
    {
      "cell_type": "code",
      "metadata": {
        "id": "2NUHjqBFfA8J"
      },
      "source": [
        "def S2(y):\n",
        "  quantiles=[]\n",
        "  for i in range(9):\n",
        "      quantiles.append(np.quantile(y,0.1+0.1*i))         #quantili 0,1 0,2 0,3 0,4 0,5 0,6 0,7 0,8 0,9\n",
        "  return quantiles"
      ],
      "id": "2NUHjqBFfA8J",
      "execution_count": 397,
      "outputs": []
    },
    {
      "cell_type": "code",
      "source": [
        "def S1(y):\n",
        "  s_1 = np.mean(y)\n",
        "  s_2 = np.var(y)\n",
        "  return [s_1,s_2]"
      ],
      "metadata": {
        "id": "bdJNO64L_cLP"
      },
      "id": "bdJNO64L_cLP",
      "execution_count": 398,
      "outputs": []
    },
    {
      "cell_type": "markdown",
      "metadata": {
        "id": "pjFy716PTf9o"
      },
      "source": [
        "ABC algorithm:"
      ],
      "id": "pjFy716PTf9o"
    },
    {
      "cell_type": "code",
      "metadata": {
        "id": "08d5186c-a5b1-454f-a356-aeef3b2b17ef"
      },
      "source": [
        "def abc_algo (N, S, y_obs, h):\n",
        "    s_obs = S(y_obs)\n",
        "    theta_mu = []\n",
        "    theta_tau = []\n",
        "    s = []\n",
        "    y = []\n",
        "    theta_tau0 = prior_tau().sample()\n",
        "    theta_mu0 = prior_mu(theta_tau0).sample()\n",
        "    y_0 = single_lik(theta_mu0,theta_tau0).sample(1000) \n",
        "    s_0 = S(y_0)\n",
        "    \n",
        "    while K_h(np.linalg.norm(np.array(s_0)-np.array(s_obs)),h)<=0:\n",
        "        theta_tau0 = prior_tau().sample()\n",
        "        theta_mu0 = prior_mu(theta_tau0).sample()\n",
        "        y_0 = single_lik(theta_mu0,theta_tau0).sample(1000) \n",
        "        s_0 = S(y_0)\n",
        "      \n",
        "    theta_mu.append(theta_mu0)\n",
        "    theta_tau.append(theta_tau0)\n",
        "    s.append(s_0)\n",
        "    #y.append(y_0)\n",
        "    theta_muold = theta_mu0\n",
        "    theta_tauold = theta_tau0\n",
        "    s_old = s_0\n",
        "    #y_old = y_0\n",
        "\n",
        "    for i in range(N):\n",
        "        [theta_mucurrent,theta_taucurrent] = total_proposal(theta_muold,theta_tauold).rvs()\n",
        "        #theta_mucurrent = proposal(theta_muold).sample()\n",
        "        #theta_taucurrent = proposal(theta_tauold).sample()\n",
        "        y_current = single_lik(theta_mucurrent,theta_taucurrent).sample(1000)\n",
        "        #y.append(y_current)\n",
        "        s_current = S(y_current)\n",
        "               \n",
        "        prob = min([1.,(K_h(np.linalg.norm(np.array(s_current) - np.array(s_obs)),h)*prior_tau().prob(theta_taucurrent)*prior_mu(theta_taucurrent).prob(theta_mucurrent)*total_proposal(theta_muold,theta_tauold).pdf([theta_mucurrent,theta_taucurrent]))/(\n",
        "             K_h(np.linalg.norm(np.array(s_old)-np.array(s_obs)),h)*(prior_tau().prob(theta_tauold)*prior_mu(theta_tauold).prob(theta_muold))*total_proposal(theta_mucurrent,theta_taucurrent).pdf([theta_muold,theta_tauold]))])\n",
        "        \n",
        "        #nella seconda ho semplificato la proposal\n",
        "        #prob = min([1.,(K_h(np.linalg.norm(np.array(s_current) - np.array(s_obs)),h)*prior_tau().prob(theta_taucurrent)*prior_mu(theta_taucurrent).prob(theta_mucurrent))/(\n",
        "          #   K_h(np.linalg.norm(np.array(s_old)-np.array(s_obs)),h)*(prior_tau().prob(theta_tauold)*prior_mu(theta_tauold).prob(theta_muold)))])\n",
        "        \n",
        "        u = tfd.Uniform(0,1).sample()\n",
        "        if u < prob:\n",
        "              theta_mui = theta_mucurrent\n",
        "              theta_taui = theta_taucurrent\n",
        "              s_i = s_current\n",
        "        else: \n",
        "              theta_mui = theta_muold\n",
        "              theta_taui = theta_tauold\n",
        "              s_i = s_old\n",
        "              #y.pop()\n",
        "              #y.append(y_old)\n",
        "\n",
        "        theta_muold = theta_mui\n",
        "        theta_tauold = theta_taui\n",
        "        s_old = s_i\n",
        "        \n",
        "        theta_mu.append(theta_mui)\n",
        "        theta_tau.append(theta_taui)\n",
        "        s.append(s_i)\n",
        "        \n",
        "    return  theta_mu    #theta_mu   #theta_tau"
      ],
      "id": "08d5186c-a5b1-454f-a356-aeef3b2b17ef",
      "execution_count": 399,
      "outputs": []
    },
    {
      "cell_type": "markdown",
      "source": [
        "testiamo con le seguenti variabili:"
      ],
      "metadata": {
        "id": "3-5tUImBf2d4"
      },
      "id": "3-5tUImBf2d4"
    },
    {
      "cell_type": "code",
      "source": [
        "##VARIABILI:\n",
        "c = 1\n",
        "d = 1\n",
        "mu0 = 34\n",
        "k = 5\n",
        "n = 100\n",
        "mu_obs = 30\n",
        "tau_obs = 3\n",
        "y_obs = tfp.distributions.Normal(mu_obs,np.sqrt(1/tau_obs)).sample(1000)"
      ],
      "metadata": {
        "id": "hqEynA9h84fo"
      },
      "id": "hqEynA9h84fo",
      "execution_count": 400,
      "outputs": []
    },
    {
      "cell_type": "code",
      "source": [
        "prova = abc_algo (500, S1, y_obs, 0.1)   "
      ],
      "metadata": {
        "id": "JhRGickt2QNl",
        "colab": {
          "base_uri": "https://localhost:8080/"
        },
        "outputId": "c63b6b3e-5165-431e-9316-2ed94f1f746e"
      },
      "id": "JhRGickt2QNl",
      "execution_count": 401,
      "outputs": [
        {
          "output_type": "stream",
          "name": "stderr",
          "text": [
            "/usr/local/lib/python3.7/dist-packages/ipykernel_launcher.py:2: RuntimeWarning: invalid value encountered in sqrt\n",
            "  \n",
            "/usr/local/lib/python3.7/dist-packages/tensorflow_probability/python/internal/backend/numpy/numpy_math.py:659: RuntimeWarning: invalid value encountered in log\n",
            "  lambda x, name=None: np.log(_convert_to_tensor(x)))\n",
            "/usr/local/lib/python3.7/dist-packages/ipykernel_launcher.py:36: RuntimeWarning: invalid value encountered in double_scalars\n"
          ]
        }
      ]
    },
    {
      "cell_type": "code",
      "source": [
        "#prova"
      ],
      "metadata": {
        "id": "p15bnOd_pmyA"
      },
      "id": "p15bnOd_pmyA",
      "execution_count": 402,
      "outputs": []
    },
    {
      "cell_type": "code",
      "source": [
        "plt.hist(prova[100:])"
      ],
      "metadata": {
        "colab": {
          "base_uri": "https://localhost:8080/",
          "height": 352
        },
        "id": "Le_Uq4b5gK0Z",
        "outputId": "f65dd4c4-269c-4af6-d37c-39674f354c1c"
      },
      "id": "Le_Uq4b5gK0Z",
      "execution_count": 403,
      "outputs": [
        {
          "output_type": "execute_result",
          "data": {
            "text/plain": [
              "(array([ 6., 13., 28., 40., 85., 60., 51., 51., 39., 28.]),\n",
              " array([39.25220984, 41.48656815, 43.72092647, 45.95528478, 48.18964309,\n",
              "        50.42400141, 52.65835972, 54.89271803, 57.12707635, 59.36143466,\n",
              "        61.59579297]),\n",
              " <a list of 10 Patch objects>)"
            ]
          },
          "metadata": {},
          "execution_count": 403
        },
        {
          "output_type": "display_data",
          "data": {
            "image/png": "[encoded data removed]",
            "text/plain": [
              "<Figure size 432x288 with 1 Axes>"
            ]
          },
          "metadata": {
            "needs_background": "light"
          }
        }
      ]
    },
    {
      "cell_type": "code",
      "source": [
        "plt.hist(prova,bins=18)"
      ],
      "metadata": {
        "colab": {
          "base_uri": "https://localhost:8080/",
          "height": 387
        },
        "id": "aQLXbXBzpabA",
        "outputId": "6b81753e-d16e-42aa-916f-9ed9a9b290e7"
      },
      "id": "aQLXbXBzpabA",
      "execution_count": 404,
      "outputs": [
        {
          "output_type": "execute_result",
          "data": {
            "text/plain": [
              "(array([ 5.,  9., 18., 13.,  7., 13., 24., 15., 24., 29., 35., 70., 63.,\n",
              "        38., 47., 37., 31., 23.]),\n",
              " array([27.60456107, 29.49296285, 31.38136462, 33.26976639, 35.15816816,\n",
              "        37.04656994, 38.93497171, 40.82337348, 42.71177525, 44.60017702,\n",
              "        46.4885788 , 48.37698057, 50.26538234, 52.15378411, 54.04218588,\n",
              "        55.93058766, 57.81898943, 59.7073912 , 61.59579297]),\n",
              " <a list of 18 Patch objects>)"
            ]
          },
          "metadata": {},
          "execution_count": 404
        },
        {
          "output_type": "display_data",
          "data": {
            "image/png": "[encoded data removed]",
            "text/plain": [
              "<Figure size 432x288 with 1 Axes>"
            ]
          },
          "metadata": {
            "needs_background": "light"
          }
        }
      ]
    },
    {
      "cell_type": "markdown",
      "source": [
        "controlliamo il risultato plottando la posterior corretta"
      ],
      "metadata": {
        "id": "31KPkK-Of_5x"
      },
      "id": "31KPkK-Of_5x"
    },
    {
      "cell_type": "code",
      "metadata": {
        "id": "kbEWXmM3dwij"
      },
      "source": [
        "#NO\n",
        "def real_posterior(mu0,n,y):\n",
        "    y= tfd.Normal(1/(1/sigma0**2 + n/sigma_obs**2)*(mu0/sigma0**2 + (np.sum(y)/sigma_obs**2)),1/(1/sigma0**2 + n/sigma_obs**2))   \n",
        "    return y"
      ],
      "id": "kbEWXmM3dwij",
      "execution_count": 405,
      "outputs": []
    },
    {
      "cell_type": "code",
      "source": [
        "#NO\n",
        "import scipy.stats as stats\n",
        "x = np.linspace(mu_obs - 3*np.sqrt(1/tau_obs), mu_obs + 3*np.sqrt(1/tau_obs), 100)\n",
        "\n",
        "plt.hist(prova)\n",
        "#plt.plot(x, 10*stats.norm.pdf(x,1/(1/sigma0**2 + n/sigma_obs**2)*(mu0/sigma0**2 + (np.sum(y_obs)/sigma_obs**2)), 1/(1/sigma0**2 + n/sigma_obs**2)))\n",
        "plt.show()"
      ],
      "metadata": {
        "colab": {
          "base_uri": "https://localhost:8080/",
          "height": 266
        },
        "id": "B26DTJHWCAUT",
        "outputId": "63f421c7-128f-46d8-d7ca-f8db7272a3ab"
      },
      "id": "B26DTJHWCAUT",
      "execution_count": 406,
      "outputs": [
        {
          "output_type": "display_data",
          "data": {
            "image/png": "[encoded data removed]",
            "text/plain": [
              "<Figure size 432x288 with 1 Axes>"
            ]
          },
          "metadata": {
            "needs_background": "light"
          }
        }
      ]
    },
    {
      "cell_type": "markdown",
      "source": [
        "MH restituisce delle μ sampled dalla prior e non dalla posterior "
      ],
      "metadata": {
        "id": "ymo7vFWWtpzB"
      },
      "id": "ymo7vFWWtpzB"
    }
  ]
}