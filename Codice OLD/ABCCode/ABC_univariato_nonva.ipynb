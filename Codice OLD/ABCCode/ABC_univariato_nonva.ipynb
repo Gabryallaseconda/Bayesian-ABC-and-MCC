{
  "nbformat": 4,
  "nbformat_minor": 5,
  "metadata": {
    "kernelspec": {
      "display_name": "Python 3 (ipykernel)",
      "language": "python",
      "name": "python3"
    },
    "language_info": {
      "codemirror_mode": {
        "name": "ipython",
        "version": 3
      },
      "file_extension": ".py",
      "mimetype": "text/x-python",
      "name": "python",
      "nbconvert_exporter": "python",
      "pygments_lexer": "ipython3",
      "version": "3.9.7"
    },
    "colab": {
      "name": "ABC_univariato.ipynb",
      "provenance": [],
      "collapsed_sections": []
    }
  },
  "cells": [
    {
      "cell_type": "code",
      "metadata": {
        "id": "ea31ed18-18f6-41bf-820c-8b9ab3a6eb7b"
      },
      "source": [
        "import numpy as np\n",
        "import matplotlib.pyplot as plt\n",
        "import seaborn as sns\n",
        "import pandas as pd\n",
        "import scipy.stats as sstat\n",
        "from mpmath import mp\n",
        "import math\n",
        "import random\n",
        "\n",
        "psd = pd.DataFrame\n",
        "from tensorflow_probability.substrates import numpy as tfp\n",
        "tfd = tfp.distributions"
      ],
      "id": "ea31ed18-18f6-41bf-820c-8b9ab3a6eb7b",
      "execution_count": 286,
      "outputs": []
    },
    {
      "cell_type": "code",
      "source": [
        "##VARIABILI:\n",
        "mu0 = 120\n",
        "sigma0 = 4\n",
        "N = 1000\n",
        "#mu = prior().sample()\n",
        "mu_obs = 123\n",
        "sigma_obs = 3\n",
        "y_obs = tfp.distributions.Normal(mu_obs,sigma_obs).sample(1000)\n",
        "s_obs =S(y_obs)\n",
        "h=0.8"
      ],
      "metadata": {
        "id": "hqEynA9h84fo"
      },
      "id": "hqEynA9h84fo",
      "execution_count": 287,
      "outputs": []
    },
    {
      "cell_type": "code",
      "metadata": {
        "tags": [],
        "id": "74095443-763a-4c43-99f7-fb70db2f36c5"
      },
      "source": [
        "#likelihood vera\n",
        "def lik_real(mu,n,y,sigma):\n",
        "    med = 1/n*np.sum(y)\n",
        "    yyy = []\n",
        "   # ssum = np.sum(yyy)\n",
        "    for j in range(len(y)):\n",
        "        yyy.append((y[j]-med)**2)\n",
        "        ssum = np.sum(yyy)\n",
        "        res = math.e**(-1/(2*sigma**2)*(n*(mu-med)**2 + ssum))\n",
        "    return res"
      ],
      "id": "74095443-763a-4c43-99f7-fb70db2f36c5",
      "execution_count": 288,
      "outputs": []
    },
    {
      "cell_type": "code",
      "metadata": {
        "id": "TTSAOsuISlBL"
      },
      "source": [
        "def single_lik(mu):\n",
        "   y= tfd.Normal(mu,sigma_obs)\n",
        "   return y"
      ],
      "id": "TTSAOsuISlBL",
      "execution_count": 289,
      "outputs": []
    },
    {
      "cell_type": "code",
      "metadata": {
        "tags": [],
        "id": "9e065282-a03b-446c-9439-925c9950bac7"
      },
      "source": [
        "def prior():\n",
        "    return tfd.Normal(mu0,sigma0)\n",
        "    "
      ],
      "id": "9e065282-a03b-446c-9439-925c9950bac7",
      "execution_count": 290,
      "outputs": []
    },
    {
      "cell_type": "code",
      "metadata": {
        "id": "kbEWXmM3dwij"
      },
      "source": [
        "def real_posterior(mu0,n,y):\n",
        "    y= tfd.Normal(1/(1/sigma0**2 + n/sigma_obs**2)*(mu0/sigma0**2 + (np.sum(y)/sigma_obs**2)),1/(1/sigma0**2 + n/sigma_obs**2))   #??? non sono molto sicura di averla scritta bene\n",
        "    return y"
      ],
      "id": "kbEWXmM3dwij",
      "execution_count": 291,
      "outputs": []
    },
    {
      "cell_type": "code",
      "source": [
        "ciaoooo = real_posterior(mu0,1000,y_obs)\n",
        "uuuu = ciaoooo.sample(1000)\n",
        "plt.hist(uuuu)"
      ],
      "metadata": {
        "colab": {
          "base_uri": "https://localhost:8080/",
          "height": 352
        },
        "id": "TxxUUJ1g3DVY",
        "outputId": "1a695938-0e72-4cbf-9838-501c12205b26"
      },
      "id": "TxxUUJ1g3DVY",
      "execution_count": 292,
      "outputs": [
        {
          "output_type": "execute_result",
          "data": {
            "text/plain": [
              "(array([  6.,  40.,  76., 166., 198., 228., 170.,  73.,  37.,   6.]),\n",
              " array([122.89729712, 122.90263238, 122.90796763, 122.91330289,\n",
              "        122.91863815, 122.9239734 , 122.92930866, 122.93464392,\n",
              "        122.93997917, 122.94531443, 122.95064969]),\n",
              " <a list of 10 Patch objects>)"
            ]
          },
          "metadata": {},
          "execution_count": 292
        },
        {
          "output_type": "display_data",
          "data": {
            "image/png": "[encoded data removed]",
            "text/plain": [
              "<Figure size 432x288 with 1 Axes>"
            ]
          },
          "metadata": {
            "needs_background": "light"
          }
        }
      ]
    },
    {
      "cell_type": "code",
      "metadata": {
        "id": "JRpqTBiqYTOl"
      },
      "source": [
        "def proposal(teta1):\n",
        "  #return tfd.uniform(0,1).sample()\n",
        "  return tfd.Normal(teta1,4)"
      ],
      "id": "JRpqTBiqYTOl",
      "execution_count": 293,
      "outputs": []
    },
    {
      "cell_type": "code",
      "metadata": {
        "id": "q7BAYb1rZ24M"
      },
      "source": [
        "def my_kernel(u):\n",
        "  return 1/(np.sqrt(2*math.pi))*np.exp(-1/2*u**2)"
      ],
      "id": "q7BAYb1rZ24M",
      "execution_count": 294,
      "outputs": []
    },
    {
      "cell_type": "code",
      "metadata": {
        "id": "wFEIc1dEa6Al"
      },
      "source": [
        "def K_h(u):\n",
        "  return my_kernel(u/h)/h"
      ],
      "id": "wFEIc1dEa6Al",
      "execution_count": 295,
      "outputs": []
    },
    {
      "cell_type": "code",
      "metadata": {
        "id": "2NUHjqBFfA8J"
      },
      "source": [
        "def S1(y):\n",
        "  quantiles=[]\n",
        "  for i in range(9):\n",
        "      quantiles.append(np.quantile(y,0.1+0.1*i))\n",
        "      #np.mean(y)\n",
        "  return quantiles"
      ],
      "id": "2NUHjqBFfA8J",
      "execution_count": 296,
      "outputs": []
    },
    {
      "cell_type": "code",
      "source": [
        "def S(y):\n",
        "  return np.mean(y)"
      ],
      "metadata": {
        "id": "bdJNO64L_cLP"
      },
      "id": "bdJNO64L_cLP",
      "execution_count": 297,
      "outputs": []
    },
    {
      "cell_type": "markdown",
      "metadata": {
        "id": "pjFy716PTf9o"
      },
      "source": [
        "in teoria non serve la target perché creiamo la distribuzione con la simulazione"
      ],
      "id": "pjFy716PTf9o"
    },
    {
      "cell_type": "code",
      "metadata": {
        "id": "08d5186c-a5b1-454f-a356-aeef3b2b17ef"
      },
      "source": [
        "def abc_algo (N, s_obs):\n",
        "    theta=[]\n",
        "    s = []\n",
        "    y = []\n",
        "    theta_0 = prior().sample()\n",
        "    #theta.append(theta_0)\n",
        "    y_0 = single_lik(theta_0).sample() \n",
        "    s_0 = S(y_0)\n",
        "    #theta.append(teta_0)\n",
        "    #s.append(s_0)\n",
        "    #y.append(y_0)\n",
        "    \n",
        "    #IT=0\n",
        "    while K_h(np.linalg.norm(np.array(s_0)-np.array(s_obs)))<=0:\n",
        "        theta_0 = prior().sample()\n",
        "        y_0 = single_lik(theta_0).sample() \n",
        "        s_0 = S(y_0)\n",
        "       # IT= IT +1\n",
        "    #print(IT)\n",
        "    theta.append(theta_0)\n",
        "    s.append(s_0)\n",
        "    y.append(y_0)\n",
        "    theta_old = theta_0\n",
        "    s_old = s_0\n",
        "    y_old = y_0\n",
        "\n",
        "    for i in range(N):\n",
        "        theta_current = proposal(theta_old).sample()\n",
        "        y_current = single_lik(theta_current).sample()\n",
        "        y.append(y_current)\n",
        "        s_current = S(y)\n",
        "               \n",
        "        prob = min([1.,(K_h(np.linalg.norm(np.array(s_current) - np.array(s_obs)))*prior().prob(theta_current)*proposal(theta_old).prob(theta_current))/(\n",
        "             K_h(np.linalg.norm(np.array(s_old)-np.array(s_obs)))*prior().prob(theta_old)*proposal(theta_current).prob(theta_old))])\n",
        "        u = tfd.Uniform(0,1).sample()\n",
        "        if u < prob:\n",
        "              theta_i = theta_current\n",
        "              s_i = s_current\n",
        "        else: \n",
        "              theta_i = theta_old\n",
        "              s_i = s_old\n",
        "              y.pop()\n",
        "              y.append(y_old)\n",
        "\n",
        "        theta_old = theta_i\n",
        "        s_old = s_i\n",
        "        \n",
        "        theta.append(theta_i)\n",
        "        s.append(s_i)\n",
        "        \n",
        "    return  theta"
      ],
      "id": "08d5186c-a5b1-454f-a356-aeef3b2b17ef",
      "execution_count": 298,
      "outputs": []
    },
    {
      "cell_type": "code",
      "source": [
        "prova = abc_algo (1000, s_obs)"
      ],
      "metadata": {
        "id": "JhRGickt2QNl"
      },
      "id": "JhRGickt2QNl",
      "execution_count": 299,
      "outputs": []
    },
    {
      "cell_type": "code",
      "metadata": {
        "colab": {
          "base_uri": "https://localhost:8080/",
          "height": 352
        },
        "id": "UwGDqhDTdYUx",
        "outputId": "cb4bbb68-6da9-4b0f-f140-4be522edc782"
      },
      "source": [
        "plt.hist(prova)\n",
        "#x_grid= np.linspace(1.,20.,1000)\n",
        "#mu = prior(mu0)\n",
        "#y_obs = tfp.distributions.Normal(mu,5).sample(1000)\n",
        "#n = len(y_obs)\n",
        "#y = target(mu, n, y_obs).sample(1000)  # sample?\n",
        "#print(y)\n",
        "#plt.plot(x_grid , y)\n",
        "#print(prova)"
      ],
      "id": "UwGDqhDTdYUx",
      "execution_count": 300,
      "outputs": [
        {
          "output_type": "execute_result",
          "data": {
            "text/plain": [
              "(array([  1.,  11.,  67.,  83., 182., 284., 187., 139.,  36.,  11.]),\n",
              " array([106.13043 , 108.608826, 111.08723 , 113.56562 , 116.04402 ,\n",
              "        118.522415, 121.00081 , 123.47921 , 125.9576  , 128.436   ,\n",
              "        130.9144  ], dtype=float32),\n",
              " <a list of 10 Patch objects>)"
            ]
          },
          "metadata": {},
          "execution_count": 300
        },
        {
          "output_type": "display_data",
          "data": {
            "image/png": "[encoded data removed]",
            "text/plain": [
              "<Figure size 432x288 with 1 Axes>"
            ]
          },
          "metadata": {
            "needs_background": "light"
          }
        }
      ]
    },
    {
      "cell_type": "code",
      "metadata": {
        "colab": {
          "base_uri": "https://localhost:8080/",
          "height": 283
        },
        "id": "HbwMJ1UXnAoq",
        "outputId": "3df69817-acf2-4d37-ab70-612e2ee0c71f"
      },
      "source": [
        "x_grid= np.linspace(100,150,1000)\n",
        "f,axs = plt.subplots(1,2)\n",
        "axs[0].hist(prova)\n",
        "axs[1].plot(x_grid , uuuu)\n",
        "\n",
        "# qualcosa non va in questa y..."
      ],
      "id": "HbwMJ1UXnAoq",
      "execution_count": 301,
      "outputs": [
        {
          "output_type": "execute_result",
          "data": {
            "text/plain": [
              "[<matplotlib.lines.Line2D at 0x7f03a1f6ef50>]"
            ]
          },
          "metadata": {},
          "execution_count": 301
        },
        {
          "output_type": "display_data",
          "data": {
            "image/png": "[encoded data removed]",
            "text/plain": [
              "<Figure size 432x288 with 2 Axes>"
            ]
          },
          "metadata": {
            "needs_background": "light"
          }
        }
      ]
    },
    {
      "cell_type": "code",
      "source": [
        "import scipy.stats as stats\n",
        "x = np.linspace(mu_obs - 3*sigma_obs, mu_obs + 3*sigma_obs, 100)\n",
        "f,axs = plt.subplots(1,2)\n",
        "axs[0].hist(prova)\n",
        "#axs[0].plot(123, np.linspace(0,250,250))\n",
        "axs[0].plot(x, 2000*stats.norm.pdf(x, mu_obs, sigma_obs))\n",
        "axs[0].plot(x, 2000*stats.norm.pdf(x, mu0, sigma_obs))\n",
        "axs[1].plot(x, stats.norm.pdf(x, mu_obs, sigma_obs))\n",
        "plt.show()"
      ],
      "metadata": {
        "colab": {
          "base_uri": "https://localhost:8080/",
          "height": 265
        },
        "id": "B26DTJHWCAUT",
        "outputId": "8a9e12a0-1476-4d9e-d7e4-417ad5c1272b"
      },
      "id": "B26DTJHWCAUT",
      "execution_count": 302,
      "outputs": [
        {
          "output_type": "display_data",
          "data": {
            "image/png": "[encoded data removed]",
            "text/plain": [
              "<Figure size 432x288 with 2 Axes>"
            ]
          },
          "metadata": {
            "needs_background": "light"
          }
        }
      ]
    }
  ]
}