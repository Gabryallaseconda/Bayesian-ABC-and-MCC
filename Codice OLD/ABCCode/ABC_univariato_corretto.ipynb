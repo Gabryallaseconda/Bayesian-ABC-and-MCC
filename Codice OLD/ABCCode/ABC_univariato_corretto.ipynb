{
  "nbformat": 4,
  "nbformat_minor": 5,
  "metadata": {
    "kernelspec": {
      "display_name": "Python 3 (ipykernel)",
      "language": "python",
      "name": "python3"
    },
    "language_info": {
      "codemirror_mode": {
        "name": "ipython",
        "version": 3
      },
      "file_extension": ".py",
      "mimetype": "text/x-python",
      "name": "python",
      "nbconvert_exporter": "python",
      "pygments_lexer": "ipython3",
      "version": "3.9.7"
    },
    "colab": {
      "name": "ABC_univariato_DACORREGGERE.ipynb",
      "provenance": [],
      "collapsed_sections": []
    }
  },
  "cells": [
    {
      "cell_type": "code",
      "metadata": {
        "id": "ea31ed18-18f6-41bf-820c-8b9ab3a6eb7b"
      },
      "source": [
        "import numpy as np\n",
        "import matplotlib.pyplot as plt\n",
        "import seaborn as sns\n",
        "import pandas as pd\n",
        "import scipy.stats as sstat\n",
        "from mpmath import mp\n",
        "import math\n",
        "import random\n",
        "\n",
        "psd = pd.DataFrame\n",
        "from tensorflow_probability.substrates import numpy as tfp\n",
        "tfd = tfp.distributions"
      ],
      "id": "ea31ed18-18f6-41bf-820c-8b9ab3a6eb7b",
      "execution_count": 183,
      "outputs": []
    },
    {
      "cell_type": "markdown",
      "source": [
        "Generiamo 1000 sample da una normale:\n",
        "\n",
        "\\begin{equation*}\n",
        "\\begin{aligned}\n",
        "    y_{obs} &\\sim \\mathcal{N}(\\mu_{obs}, σ_{obs} ^2) \\\\\n",
        "\\end{aligned}\n",
        "\\end{equation*}\n",
        "\n",
        "e scegliamo come modello:\n",
        "\n",
        "\\begin{equation*}\n",
        "\\begin{aligned}\n",
        "    y_i | \\mu &\\sim ^{iid} \\mathcal{N}(\\mu, \\sigma_{obs} ^2)  \\\\\n",
        "    \\mu & \\sim \\mathcal{N}(\\mu_0, \\sigma_0^2)\n",
        "\\end{aligned}\n",
        "\\end{equation*}\n",
        "\n",
        "$\\sigma_{obs}$ noto\n",
        "\n",
        "$\\mu_0, \\sigma_0$ fissati"
      ],
      "metadata": {
        "id": "tkZvVSYObRBv"
      },
      "id": "tkZvVSYObRBv"
    },
    {
      "cell_type": "markdown",
      "source": [
        "$\\mathscr{L}(y_i|\\mu)$:"
      ],
      "metadata": {
        "id": "I8CxF5fEdrKe"
      },
      "id": "I8CxF5fEdrKe"
    },
    {
      "cell_type": "code",
      "metadata": {
        "id": "TTSAOsuISlBL"
      },
      "source": [
        "def single_lik(mu):\n",
        "   y= tfd.Normal(mu,sigma_obs)\n",
        "   return y"
      ],
      "id": "TTSAOsuISlBL",
      "execution_count": 184,
      "outputs": []
    },
    {
      "cell_type": "markdown",
      "source": [
        "# $\\pi(\\mu)$:"
      ],
      "metadata": {
        "id": "GPNG3rfGeI9H"
      },
      "id": "GPNG3rfGeI9H"
    },
    {
      "cell_type": "code",
      "metadata": {
        "tags": [],
        "id": "9e065282-a03b-446c-9439-925c9950bac7"
      },
      "source": [
        "def prior():\n",
        "    return tfd.Normal(mu0,sigma0)\n",
        "    "
      ],
      "id": "9e065282-a03b-446c-9439-925c9950bac7",
      "execution_count": 185,
      "outputs": []
    },
    {
      "cell_type": "markdown",
      "source": [
        "proposal distribution $g(\\theta'|\\theta)$= $N(\\theta, 1)$"
      ],
      "metadata": {
        "id": "7WJZCt2MeXaX"
      },
      "id": "7WJZCt2MeXaX"
    },
    {
      "cell_type": "code",
      "metadata": {
        "id": "JRpqTBiqYTOl"
      },
      "source": [
        "def proposal(theta1):\n",
        "  return tfd.Normal(theta1,4)"
      ],
      "id": "JRpqTBiqYTOl",
      "execution_count": 186,
      "outputs": []
    },
    {
      "cell_type": "markdown",
      "source": [
        "definiamo la funzione Kernel Gaussiana"
      ],
      "metadata": {
        "id": "Qxg0rrR5fVse"
      },
      "id": "Qxg0rrR5fVse"
    },
    {
      "cell_type": "code",
      "metadata": {
        "id": "q7BAYb1rZ24M"
      },
      "source": [
        "def my_kernel(u):\n",
        "  return 1/(np.sqrt(2*math.pi))*np.exp(-1/2*u**2)"
      ],
      "id": "q7BAYb1rZ24M",
      "execution_count": 187,
      "outputs": []
    },
    {
      "cell_type": "code",
      "metadata": {
        "id": "wFEIc1dEa6Al"
      },
      "source": [
        "def K_h(u,h):\n",
        "  return my_kernel(u/h)/h"
      ],
      "id": "wFEIc1dEa6Al",
      "execution_count": 188,
      "outputs": []
    },
    {
      "cell_type": "markdown",
      "source": [
        "Come summary statistics utilizziamo:\n",
        "\n",
        "\n",
        "*   Quantili\n",
        "*   Media campionaria\n",
        "\n"
      ],
      "metadata": {
        "id": "HIXl408VfcgR"
      },
      "id": "HIXl408VfcgR"
    },
    {
      "cell_type": "code",
      "metadata": {
        "id": "2NUHjqBFfA8J"
      },
      "source": [
        "def S1(y):\n",
        "  quantiles=[]\n",
        "  for i in range(9):\n",
        "      quantiles.append(np.quantile(y,0.1+0.1*i))         #quantili 0,1 0,2 0,3 0,4 0,5 0,6 0,7 0,8 0,9\n",
        "  return quantiles"
      ],
      "id": "2NUHjqBFfA8J",
      "execution_count": 189,
      "outputs": []
    },
    {
      "cell_type": "code",
      "source": [
        "def S2(y):\n",
        "  return np.mean(y)"
      ],
      "metadata": {
        "id": "bdJNO64L_cLP"
      },
      "id": "bdJNO64L_cLP",
      "execution_count": 190,
      "outputs": []
    },
    {
      "cell_type": "markdown",
      "metadata": {
        "id": "pjFy716PTf9o"
      },
      "source": [
        "ABC algorithm:"
      ],
      "id": "pjFy716PTf9o"
    },
    {
      "cell_type": "code",
      "metadata": {
        "id": "08d5186c-a5b1-454f-a356-aeef3b2b17ef"
      },
      "source": [
        "def abc_algo (N, S, y_obs, h):\n",
        "    s_obs = S(y_obs)\n",
        "    theta=[]\n",
        "    s = []\n",
        "    y = []\n",
        "    theta_0 = prior().sample()\n",
        "    y_0 = single_lik(theta_0).sample() \n",
        "    s_0 = S(y_0)\n",
        "    \n",
        "    while K_h(np.linalg.norm(np.array(s_0)-np.array(s_obs)),h)<=0:\n",
        "        theta_0 = prior().sample()\n",
        "        y_0 = single_lik(theta_0).sample() \n",
        "        s_0 = S(y_0)\n",
        "      \n",
        "    theta.append(theta_0)\n",
        "    s.append(s_0)\n",
        "    y.append(y_0)\n",
        "    theta_old = theta_0\n",
        "    s_old = s_0\n",
        "    y_old = y_0\n",
        "\n",
        "    for i in range(N):\n",
        "        theta_current = proposal(theta_old).sample()\n",
        "        y_current = single_lik(theta_current).sample(1000)\n",
        "        #y.append(y_current)\n",
        "        s_current = S(y_current)\n",
        "               \n",
        "        prob = min([1.,(K_h(np.linalg.norm(np.array(s_current) - np.array(s_obs)),h)*prior().prob(theta_current)*proposal(theta_old).prob(theta_current))/(\n",
        "             K_h(np.linalg.norm(np.array(s_old)-np.array(s_obs)),h)*prior().prob(theta_old)*proposal(theta_current).prob(theta_old))])\n",
        "        u = tfd.Uniform(0,1).sample()\n",
        "        if u < prob:\n",
        "              theta_i = theta_current\n",
        "              s_i = s_current\n",
        "        else: \n",
        "              theta_i = theta_old\n",
        "              s_i = s_old\n",
        "              #y.pop()\n",
        "              #y.append(y_old)\n",
        "\n",
        "        theta_old = theta_i\n",
        "        s_old = s_i\n",
        "        \n",
        "        theta.append(theta_i)\n",
        "        s.append(s_i)\n",
        "        \n",
        "    return  theta"
      ],
      "id": "08d5186c-a5b1-454f-a356-aeef3b2b17ef",
      "execution_count": 191,
      "outputs": []
    },
    {
      "cell_type": "markdown",
      "source": [
        "testiamo con le seguenti variabili:"
      ],
      "metadata": {
        "id": "3-5tUImBf2d4"
      },
      "id": "3-5tUImBf2d4"
    },
    {
      "cell_type": "code",
      "source": [
        "##VARIABILI:\n",
        "mu0 = 120\n",
        "sigma0 = 4\n",
        "n = 1000\n",
        "mu_obs = 123\n",
        "sigma_obs = 3\n",
        "y_obs = tfp.distributions.Normal(mu_obs,sigma_obs).sample(1000)"
      ],
      "metadata": {
        "id": "hqEynA9h84fo"
      },
      "id": "hqEynA9h84fo",
      "execution_count": 192,
      "outputs": []
    },
    {
      "cell_type": "code",
      "source": [
        "prova = abc_algo (n, S2, y_obs, 0.2)   #passo h=0,4 con S1 (quantili) e h=0.2 con S2(media)"
      ],
      "metadata": {
        "id": "JhRGickt2QNl"
      },
      "id": "JhRGickt2QNl",
      "execution_count": 208,
      "outputs": []
    },
    {
      "cell_type": "code",
      "source": [
        "plt.hist(prova[80:],bins=18)"
      ],
      "metadata": {
        "colab": {
          "base_uri": "https://localhost:8080/",
          "height": 387
        },
        "id": "Le_Uq4b5gK0Z",
        "outputId": "6455efb6-e678-4531-cc74-57e922ba5295"
      },
      "id": "Le_Uq4b5gK0Z",
      "execution_count": 209,
      "outputs": [
        {
          "output_type": "execute_result",
          "data": {
            "text/plain": [
              "(array([ 10.,   0.,  13.,  23.,  65.,  41.,  67., 202.,  65., 185., 105.,\n",
              "         13.,  89.,  16.,   4.,   7.,  11.,   5.]),\n",
              " array([122.2067  , 122.291985, 122.37726 , 122.46254 , 122.54782 ,\n",
              "        122.6331  , 122.718376, 122.80366 , 122.88894 , 122.97421 ,\n",
              "        123.059494, 123.144775, 123.23006 , 123.31533 , 123.40061 ,\n",
              "        123.48589 , 123.571175, 123.65645 , 123.74173 ], dtype=float32),\n",
              " <a list of 18 Patch objects>)"
            ]
          },
          "metadata": {},
          "execution_count": 209
        },
        {
          "output_type": "display_data",
          "data": {
            "image/png": "[encoded data removed]",
            "text/plain": [
              "<Figure size 432x288 with 1 Axes>"
            ]
          },
          "metadata": {
            "needs_background": "light"
          }
        }
      ]
    },
    {
      "cell_type": "markdown",
      "source": [
        "controlliamo il risultato plottando la posterior corretta"
      ],
      "metadata": {
        "id": "31KPkK-Of_5x"
      },
      "id": "31KPkK-Of_5x"
    },
    {
      "cell_type": "code",
      "metadata": {
        "id": "kbEWXmM3dwij"
      },
      "source": [
        "def real_posterior(mu0,n,y):\n",
        "    y= tfd.Normal(1/(1/sigma0**2 + n/sigma_obs**2)*(mu0/sigma0**2 + (np.sum(y)/sigma_obs**2)),1/(1/sigma0**2 + n/sigma_obs**2))   \n",
        "    return y"
      ],
      "id": "kbEWXmM3dwij",
      "execution_count": 210,
      "outputs": []
    },
    {
      "cell_type": "code",
      "source": [
        "import scipy.stats as stats\n",
        "x = np.linspace(mu_obs - 3*sigma_obs, mu_obs + 3*sigma_obs, 100)\n",
        "\n",
        "plt.hist(prova)\n",
        "plt.plot(x, 10*stats.norm.pdf(x,1/(1/sigma0**2 + n/sigma_obs**2)*(mu0/sigma0**2 + (np.sum(y_obs)/sigma_obs**2)), 1/(1/sigma0**2 + n/sigma_obs**2)))\n",
        "plt.show()"
      ],
      "metadata": {
        "colab": {
          "base_uri": "https://localhost:8080/",
          "height": 276
        },
        "id": "B26DTJHWCAUT",
        "outputId": "a3bec386-f801-4bf7-d962-17909ab18a90"
      },
      "id": "B26DTJHWCAUT",
      "execution_count": 214,
      "outputs": [
        {
          "output_type": "display_data",
          "data": {
            "image/png": "[encoded data removed]",
            "text/plain": [
              "<Figure size 432x288 with 1 Axes>"
            ]
          },
          "metadata": {
            "needs_background": "light"
          }
        }
      ]
    },
    {
      "cell_type": "markdown",
      "source": [
        "MH restituisce delle μ sampled dalla prior e non dalla posterior "
      ],
      "metadata": {
        "id": "ymo7vFWWtpzB"
      },
      "id": "ymo7vFWWtpzB"
    }
  ]
}