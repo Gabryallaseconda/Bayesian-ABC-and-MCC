{
 "cells": [
  {
   "cell_type": "code",
   "execution_count": 1,
   "metadata": {
    "id": "Cg137LGW45iW"
   },
   "outputs": [],
   "source": [
    "import numpy as np\n",
    "import matplotlib.pyplot as plt\n",
    "import seaborn as sns\n",
    "import pandas as pd\n",
    "import scipy.stats as sstat\n",
    "\n",
    "from tensorflow_probability.substrates import numpy as tfp\n",
    "tfd = tfp.distributions"
   ]
  },
  {
   "cell_type": "code",
   "execution_count": 2,
   "metadata": {
    "id": "GdFB91My48bG"
   },
   "outputs": [],
   "source": [
    "##MAXIMAL COUPLING (univariate)\n",
    "def maximal_coupling(x,y):\n",
    "      current_x = x\n",
    "      current_y = y  \n",
    "      proposed_x = current_x + tfd.Normal(0, 1).sample()\n",
    "      pX = sstat.norm.pdf(proposed_x,current_x,1)\n",
    "      w = tfd.Uniform(0,1).sample()*pX\n",
    "      qX = sstat.norm.pdf(proposed_x,current_y,1)\n",
    "      if w < qX:\n",
    "          x_new = proposed_x\n",
    "          y_new = proposed_x\n",
    "      else:\n",
    "          t = True\n",
    "          while t == True:\n",
    "                proposed_y = current_y + tfd.Normal(0, 1).sample()\n",
    "                qY =  sstat.norm.pdf(proposed_y,current_y,1) #mi sa che vanno invertite le y anche se forse è uguale\n",
    "                w =  tfd.Uniform(0,1).sample()*qY\n",
    "                pY = sstat.norm.pdf(proposed_y,current_x,1)\n",
    "                if w > pY :\n",
    "                  t= False\n",
    "\n",
    "          x_new = proposed_x\n",
    "          y_new = proposed_y  \n",
    "\n",
    "\n",
    "      return [x_new, y_new]\n"
   ]
  },
  {
   "cell_type": "code",
   "execution_count": 4,
   "metadata": {
    "colab": {
     "base_uri": "https://localhost:8080/"
    },
    "id": "1kgP_Bh05EiL",
    "outputId": "f99b556e-35c7-4b74-9670-3d0d78c05880"
   },
   "outputs": [
    {
     "data": {
      "text/plain": [
       "[4.834376811981201, 4.834376811981201]"
      ]
     },
     "execution_count": 4,
     "metadata": {},
     "output_type": "execute_result"
    }
   ],
   "source": [
    "check = maximal_coupling(4,5)\n",
    "check"
   ]
  },
  {
   "cell_type": "code",
   "execution_count": 16,
   "metadata": {
    "id": "AqcZgg035JTR"
   },
   "outputs": [],
   "source": [
    "### METROPOLIS HASTINGS\n",
    "\n",
    "n=10000\n",
    "#pi=N(5,1) target distribution\n",
    "\n",
    "def metropolis_hastings(x_0,y_0):\n",
    "  XX = []\n",
    "  XX.append([x_0,y_0])\n",
    "  #XXX=[]\n",
    "  #YYY=[] \n",
    "  x_old = x_0\n",
    "  y_old = y_0\n",
    "  for i in range(n):     #5->x_old\n",
    "           new_states = maximal_coupling(x_old,y_old)\n",
    "           x_can = new_states[0]\n",
    "           u = tfd.Uniform(0,1).sample()\n",
    "           xprob =  min([1.,tfd.Normal(5,1).prob(x_can)/tfd.Normal(5,1).prob(x_old)]) \n",
    "           if u < xprob :\n",
    "               x_new = x_can\n",
    "           else: \n",
    "               x_new= x_old\n",
    "           y_can = new_states[1]\n",
    "           yprob =  min([1.,tfd.Normal(5,1).prob(y_can)/tfd.Normal(5,1).prob(y_old)]) \n",
    "           if u < yprob :\n",
    "                y_new =y_can\n",
    "           else: \n",
    "                y_new= y_old\n",
    "      \n",
    "           XX.append([x_new,y_new])\n",
    "           #XXX.append(x_new)\n",
    "           #YYY.append(y_new)\n",
    "           x_old=x_new\n",
    "           y_old=y_new\n",
    "           \n",
    "  return XX #XXX,YYY "
   ]
  },
  {
   "cell_type": "code",
   "execution_count": 17,
   "metadata": {
    "id": "5oqtVM575Pyr"
   },
   "outputs": [],
   "source": [
    "###prova MH\n",
    "check2 = metropolis_hastings(10,-5)\n",
    "plt.plot(check2) #burn-in circa 10/15\n"
   ]
  },
  {
   "cell_type": "code",
   "execution_count": null,
   "metadata": {
    "id": "Kg-0GgBu5s3K"
   },
   "outputs": [],
   "source": [
    "plt.hist(check2[0][15:99], density=True) #funziona usando XXX e YYY nel MH, da sistemare"
   ]
  }
 ],
 "metadata": {
  "colab": {
   "name": "Untitled4.ipynb",
   "provenance": []
  },
  "kernelspec": {
   "display_name": "Python 3 (ipykernel)",
   "language": "python",
   "name": "python3"
  },
  "language_info": {
   "codemirror_mode": {
    "name": "ipython",
    "version": 3
   },
   "file_extension": ".py",
   "mimetype": "text/x-python",
   "name": "python",
   "nbconvert_exporter": "python",
   "pygments_lexer": "ipython3",
   "version": "3.8.10"
  }
 },
 "nbformat": 4,
 "nbformat_minor": 4
}
