{
  "nbformat": 4,
  "nbformat_minor": 0,
  "metadata": {
    "colab": {
      "name": "ABC+coupling.ipynb",
      "provenance": []
    },
    "kernelspec": {
      "name": "python3",
      "display_name": "Python 3"
    },
    "language_info": {
      "name": "python"
    }
  },
  "cells": [
    {
      "cell_type": "code",
      "execution_count": null,
      "metadata": {
        "id": "hWmRytkOtgAU"
      },
      "outputs": [],
      "source": [
        "import numpy as np\n",
        "import matplotlib.pyplot as plt\n",
        "import seaborn as sns\n",
        "import pandas as pd\n",
        "import scipy.stats as sstat\n",
        "from mpmath import mp\n",
        "import math\n",
        "import random\n",
        "\n",
        "psd = pd.DataFrame\n",
        "from tensorflow_probability.substrates import numpy as tfp\n",
        "tfd = tfp.distributions"
      ]
    },
    {
      "cell_type": "code",
      "source": [
        "def single_lik(mu):\n",
        "   y= tfd.Normal(mu,sigma_obs)\n",
        "   return y\n",
        "\n",
        "\n",
        "def prior():\n",
        "    return tfd.Normal(mu0,sigma0)\n",
        "\n",
        "\n",
        "def proposal(theta1):\n",
        "  return tfd.Normal(theta1,4)\n",
        "\n",
        "\n",
        "def my_kernel(u):\n",
        "  return 1/(np.sqrt(2*math.pi))*np.exp(-1/2*u**2)\n",
        "\n",
        "\n",
        "def K_h(u,h):\n",
        "  return my_kernel(u/h)/h\n",
        "\n",
        "\n",
        "def S1(y):\n",
        "  quantiles=[]\n",
        "  for i in range(9):\n",
        "      quantiles.append(np.quantile(y,0.1+0.1*i))         #quantili 0,1 0,2 0,3 0,4 0,5 0,6 0,7 0,8 0,9\n",
        "  return quantiles\n",
        "\n",
        "\n",
        "def S2(y):\n",
        "  return np.mean(y)"
      ],
      "metadata": {
        "id": "2dPYM1HXtnKg"
      },
      "execution_count": null,
      "outputs": []
    },
    {
      "cell_type": "code",
      "source": [
        "def lik(mu,n,y):\n",
        "  med = 1/n*np.sum(y)\n",
        "  yyy = []\n",
        "  ssum = np.sum(yyy)\n",
        "  for j in range(len(y)):\n",
        "    yyy.append((y[j]-med)**2)\n",
        "  res = math.e**(-1/(2*real_std)**2*(n*(mu-med)**2 + ssum))\n",
        "  return res"
      ],
      "metadata": {
        "id": "hDM87Q-suFUU"
      },
      "execution_count": null,
      "outputs": []
    },
    {
      "cell_type": "code",
      "source": [
        "##MAXIMAL COUPLING OF Q\n",
        "def maximal_coupling(x,y):\n",
        "      current_x = x\n",
        "      current_y = y  \n",
        "      proposed_x = current_x + tfd.Normal(0,1).sample()\n",
        "      pX = sstat.norm.pdf(proposed_x,current_x,1)\n",
        "      w = tfd.Uniform(0,1).sample()*pX\n",
        "      qX = sstat.norm.pdf(proposed_x,current_y,1)\n",
        "      if w < qX:\n",
        "          x_new = proposed_x\n",
        "          y_new = proposed_x\n",
        "      else:\n",
        "          t = True\n",
        "          while t == True:\n",
        "                proposed_y = current_y + tfd.Normal(0,1).sample()\n",
        "                qY =  sstat.norm.pdf(proposed_y,current_y,1) \n",
        "                w =  tfd.Uniform(0,1).sample()*qY\n",
        "                pY = sstat.norm.pdf(proposed_y,current_x,1)\n",
        "                if w > pY :\n",
        "                  t= False\n",
        "\n",
        "          x_new = proposed_x\n",
        "          y_new = proposed_y  \n",
        "\n",
        "\n",
        "      return [x_new, y_new]\n"
      ],
      "metadata": {
        "id": "H3IRfd0huTNj"
      },
      "execution_count": null,
      "outputs": []
    },
    {
      "cell_type": "code",
      "source": [
        "### METROPOLIS HASTINGS\n",
        "\n",
        "def metropolis_hastings(y_obs,S,h):    #devo usare come thetax_0 e thetay_0 due sample dalla prior?\n",
        "    x_0 = prior().sample()\n",
        "    y_0 = prior().sample()\n",
        "    XX = []\n",
        "    XXX=[]\n",
        "    YYY=[] \n",
        "    s_obs = S(y_obs)\n",
        "    datax_current = single_lik(x_0).sample(1000)\n",
        "    datay_current = single_lik(y_0).sample(1000) \n",
        "    sx_0 = S(datax_current)\n",
        "    sy_0 = S(datay_current)\n",
        "        \n",
        "    while K_h(np.linalg.norm(np.array(sx_0)-np.array(s_obs)),h)<=0:\n",
        "        x_0 = prior().sample()\n",
        "        datax_0 = single_lik(x_0).sample(1000) \n",
        "        sx_0 = S(datax_0)\n",
        "\n",
        "    while K_h(np.linalg.norm(np.array(sy_0)-np.array(s_obs)),h)<=0:\n",
        "        y_0 = prior().sample()\n",
        "        datay_0 = single_lik(y_0).sample(1000) \n",
        "        sy_0 = S(datay_0)\n",
        "    \n",
        "    x_old = x_0\n",
        "    y_old = y_0\n",
        "    XX.append([x_0,y_0])  \n",
        "    sx_old = sx_0\n",
        "    sy_old = sy_0\n",
        "    \n",
        "\n",
        "    for i in range(it):     \n",
        "           new_states = maximal_coupling(x_old,y_old)\n",
        "           x_can = new_states[0]                                           #nuova theta data dal maximal coupling\n",
        "           datax_current = single_lik(x_can).sample(1000)                  #genero campione\n",
        "           sx_current = S(datax_current)\n",
        "           xprob = min([1.,(K_h(np.linalg.norm(np.array(sx_current) - np.array(s_obs)),h)*prior().prob(x_can)*proposal(x_old).prob(x_can))/(\n",
        "               K_h(np.linalg.norm(np.array(sx_old)-np.array(s_obs)),h)*prior().prob(x_old)*proposal(x_can).prob(x_old))])\n",
        "           u = tfd.Uniform(0,1).sample()\n",
        "           if u < xprob :\n",
        "               x_new = x_can\n",
        "               sx_old = sx_current\n",
        "           else: \n",
        "               x_new = x_old\n",
        "           \n",
        "           y_can = new_states[1]\n",
        "           datay_current = single_lik(y_can).sample(1000)                  #genero campione\n",
        "           sy_current = S(datay_current)\n",
        "           yprob = min([1.,(K_h(np.linalg.norm(np.array(sy_current) - np.array(s_obs)),h)*prior().prob(y_can)*proposal(y_old).prob(y_can))/(\n",
        "               K_h(np.linalg.norm(np.array(sy_old)-np.array(s_obs)),h)*prior().prob(y_old)*proposal(y_can).prob(y_old))])\n",
        "           if u < yprob :\n",
        "                y_new =y_can\n",
        "                sy_old = sy_current\n",
        "           else: \n",
        "                y_new= y_old\n",
        "           \n",
        "           XX.append([x_new,y_new])\n",
        "           XXX.append(x_new)\n",
        "           YYY.append(y_new)\n",
        "           x_old=x_new\n",
        "           y_old=y_new\n",
        "           \n",
        "    return XXX,YYY,XX"
      ],
      "metadata": {
        "id": "CATzQWRiuZPi"
      },
      "execution_count": null,
      "outputs": []
    },
    {
      "cell_type": "code",
      "source": [
        "##VARIABILI:\n",
        "it=300\n",
        "mu0 = 120\n",
        "sigma0 = 4\n",
        "n = 1000\n",
        "mu_obs = 123\n",
        "sigma_obs = 3\n",
        "y_obs = tfp.distributions.Normal(mu_obs,sigma_obs).sample(1000)"
      ],
      "metadata": {
        "id": "AHfx_NFDuAQF"
      },
      "execution_count": null,
      "outputs": []
    },
    {
      "cell_type": "code",
      "source": [
        "prova = metropolis_hastings(y_obs,S2,0.3)\n",
        "plt.plot(prova[2])"
      ],
      "metadata": {
        "colab": {
          "base_uri": "https://localhost:8080/",
          "height": 300
        },
        "id": "LrMCf_-1uE3y",
        "outputId": "cfbcf4bb-7e14-4173-b281-9fa9c3fc6412"
      },
      "execution_count": null,
      "outputs": [
        {
          "output_type": "execute_result",
          "data": {
            "text/plain": [
              "[<matplotlib.lines.Line2D at 0x7f7660cb6490>,\n",
              " <matplotlib.lines.Line2D at 0x7f7660cb66d0>]"
            ]
          },
          "metadata": {},
          "execution_count": 65
        },
        {
          "output_type": "display_data",
          "data": {
            "image/png": "[encoded data removed]",
            "text/plain": [
              "<Figure size 432x288 with 1 Axes>"
            ]
          },
          "metadata": {
            "needs_background": "light"
          }
        }
      ]
    },
    {
      "cell_type": "code",
      "source": [
        "x = np.linspace(110,130, 100)\n",
        "f,axs = plt.subplots(1,2)\n",
        "axs[0].hist(prova[0][50:])\n",
        "#axs[0].plot(x, 10000*real_posterior(mu0,1000,y_obs).prob(x))"
      ],
      "metadata": {
        "colab": {
          "base_uri": "https://localhost:8080/",
          "height": 356
        },
        "id": "OwDW_JMi3HEB",
        "outputId": "cb9e1d9d-8533-467b-d424-8062a157f2da"
      },
      "execution_count": null,
      "outputs": [
        {
          "output_type": "execute_result",
          "data": {
            "text/plain": [
              "(array([29.,  6., 49., 29., 38., 52., 22.,  6.,  7., 12.]),\n",
              " array([122.420876, 122.57545 , 122.73003 , 122.8846  , 123.03917 ,\n",
              "        123.19374 , 123.34832 , 123.50289 , 123.65746 , 123.81204 ,\n",
              "        123.96661 ], dtype=float32),\n",
              " <a list of 10 Patch objects>)"
            ]
          },
          "metadata": {},
          "execution_count": 66
        },
        {
          "output_type": "display_data",
          "data": {
            "image/png": "[encoded data removed]",
            "text/plain": [
              "<Figure size 432x288 with 2 Axes>"
            ]
          },
          "metadata": {
            "needs_background": "light"
          }
        }
      ]
    }
  ]
}