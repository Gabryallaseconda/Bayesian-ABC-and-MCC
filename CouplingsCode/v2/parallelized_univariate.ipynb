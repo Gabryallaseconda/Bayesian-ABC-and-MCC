{
 "cells": [
  {
   "cell_type": "markdown",
   "id": "5224199b-6994-43c5-a296-f35e25679978",
   "metadata": {},
   "source": [
    "# Markov Chain Monte Carlo with Couplings"
   ]
  },
  {
   "cell_type": "markdown",
   "id": "8c0606a6-8bb5-4536-a398-b9c8213f61a8",
   "metadata": {},
   "source": [
    "## Modules importing"
   ]
  },
  {
   "cell_type": "code",
   "execution_count": 1,
   "id": "7dc0c76c-1f63-458d-89cd-c0ecd1a7b2f1",
   "metadata": {},
   "outputs": [
    {
     "name": "stderr",
     "output_type": "stream",
     "text": [
      "2022-01-07 12:34:03.508818: W tensorflow/stream_executor/platform/default/dso_loader.cc:64] Could not load dynamic library 'libcudart.so.11.0'; dlerror: libcudart.so.11.0: cannot open shared object file: No such file or directory\n",
      "2022-01-07 12:34:03.508859: I tensorflow/stream_executor/cuda/cudart_stub.cc:29] Ignore above cudart dlerror if you do not have a GPU set up on your machine.\n"
     ]
    }
   ],
   "source": [
    "# system modules\n",
    "import os\n",
    "import time\n",
    "\n",
    "# mathematical and statistical modules\n",
    "import math\n",
    "import numpy as np\n",
    "import pandas as pd\n",
    "import scipy.stats as sstat\n",
    "#from mpmath import mp\n",
    "\n",
    "# tensorflow modules\n",
    "import tensorflow_probability.substrates.numpy as tfp\n",
    "import tensorflow_probability.substrates.numpy.distributions as tfd\n",
    "import tensorflow.random as tfr\n",
    "\n",
    "# visualization and plotting modules\n",
    "import matplotlib.pyplot as plt\n",
    "import seaborn as sns\n",
    "\n",
    "# parallelization modules \n",
    "from multiprocessing import Process, Queue, SimpleQueue"
   ]
  },
  {
   "cell_type": "markdown",
   "id": "8913f217-9fcf-4a7d-8dcb-e33c3d54e80e",
   "metadata": {
    "tags": []
   },
   "source": [
    "## Settings and data"
   ]
  },
  {
   "cell_type": "markdown",
   "id": "a99356cc-51d7-40e2-9074-fb079292704d",
   "metadata": {},
   "source": [
    "### Generation of data\n",
    "Data are generated and placed in the variable \"observations_y\"; those data will be used in the likelihood function."
   ]
  },
  {
   "cell_type": "code",
   "execution_count": 2,
   "id": "ca8668e9-7cd0-412f-b884-5495064ff35c",
   "metadata": {},
   "outputs": [],
   "source": [
    "number_of_data     = 1000\n",
    "observations_mean  = 43.\n",
    "observations_sd    = 5 \n",
    "#recall that in tfd (tfp.distributions) loc/scale convention is used, and scale in normal is the standard dev\n",
    "\n",
    "observations_y = tfd.Normal(    \n",
    "    observations_mean,\n",
    "    observations_sd\n",
    "    ).sample(number_of_data)\n",
    "\n",
    "del observations_mean, observations_sd"
   ]
  },
  {
   "cell_type": "markdown",
   "id": "1e077ae8-1902-41a5-88a6-3aa920b69adf",
   "metadata": {},
   "source": [
    "### Likelihood functions"
   ]
  },
  {
   "cell_type": "code",
   "execution_count": 3,
   "id": "c2879083-2b88-4fae-960e-97a166dfd11e",
   "metadata": {},
   "outputs": [],
   "source": [
    "def likelihood(mu, observations_y):\n",
    "    tau = 1/25 #shouldn't this be made as a parameter?\n",
    "    number_of_data = len(observations_y)\n",
    "    \n",
    "    observation_mean = np.mean(observations_y)\n",
    "    \n",
    "    return np.exp(  \n",
    "        -(tau/2)*( \n",
    "            number_of_data * (mu - observation_mean)**2 \n",
    "            + np.sum( (observations_y - observation_mean)**2 ) \n",
    "            )  \n",
    "        ) * 10000 #this coefficient is to avoid annihilation - it's a rescale"
   ]
  },
  {
   "cell_type": "markdown",
   "id": "0dee6fca-1ae3-4891-8df3-adec43564d56",
   "metadata": {},
   "source": [
    "### Prior density function - setting of prior parameters"
   ]
  },
  {
   "cell_type": "code",
   "execution_count": 4,
   "id": "a30451e2-fe88-402b-a4b0-afa54b5d2e64",
   "metadata": {},
   "outputs": [],
   "source": [
    "def pi0(mu):\n",
    "    mu0 = 38.     #Set here the prior parameters\n",
    "    sigma0 = 4\n",
    "    return tfd.Normal(mu0,sigma0).prob(mu)"
   ]
  },
  {
   "cell_type": "markdown",
   "id": "e0c42cac-cc8f-4593-9b2b-c63e290a3388",
   "metadata": {},
   "source": [
    "### Target distribution: posterior function\n",
    "posterior proportional to likelihood times prior distribution"
   ]
  },
  {
   "cell_type": "code",
   "execution_count": 5,
   "id": "65881717-ce33-4306-91e2-f80be70fea41",
   "metadata": {
    "tags": []
   },
   "outputs": [],
   "source": [
    "def target(mu):\n",
    "    return likelihood(mu, observations_y)*pi0(mu)"
   ]
  },
  {
   "cell_type": "markdown",
   "id": "e6d94ff0-8e0c-427c-aa3f-75f3a2a58182",
   "metadata": {},
   "source": [
    "### Markov chain settings\n",
    "Algorithms will detect the dimensionality from the length of those arrays: please, be consistent."
   ]
  },
  {
   "cell_type": "code",
   "execution_count": 6,
   "id": "0c5471f8-5831-44c5-989c-4d5e53c316ad",
   "metadata": {
    "tags": []
   },
   "outputs": [],
   "source": [
    "x_start = np.array([48.])\n",
    "y_start = np.array([40.])\n",
    "iterations = 1000  \n",
    "burnout = 100\n",
    "\n",
    "chains_matching_tolerance = 1e-3\n",
    "\n",
    "test_function_h = lambda x: x"
   ]
  },
  {
   "cell_type": "markdown",
   "id": "067ff4c5-d9f3-45e8-a4e2-021ce616f3aa",
   "metadata": {},
   "source": [
    "## Functions"
   ]
  },
  {
   "cell_type": "markdown",
   "id": "9120084e-e867-4de4-a48f-6128814a89f8",
   "metadata": {
    "tags": []
   },
   "source": [
    "### Maximal coupling of Q\n",
    "The algorithm:\n",
    "1)  \n",
    "    1) sample $X \\sim p$\n",
    "    2) sample $W|X \\sim \\mathcal{U}\\{[0,p(X)]\\}$ \\\n",
    "    if $W\\leq q(X)$ then output $(X,X)$\n",
    "2)  otherwise\n",
    "    1) sample $Y^\\star \\sim q$\n",
    "    2) sample $W^\\star | Y^\\star \\sim \\mathcal{U}\\{[0, q(Y^\\star)]\\}$ \\\n",
    "    until $W^\\star > p(Y^\\star)$ and output $(X,Y^\\star)$\n",
    "   "
   ]
  },
  {
   "cell_type": "code",
   "execution_count": 7,
   "id": "ac35a816-97e2-4935-bfde-0a9fd313ec36",
   "metadata": {},
   "outputs": [],
   "source": [
    "def maximal_coupling(x,y): \n",
    "    \n",
    "    #check dimensionality consistency\n",
    "    if len(x) != len(y):\n",
    "        raise NameError('Dimensionality mismatch!') \n",
    "    \n",
    "    dimensionality = len(x)\n",
    "\n",
    "    #sampling of X - point 1.A\n",
    "    #the new candidate is sampled from a normal centered in the given value\n",
    "    x_candidate = np.random.multivariate_normal(mean=x, cov=np.eye(dimensionality), size=1)\n",
    "    \n",
    "    #sampling of W|X - point 1.B\n",
    "    #evaluate pdf centered in x with scale 1 in x_cadidate\n",
    "    pX = sstat.multivariate_normal(x,np.eye(dimensionality)).pdf(x_candidate)\n",
    "    W = tfd.Uniform(0,pX).sample()\n",
    "    #sampling from uniform is inside the cycle on parameters \n",
    "    \n",
    "    # evaluation of qx - point 1 IF\n",
    "    qX = sstat.multivariate_normal(y, np.eye(dimensionality)).pdf(x_candidate)\n",
    "    \n",
    "    if W < qX:\n",
    "        x = x_candidate\n",
    "        y = x_candidate\n",
    "    else:\n",
    "        while True:\n",
    "            #sampling of Y* - point 2.A\n",
    "            y_candidate = np.random.multivariate_normal(mean=y, cov=np.eye(dimensionality), size=1)\n",
    "\n",
    "            #sampling of W* - point 2.B\n",
    "            qY = sstat.multivariate_normal(y, np.eye(dimensionality)).pdf(y_candidate)\n",
    "            W =  tfd.Uniform(0,qY).sample()\n",
    "\n",
    "            # evaluation of py - point 2\n",
    "            pY = sstat.multivariate_normal(x,np.eye(dimensionality)).pdf(y_candidate)\n",
    "            if W > pY :\n",
    "                break\n",
    "\n",
    "        x = x_candidate\n",
    "        y = y_candidate \n",
    "\n",
    "\n",
    "    return (x, y)"
   ]
  },
  {
   "cell_type": "markdown",
   "id": "3031eaff-cea9-4b42-8116-5b02d3881222",
   "metadata": {},
   "source": [
    "### Metropolis Hastings\n",
    "The algorithm:\n",
    "1) sample $(X^\\star, Y^\\star) | (X_t, Y_{t-1})$ from a maximal coupling of $q(X_t, \\cdot)$ and $q(Y_{t-1}, \\cdot)$\n",
    "2) sample $U \\sim \\mathcal{U}([0,1])$,\n",
    "3) if $$ U\n",
    " \t\t\t\t\\leq \\min\\bigg \\{\n",
    " \t\t\t\t1,\n",
    " \t\t\t\t\\frac{ \\pi(X^\\star)q(X^\\star,X_t)}{\n",
    " \t\t\t\t\t\\pi(X_t)q(X_t, X^\\star)}\n",
    " \t\t\t\t\\bigg \\} $$ then $X_{t+1} = X^\\star$; otherwise $X_t = X_{t-1}$;\n",
    "4) if $$ U\t\\leq \\min\\bigg \\{ \n",
    " \t\t\t\t1,\n",
    " \t\t\t\t\\frac{ \\pi(Y^\\star)q(Y^\\star,Y_t)}{\n",
    " \t\t\t\t\t\\pi(Y_t)q(Y_t, Y^\\star)}\n",
    " \t\t\t\t\\bigg \\} $$\n",
    "    then $Y_{t+1} = Y^\\star$; otherwise $Y_t = Y_{t-1}$.\n",
    "   "
   ]
  },
  {
   "cell_type": "code",
   "execution_count": 8,
   "id": "15516f6d-0b98-46aa-835c-d560f57ccf9c",
   "metadata": {},
   "outputs": [],
   "source": [
    "def metropolis_hastings(x, y, iterations):   \n",
    "    # check dimensionality consistency\n",
    "    if len(x) != len(y):\n",
    "        raise NameError('Dimensionality mismatch!') \n",
    "    \n",
    "    dimensionality = len(x)\n",
    "    \n",
    "    \n",
    "    # initializing empty np arrays\n",
    "    X = np.empty([dimensionality, iterations])\n",
    "    Y = np.empty([dimensionality, iterations])\n",
    "\n",
    "\n",
    "    for i in range(iterations):\n",
    "        # sample from maximal coupling - point 1\n",
    "        (x_candidate, y_candidate) = maximal_coupling(x,y) #da qui deve uscire già multivariato\n",
    "        \n",
    "        # sample from a uniform - point 2\n",
    "        u = tfd.Uniform(0,1).sample()\n",
    "        \n",
    "        # points 3 and 4 are to be executed on all the parameters which determine the dimensionality\n",
    "        for param in range(dimensionality):\n",
    "            # check if the sampling of X is accepted or to consider the previous - point 3\n",
    "            if u == 1:                               #this to avoid zero-divisions\n",
    "                x[param] = x_candidate[param]        #this to avoid zero-divisions\n",
    "            elif target(x)[param] == 0:              #this to avoid zero-divisions \n",
    "                x[param] = x_candidate[param]        #this to avoid zero-divisions\n",
    "            elif u < min([1., target(x_candidate)[param]/target(x)[param]]) :\n",
    "                x[param] = x_candidate[param]\n",
    "\n",
    "            X[param, i] = x[param]\n",
    "\n",
    "            # same for Y - point 4\n",
    "            if u == 1:                               #this to avoid zero-divisions\n",
    "                y[param] = y_candidate[param]        #this to avoid zero-divisions\n",
    "            elif target(y)[param] == 0:              #this to avoid zero-divisions \n",
    "                y[param] = y_candidate[param]        #this to avoid zero-divisions\n",
    "            elif u < min([1., target(y_candidate)[param]/target(y)[param]]) :\n",
    "                y[param] = y_candidate[param]\n",
    "\n",
    "            Y[param, i] = y[param]\n",
    "           \n",
    "    return X, Y"
   ]
  },
  {
   "cell_type": "markdown",
   "id": "d6e0b530-77f3-4551-affa-79f2a7aba316",
   "metadata": {
    "tags": []
   },
   "source": [
    "### Time Averaged estimator\n",
    "The algorithm:\n",
    "1) draw $X_0$ and $Y_0$ from an initial distribution $\\pi_0$ and draw $X_1 \\sim P(X_0, \\cdot)$;\n",
    "2) set $t=1$: while $t<\\max\\{m,\\tau\\}$ and:\n",
    "    1) draw $(X_{t+1}, Y_t)\\sim \\bar P \\{(X_t, Y_{t-1}), \\cdot \\}$; \n",
    "    2) set $t \\leftarrow t+1$;\n",
    "3) compute the time-averaged estimator:\n",
    "\t$$ H_{k:m}(X,Y)\n",
    "\t \t\t= \\frac{1}{m-k+1}\\sum_{l=k}^{m}h(X_l) \n",
    "\t \t\t+ \\sum_{l=k+1}^{\\tau -1}\\min(1, \\frac{l-k}{m-k+1})\\{h(X_l)-h(Y_{l-1})\\} .\n",
    "\t \t\t$$"
   ]
  },
  {
   "cell_type": "code",
   "execution_count": 9,
   "id": "f8396cbe-5186-4872-8b50-82b8afaf8488",
   "metadata": {},
   "outputs": [],
   "source": [
    "def time_averaged_estimator(red_chain, blue_chain, iterations, burnout, meeting_time):\n",
    "    #this function calculates only the formula at point 3\n",
    "    \n",
    "    #first addend\n",
    "    first_sum = 0\n",
    "    for i in range(burnout, iterations):\n",
    "        first_sum += test_function_h(red_chain[i])\n",
    "    \n",
    "    #second addend\n",
    "    second_sum = 0\n",
    "    if meeting_time-1 > burnout + 1:\n",
    "        for i in range(burnout + 1, meeting_time):\n",
    "            # calculing the coefficient, and the min\n",
    "            coef = (1-burnout)(iterations - burnout + 1)\n",
    "            if coef > 1:\n",
    "                coef = 1\n",
    "            second_sum += coef * (test_function_h(red_chain[i])- test_function_h(blue_chain[i]))\n",
    "            \n",
    "    return (1/(iterations - burnout + 1))*first_sum + second_sum\n",
    "    "
   ]
  },
  {
   "cell_type": "markdown",
   "id": "733d43b3-f427-4683-a6f1-35a1a8646791",
   "metadata": {},
   "source": [
    "### Parallelized operations\n",
    "This function is given to each available processor"
   ]
  },
  {
   "cell_type": "code",
   "execution_count": 10,
   "id": "608973e4-9983-4894-a375-a7409cfb01f6",
   "metadata": {},
   "outputs": [],
   "source": [
    "def parallelized_operations(x_start, y_start, iterations, burnout, chains_matching_tolerance, q_chain, q_meeting_time, q_time_averaged_estimator):\n",
    "    # setting a random seed - otherwise multiprocessing has the same seed and so they end up in the same chains!\n",
    "    np.random.seed(int(os.getpid() * time.time()) % 123456789 )\n",
    "    tfr.set_seed(int(os.getpid() * time.time()) % 123456789 )\n",
    "    \n",
    "    #running metropolis hastings and obtaining two chains\n",
    "    (red_chain, blue_chain) = metropolis_hastings(x_start, y_start, iterations)\n",
    "    \n",
    "    #get the dimensionality from one of the chains\n",
    "    dimensionality = red_chain.shape[0]\n",
    "\n",
    "    #finding the meeting time\n",
    "    meeting_time = iterations + 2\n",
    "    for i in range(0, iterations):\n",
    "        if (abs(red_chain[:,i]-blue_chain[:,i]).all() < chains_matching_tolerance) & \\\n",
    "            (abs(red_chain[:,i]-blue_chain[:,i]).all() < chains_matching_tolerance) & \\\n",
    "            (abs(red_chain[:,i]-blue_chain[:,i]).all() < chains_matching_tolerance):\n",
    "            meeting_time = i\n",
    "            break\n",
    "    \n",
    "    #checking if the chains met\n",
    "    if meeting_time == iterations+2:\n",
    "        print('Matching did not occurred!')\n",
    "        print(meeting_time)\n",
    "        return\n",
    "    \n",
    "    #checking if the chains met before burnout\n",
    "    if meeting_time >= burnout:\n",
    "        print('Meeting time occurs after burnout iterations!')\n",
    "        print(meeting_time)\n",
    "        return\n",
    "    \n",
    "    time_averaged_estimation = np.empty(dimensionality)\n",
    "    \n",
    "    for param in range(dimensionality):\n",
    "        time_averaged_estimation[param] = time_averaged_estimator(\n",
    "            red_chain[param,], \n",
    "            blue_chain[param,], \n",
    "            iterations, burnout, meeting_time\n",
    "        )\n",
    "    \n",
    "    q_chain.put( red_chain )\n",
    "    q_meeting_time.put( meeting_time )\n",
    "    q_time_averaged_estimator.put( time_averaged_estimation )\n",
    "    \n",
    "    return\n",
    "\n",
    "    "
   ]
  },
  {
   "cell_type": "markdown",
   "id": "5ab2fa33-4b3d-4673-80ee-7c7a697a3315",
   "metadata": {},
   "source": [
    "## Execution"
   ]
  },
  {
   "cell_type": "markdown",
   "id": "9cde0351-dc7f-44e7-87fc-71718cf2062e",
   "metadata": {},
   "source": [
    "### Multiprocessing settings"
   ]
  },
  {
   "cell_type": "code",
   "execution_count": 11,
   "id": "ca5d7d45-3181-42f8-8bfd-a7d3974db2a7",
   "metadata": {},
   "outputs": [
    {
     "data": {
      "text/plain": [
       "8"
      ]
     },
     "execution_count": 11,
     "metadata": {},
     "output_type": "execute_result"
    }
   ],
   "source": [
    "# this returns the number of available processors\n",
    "num_processes = os.cpu_count()\n",
    "num_processes"
   ]
  },
  {
   "cell_type": "code",
   "execution_count": 12,
   "id": "bca66c26-aced-49ee-b31c-7fc80de4daf5",
   "metadata": {},
   "outputs": [],
   "source": [
    "# this set the number of iteration, it should be a multiple of the number of available processors\n",
    "num_batches_set = 16*2 #set this\n",
    "num_batches = num_batches_set"
   ]
  },
  {
   "cell_type": "code",
   "execution_count": 13,
   "id": "3f86a375-80cc-4cf4-a85d-5b8d1e2d1995",
   "metadata": {},
   "outputs": [],
   "source": [
    "# this initialize a shared memory between processors\n",
    "# note of Queue(maxsize = 0)\n",
    "q_chain = SimpleQueue()\n",
    "q_meeting_time = SimpleQueue()\n",
    "q_time_averaged_estimator = SimpleQueue()"
   ]
  },
  {
   "cell_type": "markdown",
   "id": "1bef141c-6e1e-469a-b762-aae40d030673",
   "metadata": {},
   "source": [
    "### Multiprocessing execution"
   ]
  },
  {
   "cell_type": "code",
   "execution_count": 14,
   "id": "33a4a10f-1c87-44f3-88a2-20ab3147cdde",
   "metadata": {},
   "outputs": [
    {
     "name": "stdout",
     "output_type": "stream",
     "text": [
      "There are 32 left\n",
      "Meeting time occurs after burnout iterations!\n",
      "112\n",
      "There are 24 left\n",
      "There are 16 left\n",
      "There are 8 left\n",
      "Meeting time occurs after burnout iterations!\n",
      "109\n",
      "Meeting time occurs after burnout iterations!\n",
      "784\n",
      "Matching did not occurred!\n",
      "1002\n",
      "All processes are complete!\n"
     ]
    }
   ],
   "source": [
    "dimensionality = 1 # observations_y.shape[0]\n",
    "\n",
    "samplings = np.empty([dimensionality, 0])\n",
    "time_averaged_estimation_sum = 0\n",
    "meeting_times = np.empty(0)\n",
    "correct_chains = 0\n",
    "\n",
    "while num_batches > 0:\n",
    "    \n",
    "    print(\"There are \" + str(num_batches) + \" left\")\n",
    "    \n",
    "    if num_batches >= num_processes:\n",
    "        current_number_processes = num_processes\n",
    "    else:\n",
    "        current_number_processes = num_batches\n",
    "    \n",
    "    processes = []\n",
    "    for batch in range(current_number_processes):\n",
    "        p = Process(\n",
    "            target = parallelized_operations, \n",
    "            args = (x_start, y_start, \n",
    "                    iterations, burnout, \n",
    "                    chains_matching_tolerance, \n",
    "                    q_chain, q_meeting_time, q_time_averaged_estimator)\n",
    "        )\n",
    "        processes.append(p)\n",
    "\n",
    "    num_batches -= current_number_processes\n",
    "    \n",
    "    # Starting the processes in a batch\n",
    "    for p in processes:\n",
    "        p.start()\n",
    "        time.sleep(0.01)\n",
    "\n",
    "    # This assures that each process in the batch is complete\n",
    "    for p in processes:\n",
    "        p.join()\n",
    "\n",
    "    #unfolding queues\n",
    "    while not q_chain.empty():\n",
    "        red_chain = q_chain.get()\n",
    "        samplings = np.append(\n",
    "            samplings,\n",
    "            red_chain[:,burnout :],\n",
    "            axis = 1\n",
    "        )\n",
    "\n",
    "        meeting_time = q_meeting_time.get()\n",
    "        time_averaged_estimation = q_time_averaged_estimator.get()\n",
    "        \n",
    "        if meeting_time <= burnout: #this to avoid a biased time averaged estimator\n",
    "            time_averaged_estimation_sum += time_averaged_estimation\n",
    "            correct_chains += 1\n",
    "        \n",
    "        meeting_times = np.append(\n",
    "            meeting_times,\n",
    "            meeting_time\n",
    "        )\n",
    "    \n",
    "del q_chain, q_meeting_time, q_time_averaged_estimator\n",
    "print('All processes are complete!')"
   ]
  },
  {
   "cell_type": "markdown",
   "id": "4f637d1f-9d0f-43ad-9074-f49f894035b1",
   "metadata": {
    "tags": []
   },
   "source": [
    "### Output and plotting"
   ]
  },
  {
   "cell_type": "code",
   "execution_count": 15,
   "id": "622e9eba-af9e-4179-b0ef-8a581b23ed24",
   "metadata": {},
   "outputs": [
    {
     "data": {
      "text/plain": [
       "array([19., 13., 11., 44., 15.,  2., 11.,  3., 25.,  8., 12., 65., 39.,\n",
       "       14., 72.,  9.,  6., 35., 34.,  6.,  9.,  9., 33., 16., 17., 45.,\n",
       "        3.,  9.])"
      ]
     },
     "execution_count": 15,
     "metadata": {},
     "output_type": "execute_result"
    }
   ],
   "source": [
    "meeting_times"
   ]
  },
  {
   "cell_type": "code",
   "execution_count": 16,
   "id": "ddd9f633-f6c8-42c5-8157-8f505d7ebafd",
   "metadata": {},
   "outputs": [
    {
     "data": {
      "text/plain": [
       "28"
      ]
     },
     "execution_count": 16,
     "metadata": {},
     "output_type": "execute_result"
    }
   ],
   "source": [
    "len(meeting_times)"
   ]
  },
  {
   "cell_type": "code",
   "execution_count": 17,
   "id": "c2b10958-e5c8-4cc6-b4b9-114337f52443",
   "metadata": {},
   "outputs": [
    {
     "data": {
      "text/plain": [
       "4"
      ]
     },
     "execution_count": 17,
     "metadata": {},
     "output_type": "execute_result"
    }
   ],
   "source": [
    "num_batches_set-len(meeting_times)"
   ]
  },
  {
   "cell_type": "code",
   "execution_count": 18,
   "id": "03e050d8-49f0-4c07-a0a2-28f408932437",
   "metadata": {},
   "outputs": [
    {
     "data": {
      "text/plain": [
       "array([42.94985374])"
      ]
     },
     "execution_count": 18,
     "metadata": {},
     "output_type": "execute_result"
    }
   ],
   "source": [
    "time_averaged_estimation_mean = time_averaged_estimation_sum/correct_chains\n",
    "time_averaged_estimation_mean"
   ]
  },
  {
   "cell_type": "code",
   "execution_count": 19,
   "id": "d1dade66-2d0d-4919-94f0-77a1aa946c6c",
   "metadata": {},
   "outputs": [
    {
     "data": {
      "text/plain": [
       "25200"
      ]
     },
     "execution_count": 19,
     "metadata": {},
     "output_type": "execute_result"
    }
   ],
   "source": [
    "samplings.size"
   ]
  },
  {
   "cell_type": "code",
   "execution_count": 20,
   "id": "0972b174-c9db-402b-affd-a96c9bdab751",
   "metadata": {},
   "outputs": [
    {
     "data": {
      "image/png": "[encoded data removed]",
      "text/plain": [
       "<Figure size 432x288 with 1 Axes>"
      ]
     },
     "metadata": {
      "needs_background": "light"
     },
     "output_type": "display_data"
    }
   ],
   "source": [
    "for param in range(samplings.shape[0]):\n",
    "    plt.plot(samplings[param,:])\n",
    "    plt.savefig('my_img.png')"
   ]
  },
  {
   "cell_type": "code",
   "execution_count": 21,
   "id": "c35c9807-9717-440e-94f8-d68517828a97",
   "metadata": {},
   "outputs": [
    {
     "data": {
      "image/png": "[encoded data removed]",
      "text/plain": [
       "<Figure size 432x288 with 1 Axes>"
      ]
     },
     "metadata": {
      "needs_background": "light"
     },
     "output_type": "display_data"
    }
   ],
   "source": [
    "for param in range(samplings.shape[0]):\n",
    "    plt.hist(samplings[param,:], bins = 80)\n",
    "    plt.savefig('my_img_2.png')"
   ]
  },
  {
   "cell_type": "code",
   "execution_count": 22,
   "id": "248fbd38-4fbf-463f-891b-70900f681114",
   "metadata": {},
   "outputs": [
    {
     "data": {
      "text/plain": [
       "(1, 25200)"
      ]
     },
     "execution_count": 22,
     "metadata": {},
     "output_type": "execute_result"
    }
   ],
   "source": [
    "samplings.shape"
   ]
  },
  {
   "cell_type": "code",
   "execution_count": 52,
   "id": "7db22f8d-a7a3-4db3-a14b-587d59f40d62",
   "metadata": {},
   "outputs": [],
   "source": [
    "sns.set_theme(style=\"darkgrid\")\n",
    "plt.rcParams[\"figure.figsize\"] = (12,4)"
   ]
  },
  {
   "cell_type": "code",
   "execution_count": 25,
   "id": "abb2ef85-6784-4bd0-9a3f-ea35589ff8c1",
   "metadata": {},
   "outputs": [
    {
     "data": {
      "text/plain": [
       "array([42.77459527, 42.77459527, 43.16845292, ..., 42.99889883,\n",
       "       42.99889883, 42.99889883])"
      ]
     },
     "execution_count": 25,
     "metadata": {},
     "output_type": "execute_result"
    }
   ],
   "source": [
    "samplings[0,:]"
   ]
  },
  {
   "cell_type": "code",
   "execution_count": 53,
   "id": "8c124200-5209-47be-8025-6b24b094043a",
   "metadata": {},
   "outputs": [
    {
     "data": {
      "image/png": "[encoded data removed]",
      "text/plain": [
       "<Figure size 864x288 with 1 Axes>"
      ]
     },
     "metadata": {},
     "output_type": "display_data"
    }
   ],
   "source": [
    "plt.plot(samplings[0,:])\n",
    "plt.savefig('mcmc_coupling_sampling.png')"
   ]
  },
  {
   "cell_type": "code",
   "execution_count": 54,
   "id": "4aeb12d8-3d34-4968-b98e-389559c96775",
   "metadata": {},
   "outputs": [
    {
     "data": {
      "image/png": "[encoded data removed]",
      "text/plain": [
       "<Figure size 864x288 with 1 Axes>"
      ]
     },
     "metadata": {},
     "output_type": "display_data"
    }
   ],
   "source": [
    "sns.histplot(samplings[0,:])\n",
    "plt.savefig('mcmc_coupling_histogram.png')"
   ]
  },
  {
   "cell_type": "code",
   "execution_count": 34,
   "id": "2e565470-57fe-4db0-aee1-c11b8941b230",
   "metadata": {},
   "outputs": [],
   "source": [
    "(red_chain, blue_chain) = metropolis_hastings(x_start, y_start, iterations)"
   ]
  },
  {
   "cell_type": "code",
   "execution_count": 55,
   "id": "a06ca1d0-4f97-4bcc-91d9-8ac646e45168",
   "metadata": {},
   "outputs": [
    {
     "data": {
      "image/png": "[encoded data removed]",
      "text/plain": [
       "<Figure size 864x288 with 1 Axes>"
      ]
     },
     "metadata": {},
     "output_type": "display_data"
    }
   ],
   "source": [
    "plt.plot(red_chain[0,:])\n",
    "plt.plot(blue_chain[0,:])\n",
    "plt.savefig('mcmc_coupling_chain_meeting.png')"
   ]
  },
  {
   "cell_type": "code",
   "execution_count": null,
   "id": "c2a812c8-36b9-4ed9-918c-6631b2daf1fc",
   "metadata": {},
   "outputs": [],
   "source": []
  }
 ],
 "metadata": {
  "kernelspec": {
   "display_name": "Python 3 (ipykernel)",
   "language": "python",
   "name": "python3"
  },
  "language_info": {
   "codemirror_mode": {
    "name": "ipython",
    "version": 3
   },
   "file_extension": ".py",
   "mimetype": "text/x-python",
   "name": "python",
   "nbconvert_exporter": "python",
   "pygments_lexer": "ipython3",
   "version": "3.8.10"
  }
 },
 "nbformat": 4,
 "nbformat_minor": 5
}
