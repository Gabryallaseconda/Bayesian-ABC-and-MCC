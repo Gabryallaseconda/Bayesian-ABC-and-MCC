{
  "nbformat": 4,
  "nbformat_minor": 0,
  "metadata": {
    "colab": {
      "name": "Untitled5.ipynb",
      "provenance": []
    },
    "kernelspec": {
      "name": "python3",
      "display_name": "Python 3"
    },
    "language_info": {
      "name": "python"
    }
  },
  "cells": [
    {
      "cell_type": "code",
      "metadata": {
        "id": "pss2eCR0ncmq"
      },
      "source": [
        "import numpy as np\n",
        "import matplotlib.pyplot as plt\n",
        "import seaborn as sns\n",
        "import pandas as pd\n",
        "import scipy.stats as sstat\n",
        "from mpmath import mp\n",
        "import math\n",
        "\n",
        "from tensorflow_probability.substrates import numpy as tfp\n",
        "tfd = tfp.distributions"
      ],
      "execution_count": null,
      "outputs": []
    },
    {
      "cell_type": "code",
      "metadata": {
        "colab": {
          "base_uri": "https://localhost:8080/",
          "height": 265
        },
        "id": "d3elmkz8nm5I",
        "outputId": "4b399322-4529-4c2b-b346-00c9d9abe1a0"
      },
      "source": [
        "import numpy as np\n",
        "import matplotlib.pyplot as plt\n",
        "import seaborn as sns\n",
        "import pandas as pd\n",
        "import scipy.stats as sstat\n",
        "from mpmath import mp\n",
        "import math\n",
        "from scipy.stats import norm\n",
        "\n",
        "from tensorflow_probability.substrates import numpy as tfp\n",
        "tfd = tfp.distributions\n",
        "\n",
        "cov = np.array([[1, 0], [0, 1]]) \n",
        "mu = np.array([0,0]) \n",
        "r= np.random.multivariate_normal(mean=mu, cov=cov, size=1000)\n",
        "plt.scatter(r[:,0], r[:,1])\n",
        "plt.axis('equal')\n",
        "plt.show()"
      ],
      "execution_count": null,
      "outputs": [
        {
          "output_type": "display_data",
          "data": {
            "image/png": "[encoded data removed]",
            "text/plain": [
              "<Figure size 432x288 with 1 Axes>"
            ]
          },
          "metadata": {
            "needs_background": "light"
          }
        }
      ]
    },
    {
      "cell_type": "code",
      "metadata": {
        "id": "Wbixu3sgk12d"
      },
      "source": [
        "##MAXIMAL COUPLING OF Q\n",
        "def maximal_coupling(x,y):\n",
        "      cov = np.array([[1, 0], [0, 1]]) \n",
        "      mu = np.array([0,0]) \n",
        "      current_x = x\n",
        "      current_y = y  \n",
        "      proposed_x = current_x + np.random.multivariate_normal(mean=mu, cov=cov, size=1)\n",
        "      pX = sstat.norm.pdf(proposed_x,current_x,1)\n",
        "      w = tfd.Uniform(0,1).sample()*pX\n",
        "      qX = sstat.norm.pdf(proposed_x,current_y,1)\n",
        "      if w < qX:\n",
        "          x_new = proposed_x\n",
        "          y_new = proposed_x\n",
        "      else:\n",
        "          t = True\n",
        "          while t == True:\n",
        "                proposed_y = current_y + np.random.multivariate_normal(mean=mu, cov=cov, size=1)\n",
        "                qY =  sstat.norm.pdf(proposed_y,current_y,1) \n",
        "                w =  tfd.Uniform(0,1).sample()*qY\n",
        "                pY = sstat.norm.pdf(proposed_y,current_x,1)\n",
        "                if w > pY :\n",
        "                  t= False\n",
        "\n",
        "          x_new = proposed_x\n",
        "          y_new = proposed_y  \n",
        "\n",
        "\n",
        "      return [x_new, y_new]\n"
      ],
      "execution_count": null,
      "outputs": []
    },
    {
      "cell_type": "code",
      "metadata": {
        "colab": {
          "base_uri": "https://localhost:8080/"
        },
        "id": "4BVo0fcFq8HX",
        "outputId": "17aae4cc-af7a-4134-89ac-31a9b0fc2962"
      },
      "source": [
        "current_x = [6,3]\n",
        "proposed_x = current_x + np.random.multivariate_normal(mean=mu, cov=cov, size=1)\n",
        "pX = sstat.norm.pdf(proposed_x,current_x,1)\n",
        "pX\n",
        "     # w = tfd.Uniform(0,1).sample()*pX\n",
        "     # qX = sstat.norm.pdf(proposed_x,current_y,1)"
      ],
      "execution_count": null,
      "outputs": [
        {
          "output_type": "execute_result",
          "data": {
            "text/plain": [
              "array([[0.37736376, 0.02432528]])"
            ]
          },
          "metadata": {},
          "execution_count": 29
        }
      ]
    },
    {
      "cell_type": "code",
      "metadata": {
        "id": "7sWoZRCLkuSo"
      },
      "source": [
        "def metropolis_hastings(x_0,y_0):   \n",
        "  XX = []\n",
        "  XX.append([x_0,y_0])\n",
        "  XXX=[]\n",
        "  YYY=[] \n",
        "  x_old = x_0\n",
        "  y_old = y_0\n",
        "  for i in range(it):     \n",
        "           new_states = maximal_coupling(x_old,y_old)\n",
        "           x_can = new_states[0]\n",
        "           u = tfd.Uniform(0,1).sample()\n",
        "           xprob =  min([1.,(target(x_can)/(target(x_old)))]) \n",
        "           if u < xprob :\n",
        "               x_new = x_can\n",
        "           else: \n",
        "               x_new= x_old\n",
        "           y_can = new_states[1]\n",
        "           yprob =  min([1.,target(y_can)/target(y_old)]) \n",
        "           if u < yprob :\n",
        "                y_new =y_can\n",
        "           else: \n",
        "                y_new= y_old\n",
        "      \n",
        "           XX.append([x_new,y_new])\n",
        "           XXX.append(x_new)\n",
        "           YYY.append(y_new)\n",
        "           x_old=x_new\n",
        "           y_old=y_new\n",
        "           \n",
        "           "
      ],
      "execution_count": null,
      "outputs": []
    }
  ]
}