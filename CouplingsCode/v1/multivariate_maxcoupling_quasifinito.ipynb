{
 "cells": [
  {
   "cell_type": "code",
   "execution_count": 1,
   "metadata": {
    "id": "pss2eCR0ncmq"
   },
   "outputs": [],
   "source": [
    "import numpy as np\n",
    "import matplotlib.pyplot as plt\n",
    "import seaborn as sns\n",
    "import pandas as pd\n",
    "import scipy.stats as sstat\n",
    "from mpmath import mp\n",
    "import math\n",
    "\n",
    "from tensorflow_probability.substrates import numpy as tfp\n",
    "tfd = tfp.distributions"
   ]
  },
  {
   "cell_type": "code",
   "execution_count": 2,
   "metadata": {
    "colab": {
     "base_uri": "https://localhost:8080/",
     "height": 265
    },
    "id": "d3elmkz8nm5I",
    "outputId": "7278ad8c-25ce-43fe-f9e5-b6588f1c83f9"
   },
   "outputs": [
    {
     "data": {
      "image/png": "[encoded data removed]",
      "text/plain": [
       "<Figure size 432x288 with 1 Axes>"
      ]
     },
     "metadata": {
      "needs_background": "light"
     },
     "output_type": "display_data"
    }
   ],
   "source": [
    "import numpy as np\n",
    "import matplotlib.pyplot as plt\n",
    "import seaborn as sns\n",
    "import pandas as pd\n",
    "import scipy.stats as sstat\n",
    "from mpmath import mp\n",
    "import math\n",
    "from scipy.stats import norm\n",
    "\n",
    "from tensorflow_probability.substrates import numpy as tfp\n",
    "tfd = tfp.distributions\n",
    "\n",
    "cov = np.array([[1, 0], [0, 1]]) \n",
    "mu = np.array([0,0]) \n",
    "r= np.random.multivariate_normal(mean=mu, cov=cov, size=1000)\n",
    "plt.scatter(r[:,0], r[:,1])\n",
    "plt.axis('equal')\n",
    "plt.show()"
   ]
  },
  {
   "cell_type": "code",
   "execution_count": 3,
   "metadata": {
    "id": "Wbixu3sgk12d"
   },
   "outputs": [],
   "source": [
    "##MAXIMAL COUPLING OF Q\n",
    "def maximal_coupling(x,y):\n",
    "      cov = np.array([[1, 0], [0, 1]]) \n",
    "      mu = np.array([0,0]) \n",
    "      current_x = x\n",
    "      current_y = y  \n",
    "      proposed_x = current_x + np.random.multivariate_normal(mean=mu, cov=cov, size=1)\n",
    "      pX = sstat.multivariate_normal(current_x,[[1,0],[0,1]]).pdf(proposed_x)\n",
    "      w = tfd.Uniform(0,1).sample()*pX\n",
    "      qX = sstat.multivariate_normal(current_y,[[1,0],[0,1]]).pdf(proposed_x)\n",
    "      if w < qX:\n",
    "          x_new = proposed_x\n",
    "          y_new = proposed_x\n",
    "      else:\n",
    "          t = True\n",
    "          while t == True:\n",
    "                proposed_y = current_y + np.random.multivariate_normal(mean=mu, cov=cov, size=1)\n",
    "                qY =  sstat.multivariate_normal(current_y,[[1,0],[0,1]]).pdf(proposed_y)\n",
    "                w =  tfd.Uniform(0,1).sample()*qY\n",
    "                pY = sstat.multivariate_normal(current_x,[[1,0],[0,1]]).pdf(proposed_y)\n",
    "                if w > pY :\n",
    "                  t= False\n",
    "\n",
    "          x_new = proposed_x\n",
    "          y_new = proposed_y  \n",
    "\n",
    "\n",
    "      return [x_new, y_new]\n"
   ]
  },
  {
   "cell_type": "code",
   "execution_count": 16,
   "metadata": {
    "colab": {
     "base_uri": "https://localhost:8080/"
    },
    "id": "4BVo0fcFq8HX",
    "outputId": "52c1377d-8599-4c49-d0fd-8acb687f789f"
   },
   "outputs": [
    {
     "data": {
      "text/plain": [
       "[array([[5.26458353, 4.17600039]]), array([[5.26458353, 4.17600039]])]"
      ]
     },
     "execution_count": 16,
     "metadata": {},
     "output_type": "execute_result"
    }
   ],
   "source": [
    "x = [6,3]\n",
    "y = [5,3]\n",
    "\n",
    "new_s = maximal_coupling(x,y)\n",
    "new_s\n",
    "#proposed_x = current_x + np.random.multivariate_normal(mean=mu, cov=cov, size=1)\n",
    "#pX = sstat.norm.pdf(proposed_x,current_x,1)\n",
    "#pX\n",
    "     # w = tfd.Uniform(0,1).sample()*pX\n",
    "     # qX = sstat.norm.pdf(proposed_x,current_y,1)"
   ]
  },
  {
   "cell_type": "code",
   "execution_count": null,
   "metadata": {
    "id": "ngSOHu4fLImX"
   },
   "outputs": [],
   "source": [
    "def target(x):\n",
    "     #va messa la posterior quindi prior*likelihood MULTIVARIATA\n",
    "     "
   ]
  },
  {
   "cell_type": "code",
   "execution_count": null,
   "metadata": {
    "id": "7sWoZRCLkuSo"
   },
   "outputs": [],
   "source": [
    "def metropolis_hastings(x_0,y_0):   \n",
    "  XX = []\n",
    "  XX.append([x_0,y_0])\n",
    "  XXX=[]\n",
    "  YYY=[] \n",
    "  x_old = x_0\n",
    "  y_old = y_0\n",
    "  for i in range(it):     \n",
    "           new_states = maximal_coupling(x_old,y_old)\n",
    "           x_can = new_states[0]\n",
    "           u = tfd.Uniform(0,1).sample()\n",
    "           xprob =  min([1.,(target(x_can)/(target(x_old)))]) \n",
    "           if u < xprob :\n",
    "               x_new = x_can\n",
    "           else: \n",
    "               x_new= x_old\n",
    "           y_can = new_states[1]\n",
    "           yprob =  min([1.,target(y_can)/target(y_old)]) \n",
    "           if u < yprob :\n",
    "                y_new =y_can\n",
    "           else: \n",
    "                y_new= y_old\n",
    "      \n",
    "           XX.append([x_new,y_new])\n",
    "           XXX.append(x_new)\n",
    "           YYY.append(y_new)\n",
    "           x_old=x_new\n",
    "           y_old=y_new\n",
    "           \n",
    "           "
   ]
  }
 ],
 "metadata": {
  "colab": {
   "collapsed_sections": [],
   "name": "multivariate_maxcoupling_quasifinito.ipynb",
   "provenance": []
  },
  "kernelspec": {
   "display_name": "Python 3 (ipykernel)",
   "language": "python",
   "name": "python3"
  },
  "language_info": {
   "codemirror_mode": {
    "name": "ipython",
    "version": 3
   },
   "file_extension": ".py",
   "mimetype": "text/x-python",
   "name": "python",
   "nbconvert_exporter": "python",
   "pygments_lexer": "ipython3",
   "version": "3.8.10"
  }
 },
 "nbformat": 4,
 "nbformat_minor": 4
}
